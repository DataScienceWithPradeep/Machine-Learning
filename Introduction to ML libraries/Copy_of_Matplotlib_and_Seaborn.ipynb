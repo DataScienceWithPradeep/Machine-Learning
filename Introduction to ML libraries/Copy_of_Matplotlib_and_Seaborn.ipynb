{
  "cells": [
    {
      "cell_type": "markdown",
      "id": "8ccc87e1",
      "metadata": {
        "id": "8ccc87e1"
      },
      "source": [
        "## **PANDAS**"
      ]
    },
    {
      "cell_type": "code",
      "execution_count": null,
      "id": "3e177bac",
      "metadata": {
        "id": "3e177bac",
        "outputId": "e01b4190-e5a0-420d-cb4d-1897c7b88a3f"
      },
      "outputs": [
        {
          "data": {
            "text/html": [
              "<div>\n",
              "<style scoped>\n",
              "    .dataframe tbody tr th:only-of-type {\n",
              "        vertical-align: middle;\n",
              "    }\n",
              "\n",
              "    .dataframe tbody tr th {\n",
              "        vertical-align: top;\n",
              "    }\n",
              "\n",
              "    .dataframe thead th {\n",
              "        text-align: right;\n",
              "    }\n",
              "</style>\n",
              "<table border=\"1\" class=\"dataframe\">\n",
              "  <thead>\n",
              "    <tr style=\"text-align: right;\">\n",
              "      <th></th>\n",
              "      <th>account</th>\n",
              "      <th>name</th>\n",
              "      <th>street</th>\n",
              "      <th>city</th>\n",
              "      <th>state</th>\n",
              "      <th>postal-code</th>\n",
              "      <th>Jan</th>\n",
              "      <th>Feb</th>\n",
              "      <th>Mar</th>\n",
              "      <th>category</th>\n",
              "    </tr>\n",
              "  </thead>\n",
              "  <tbody>\n",
              "    <tr>\n",
              "      <th>0</th>\n",
              "      <td>211829</td>\n",
              "      <td>Kerluke, Koepp and Hilpert</td>\n",
              "      <td>34456 Sean Highway</td>\n",
              "      <td>New Jaycob</td>\n",
              "      <td>Texas</td>\n",
              "      <td>28752</td>\n",
              "      <td>10000</td>\n",
              "      <td>62000</td>\n",
              "      <td>35000</td>\n",
              "      <td>A</td>\n",
              "    </tr>\n",
              "    <tr>\n",
              "      <th>1</th>\n",
              "      <td>320563</td>\n",
              "      <td>Walter-Trantow</td>\n",
              "      <td>1311 Alvis Tunnel</td>\n",
              "      <td>Port Khadijah</td>\n",
              "      <td>NorthCarolina</td>\n",
              "      <td>38365</td>\n",
              "      <td>95000</td>\n",
              "      <td>45000</td>\n",
              "      <td>35000</td>\n",
              "      <td>B</td>\n",
              "    </tr>\n",
              "    <tr>\n",
              "      <th>2</th>\n",
              "      <td>648336</td>\n",
              "      <td>Bashirian, Kunde and Price</td>\n",
              "      <td>62184 Schamberger Underpass Apt. 231</td>\n",
              "      <td>New Lilianland</td>\n",
              "      <td>Iowa</td>\n",
              "      <td>76517</td>\n",
              "      <td>91000</td>\n",
              "      <td>120000</td>\n",
              "      <td>35000</td>\n",
              "      <td>C</td>\n",
              "    </tr>\n",
              "    <tr>\n",
              "      <th>3</th>\n",
              "      <td>109996</td>\n",
              "      <td>D'Amore, Gleichner and Bode</td>\n",
              "      <td>155 Fadel Crescent Apt. 144</td>\n",
              "      <td>Hyattburgh</td>\n",
              "      <td>Maine</td>\n",
              "      <td>46021</td>\n",
              "      <td>45000</td>\n",
              "      <td>120000</td>\n",
              "      <td>10000</td>\n",
              "      <td>A</td>\n",
              "    </tr>\n",
              "    <tr>\n",
              "      <th>4</th>\n",
              "      <td>121213</td>\n",
              "      <td>Bauch-Goldner</td>\n",
              "      <td>7274 Marissa Common</td>\n",
              "      <td>Shanahanchester</td>\n",
              "      <td>California</td>\n",
              "      <td>49681</td>\n",
              "      <td>162000</td>\n",
              "      <td>120000</td>\n",
              "      <td>35000</td>\n",
              "      <td>A</td>\n",
              "    </tr>\n",
              "  </tbody>\n",
              "</table>\n",
              "</div>"
            ],
            "text/plain": [
              "   account                         name                                street  \\\n",
              "0   211829   Kerluke, Koepp and Hilpert                    34456 Sean Highway   \n",
              "1   320563               Walter-Trantow                     1311 Alvis Tunnel   \n",
              "2   648336   Bashirian, Kunde and Price  62184 Schamberger Underpass Apt. 231   \n",
              "3   109996  D'Amore, Gleichner and Bode           155 Fadel Crescent Apt. 144   \n",
              "4   121213                Bauch-Goldner                   7274 Marissa Common   \n",
              "\n",
              "              city          state  postal-code     Jan     Feb    Mar category  \n",
              "0       New Jaycob          Texas        28752   10000   62000  35000        A  \n",
              "1    Port Khadijah  NorthCarolina        38365   95000   45000  35000        B  \n",
              "2   New Lilianland           Iowa        76517   91000  120000  35000        C  \n",
              "3       Hyattburgh          Maine        46021   45000  120000  10000        A  \n",
              "4  Shanahanchester     California        49681  162000  120000  35000        A  "
            ]
          },
          "execution_count": 30,
          "metadata": {},
          "output_type": "execute_result"
        }
      ],
      "source": [
        "#import excel data into a pandas dataframe.\n",
        "import pandas as pd\n",
        "df = pd.read_excel(\"C:/Pulkit_D/AAFT/Sem 2/Python for Data Science/Lecture Slides/sales_data.xlsx\")\n",
        "df.head()"
      ]
    },
    {
      "cell_type": "code",
      "execution_count": null,
      "id": "3f41166a",
      "metadata": {
        "id": "3f41166a",
        "outputId": "2d603f1c-2c0c-4c52-ac1e-c256552eb390"
      },
      "outputs": [
        {
          "data": {
            "text/html": [
              "<div>\n",
              "<style scoped>\n",
              "    .dataframe tbody tr th:only-of-type {\n",
              "        vertical-align: middle;\n",
              "    }\n",
              "\n",
              "    .dataframe tbody tr th {\n",
              "        vertical-align: top;\n",
              "    }\n",
              "\n",
              "    .dataframe thead th {\n",
              "        text-align: right;\n",
              "    }\n",
              "</style>\n",
              "<table border=\"1\" class=\"dataframe\">\n",
              "  <thead>\n",
              "    <tr style=\"text-align: right;\">\n",
              "      <th></th>\n",
              "      <th>account</th>\n",
              "      <th>name</th>\n",
              "      <th>street</th>\n",
              "      <th>city</th>\n",
              "      <th>state</th>\n",
              "      <th>postal-code</th>\n",
              "      <th>Jan</th>\n",
              "      <th>Feb</th>\n",
              "      <th>Mar</th>\n",
              "      <th>category</th>\n",
              "      <th>total</th>\n",
              "    </tr>\n",
              "  </thead>\n",
              "  <tbody>\n",
              "    <tr>\n",
              "      <th>0</th>\n",
              "      <td>211829</td>\n",
              "      <td>Kerluke, Koepp and Hilpert</td>\n",
              "      <td>34456 Sean Highway</td>\n",
              "      <td>New Jaycob</td>\n",
              "      <td>Texas</td>\n",
              "      <td>28752</td>\n",
              "      <td>10000</td>\n",
              "      <td>62000</td>\n",
              "      <td>35000</td>\n",
              "      <td>A</td>\n",
              "      <td>107000</td>\n",
              "    </tr>\n",
              "    <tr>\n",
              "      <th>1</th>\n",
              "      <td>320563</td>\n",
              "      <td>Walter-Trantow</td>\n",
              "      <td>1311 Alvis Tunnel</td>\n",
              "      <td>Port Khadijah</td>\n",
              "      <td>NorthCarolina</td>\n",
              "      <td>38365</td>\n",
              "      <td>95000</td>\n",
              "      <td>45000</td>\n",
              "      <td>35000</td>\n",
              "      <td>B</td>\n",
              "      <td>175000</td>\n",
              "    </tr>\n",
              "    <tr>\n",
              "      <th>2</th>\n",
              "      <td>648336</td>\n",
              "      <td>Bashirian, Kunde and Price</td>\n",
              "      <td>62184 Schamberger Underpass Apt. 231</td>\n",
              "      <td>New Lilianland</td>\n",
              "      <td>Iowa</td>\n",
              "      <td>76517</td>\n",
              "      <td>91000</td>\n",
              "      <td>120000</td>\n",
              "      <td>35000</td>\n",
              "      <td>C</td>\n",
              "      <td>246000</td>\n",
              "    </tr>\n",
              "    <tr>\n",
              "      <th>3</th>\n",
              "      <td>109996</td>\n",
              "      <td>D'Amore, Gleichner and Bode</td>\n",
              "      <td>155 Fadel Crescent Apt. 144</td>\n",
              "      <td>Hyattburgh</td>\n",
              "      <td>Maine</td>\n",
              "      <td>46021</td>\n",
              "      <td>45000</td>\n",
              "      <td>120000</td>\n",
              "      <td>10000</td>\n",
              "      <td>A</td>\n",
              "      <td>175000</td>\n",
              "    </tr>\n",
              "    <tr>\n",
              "      <th>4</th>\n",
              "      <td>121213</td>\n",
              "      <td>Bauch-Goldner</td>\n",
              "      <td>7274 Marissa Common</td>\n",
              "      <td>Shanahanchester</td>\n",
              "      <td>California</td>\n",
              "      <td>49681</td>\n",
              "      <td>162000</td>\n",
              "      <td>120000</td>\n",
              "      <td>35000</td>\n",
              "      <td>A</td>\n",
              "      <td>317000</td>\n",
              "    </tr>\n",
              "  </tbody>\n",
              "</table>\n",
              "</div>"
            ],
            "text/plain": [
              "   account                         name                                street  \\\n",
              "0   211829   Kerluke, Koepp and Hilpert                    34456 Sean Highway   \n",
              "1   320563               Walter-Trantow                     1311 Alvis Tunnel   \n",
              "2   648336   Bashirian, Kunde and Price  62184 Schamberger Underpass Apt. 231   \n",
              "3   109996  D'Amore, Gleichner and Bode           155 Fadel Crescent Apt. 144   \n",
              "4   121213                Bauch-Goldner                   7274 Marissa Common   \n",
              "\n",
              "              city          state  postal-code     Jan     Feb    Mar  \\\n",
              "0       New Jaycob          Texas        28752   10000   62000  35000   \n",
              "1    Port Khadijah  NorthCarolina        38365   95000   45000  35000   \n",
              "2   New Lilianland           Iowa        76517   91000  120000  35000   \n",
              "3       Hyattburgh          Maine        46021   45000  120000  10000   \n",
              "4  Shanahanchester     California        49681  162000  120000  35000   \n",
              "\n",
              "  category   total  \n",
              "0        A  107000  \n",
              "1        B  175000  \n",
              "2        C  246000  \n",
              "3        A  175000  \n",
              "4        A  317000  "
            ]
          },
          "execution_count": 31,
          "metadata": {},
          "output_type": "execute_result"
        }
      ],
      "source": [
        "#We want to add a total column to show total sales for Jan, Feb and Mar.\n",
        "\n",
        "df[\"total\"] = df[\"Jan\"] + df[\"Feb\"] + df[\"Mar\"]\n",
        "df.head()"
      ]
    },
    {
      "cell_type": "markdown",
      "id": "8f44095e",
      "metadata": {
        "id": "8f44095e"
      },
      "source": [
        "## **BAR PLOT**\n",
        "\n"
      ]
    },
    {
      "cell_type": "code",
      "execution_count": null,
      "id": "7270db4d",
      "metadata": {
        "id": "7270db4d",
        "outputId": "4898a943-dde2-46b9-e34c-ee5ec0f4e909"
      },
      "outputs": [
        {
          "data": {
            "image/png": "[encoded data removed]",
            "text/plain": [
              "<Figure size 432x288 with 1 Axes>"
            ]
          },
          "metadata": {
            "needs_background": "light"
          },
          "output_type": "display_data"
        }
      ],
      "source": [
        "import matplotlib.pyplot as plt\n",
        "df['total'].plot(kind=\"bar\")\n",
        "plt.xlabel(\"Accounts\")\n",
        "plt.ylabel(\"Total\")\n",
        "plt.title(\"Bar Plot\")\n",
        "plt.show()"
      ]
    },
    {
      "cell_type": "code",
      "execution_count": null,
      "id": "9e3afe05",
      "metadata": {
        "id": "9e3afe05",
        "outputId": "0563b651-6593-46aa-c27e-bc70201fb3a1"
      },
      "outputs": [
        {
          "data": {
            "image/png": "[encoded data removed]",
            "text/plain": [
              "<Figure size 432x288 with 1 Axes>"
            ]
          },
          "metadata": {
            "needs_background": "light"
          },
          "output_type": "display_data"
        }
      ],
      "source": [
        "import matplotlib.pyplot as plt\n",
        "df['total'].plot(kind=\"hist\")\n",
        "plt.xlabel(\"X axis label\")\n",
        "plt.ylabel(\"Y axis label\")\n",
        "plt.title(\"Histogram Plot\")\n",
        "plt.show()"
      ]
    },
    {
      "cell_type": "code",
      "execution_count": null,
      "id": "82a2a60c",
      "metadata": {
        "id": "82a2a60c",
        "outputId": "a8b899d5-9ee2-4017-a3e4-a3d3ac4a004d"
      },
      "outputs": [
        {
          "data": {
            "image/png": "[encoded data removed]",
            "text/plain": [
              "<Figure size 432x288 with 1 Axes>"
            ]
          },
          "metadata": {
            "needs_background": "light"
          },
          "output_type": "display_data"
        }
      ],
      "source": [
        "df['total'].plot()\n",
        "plt.show()"
      ]
    },
    {
      "cell_type": "code",
      "execution_count": null,
      "id": "9a8c6bf2",
      "metadata": {
        "id": "9a8c6bf2",
        "outputId": "209afe80-cf1a-4a40-d781-44175ec39735"
      },
      "outputs": [
        {
          "data": {
            "image/png": "[encoded data removed]",
            "text/plain": [
              "<Figure size 432x288 with 1 Axes>"
            ]
          },
          "metadata": {},
          "output_type": "display_data"
        }
      ],
      "source": [
        "category_data = df[\"account\"]\n",
        "total_data = df[\"total\"]\n",
        "plt.pie(total_data, labels=category_data, autopct='%1.1f%%')\n",
        "plt.title(\"% of total sales of each account\")\n",
        "plt.show()"
      ]
    },
    {
      "cell_type": "markdown",
      "id": "057b9c18",
      "metadata": {
        "id": "057b9c18"
      },
      "source": [
        "## **Football Dataset**"
      ]
    },
    {
      "cell_type": "code",
      "execution_count": null,
      "id": "5908f840",
      "metadata": {
        "colab": {
          "base_uri": "https://localhost:8080/",
          "height": 583
        },
        "id": "5908f840",
        "outputId": "d77f217b-30e8-44a1-f863-7d9b55ad5c90"
      },
      "outputs": [
        {
          "output_type": "execute_result",
          "data": {
            "text/plain": [
              "   Pos             Team  Seasons Points GamesPlayed GamesWon GamesDrawn  \\\n",
              "0    1      Real Madrid       86   4385        2762     1647        552   \n",
              "1    2        Barcelona       86   4262        2762     1581        573   \n",
              "2    3  Atletico Madrid       80   3442        2614     1241        598   \n",
              "3    4         Valencia       82   3386        2664     1187        616   \n",
              "4    5  Athletic Bilbao       86   3368        2762     1209        633   \n",
              "5    6          Sevilla       73   2819        2408      990        531   \n",
              "6    7         Espanyol       82   2792        2626      948        608   \n",
              "7    8    Real Sociedad       70   2573        2302      864        577   \n",
              "8    9         Zaragoza       58   2109        1986      698        522   \n",
              "9   10       Real Betis       51   1884        1728      606        440   \n",
              "\n",
              "  GamesLost GoalsFor GoalsAgainst Champion Runner-up Third Fourth Fifth Sixth  \\\n",
              "0       563     5947         3140       33        23     8      8     3     4   \n",
              "1       608     5900         3114       25        25    12     12     4     6   \n",
              "2       775     4534         3309       10         8    16      9     7     6   \n",
              "3       861     4398         3469        6         6    10     11    10     7   \n",
              "4       920     4631         3700        8         7    10      5     8    10   \n",
              "5       887     3680         3373        1         4     4      5    12     6   \n",
              "6      1070     3609         3889        -         -     4      5     2     5   \n",
              "7       861     3228         3230        2         3     2      5     4     3   \n",
              "8       766     2683         2847        -         1     4      5     4     4   \n",
              "9       682     2159         2492        1         -     2      3     4     4   \n",
              "\n",
              "     Debut  BestPosition  \n",
              "0     1929             1  \n",
              "1     1929             1  \n",
              "2     1929             1  \n",
              "3  1931-32             1  \n",
              "4     1929             1  \n",
              "5  1934-35             1  \n",
              "6     1929             3  \n",
              "7     1929             1  \n",
              "8  1939-40             2  \n",
              "9  1932-33             1  "
            ],
            "text/html": [
              "\n",
              "  <div id=\"df-8fedde86-6a7a-4993-9e64-931004ac3db0\">\n",
              "    <div class=\"colab-df-container\">\n",
              "      <div>\n",
              "<style scoped>\n",
              "    .dataframe tbody tr th:only-of-type {\n",
              "        vertical-align: middle;\n",
              "    }\n",
              "\n",
              "    .dataframe tbody tr th {\n",
              "        vertical-align: top;\n",
              "    }\n",
              "\n",
              "    .dataframe thead th {\n",
              "        text-align: right;\n",
              "    }\n",
              "</style>\n",
              "<table border=\"1\" class=\"dataframe\">\n",
              "  <thead>\n",
              "    <tr style=\"text-align: right;\">\n",
              "      <th></th>\n",
              "      <th>Pos</th>\n",
              "      <th>Team</th>\n",
              "      <th>Seasons</th>\n",
              "      <th>Points</th>\n",
              "      <th>GamesPlayed</th>\n",
              "      <th>GamesWon</th>\n",
              "      <th>GamesDrawn</th>\n",
              "      <th>GamesLost</th>\n",
              "      <th>GoalsFor</th>\n",
              "      <th>GoalsAgainst</th>\n",
              "      <th>Champion</th>\n",
              "      <th>Runner-up</th>\n",
              "      <th>Third</th>\n",
              "      <th>Fourth</th>\n",
              "      <th>Fifth</th>\n",
              "      <th>Sixth</th>\n",
              "      <th>Debut</th>\n",
              "      <th>BestPosition</th>\n",
              "    </tr>\n",
              "  </thead>\n",
              "  <tbody>\n",
              "    <tr>\n",
              "      <th>0</th>\n",
              "      <td>1</td>\n",
              "      <td>Real Madrid</td>\n",
              "      <td>86</td>\n",
              "      <td>4385</td>\n",
              "      <td>2762</td>\n",
              "      <td>1647</td>\n",
              "      <td>552</td>\n",
              "      <td>563</td>\n",
              "      <td>5947</td>\n",
              "      <td>3140</td>\n",
              "      <td>33</td>\n",
              "      <td>23</td>\n",
              "      <td>8</td>\n",
              "      <td>8</td>\n",
              "      <td>3</td>\n",
              "      <td>4</td>\n",
              "      <td>1929</td>\n",
              "      <td>1</td>\n",
              "    </tr>\n",
              "    <tr>\n",
              "      <th>1</th>\n",
              "      <td>2</td>\n",
              "      <td>Barcelona</td>\n",
              "      <td>86</td>\n",
              "      <td>4262</td>\n",
              "      <td>2762</td>\n",
              "      <td>1581</td>\n",
              "      <td>573</td>\n",
              "      <td>608</td>\n",
              "      <td>5900</td>\n",
              "      <td>3114</td>\n",
              "      <td>25</td>\n",
              "      <td>25</td>\n",
              "      <td>12</td>\n",
              "      <td>12</td>\n",
              "      <td>4</td>\n",
              "      <td>6</td>\n",
              "      <td>1929</td>\n",
              "      <td>1</td>\n",
              "    </tr>\n",
              "    <tr>\n",
              "      <th>2</th>\n",
              "      <td>3</td>\n",
              "      <td>Atletico Madrid</td>\n",
              "      <td>80</td>\n",
              "      <td>3442</td>\n",
              "      <td>2614</td>\n",
              "      <td>1241</td>\n",
              "      <td>598</td>\n",
              "      <td>775</td>\n",
              "      <td>4534</td>\n",
              "      <td>3309</td>\n",
              "      <td>10</td>\n",
              "      <td>8</td>\n",
              "      <td>16</td>\n",
              "      <td>9</td>\n",
              "      <td>7</td>\n",
              "      <td>6</td>\n",
              "      <td>1929</td>\n",
              "      <td>1</td>\n",
              "    </tr>\n",
              "    <tr>\n",
              "      <th>3</th>\n",
              "      <td>4</td>\n",
              "      <td>Valencia</td>\n",
              "      <td>82</td>\n",
              "      <td>3386</td>\n",
              "      <td>2664</td>\n",
              "      <td>1187</td>\n",
              "      <td>616</td>\n",
              "      <td>861</td>\n",
              "      <td>4398</td>\n",
              "      <td>3469</td>\n",
              "      <td>6</td>\n",
              "      <td>6</td>\n",
              "      <td>10</td>\n",
              "      <td>11</td>\n",
              "      <td>10</td>\n",
              "      <td>7</td>\n",
              "      <td>1931-32</td>\n",
              "      <td>1</td>\n",
              "    </tr>\n",
              "    <tr>\n",
              "      <th>4</th>\n",
              "      <td>5</td>\n",
              "      <td>Athletic Bilbao</td>\n",
              "      <td>86</td>\n",
              "      <td>3368</td>\n",
              "      <td>2762</td>\n",
              "      <td>1209</td>\n",
              "      <td>633</td>\n",
              "      <td>920</td>\n",
              "      <td>4631</td>\n",
              "      <td>3700</td>\n",
              "      <td>8</td>\n",
              "      <td>7</td>\n",
              "      <td>10</td>\n",
              "      <td>5</td>\n",
              "      <td>8</td>\n",
              "      <td>10</td>\n",
              "      <td>1929</td>\n",
              "      <td>1</td>\n",
              "    </tr>\n",
              "    <tr>\n",
              "      <th>5</th>\n",
              "      <td>6</td>\n",
              "      <td>Sevilla</td>\n",
              "      <td>73</td>\n",
              "      <td>2819</td>\n",
              "      <td>2408</td>\n",
              "      <td>990</td>\n",
              "      <td>531</td>\n",
              "      <td>887</td>\n",
              "      <td>3680</td>\n",
              "      <td>3373</td>\n",
              "      <td>1</td>\n",
              "      <td>4</td>\n",
              "      <td>4</td>\n",
              "      <td>5</td>\n",
              "      <td>12</td>\n",
              "      <td>6</td>\n",
              "      <td>1934-35</td>\n",
              "      <td>1</td>\n",
              "    </tr>\n",
              "    <tr>\n",
              "      <th>6</th>\n",
              "      <td>7</td>\n",
              "      <td>Espanyol</td>\n",
              "      <td>82</td>\n",
              "      <td>2792</td>\n",
              "      <td>2626</td>\n",
              "      <td>948</td>\n",
              "      <td>608</td>\n",
              "      <td>1070</td>\n",
              "      <td>3609</td>\n",
              "      <td>3889</td>\n",
              "      <td>-</td>\n",
              "      <td>-</td>\n",
              "      <td>4</td>\n",
              "      <td>5</td>\n",
              "      <td>2</td>\n",
              "      <td>5</td>\n",
              "      <td>1929</td>\n",
              "      <td>3</td>\n",
              "    </tr>\n",
              "    <tr>\n",
              "      <th>7</th>\n",
              "      <td>8</td>\n",
              "      <td>Real Sociedad</td>\n",
              "      <td>70</td>\n",
              "      <td>2573</td>\n",
              "      <td>2302</td>\n",
              "      <td>864</td>\n",
              "      <td>577</td>\n",
              "      <td>861</td>\n",
              "      <td>3228</td>\n",
              "      <td>3230</td>\n",
              "      <td>2</td>\n",
              "      <td>3</td>\n",
              "      <td>2</td>\n",
              "      <td>5</td>\n",
              "      <td>4</td>\n",
              "      <td>3</td>\n",
              "      <td>1929</td>\n",
              "      <td>1</td>\n",
              "    </tr>\n",
              "    <tr>\n",
              "      <th>8</th>\n",
              "      <td>9</td>\n",
              "      <td>Zaragoza</td>\n",
              "      <td>58</td>\n",
              "      <td>2109</td>\n",
              "      <td>1986</td>\n",
              "      <td>698</td>\n",
              "      <td>522</td>\n",
              "      <td>766</td>\n",
              "      <td>2683</td>\n",
              "      <td>2847</td>\n",
              "      <td>-</td>\n",
              "      <td>1</td>\n",
              "      <td>4</td>\n",
              "      <td>5</td>\n",
              "      <td>4</td>\n",
              "      <td>4</td>\n",
              "      <td>1939-40</td>\n",
              "      <td>2</td>\n",
              "    </tr>\n",
              "    <tr>\n",
              "      <th>9</th>\n",
              "      <td>10</td>\n",
              "      <td>Real Betis</td>\n",
              "      <td>51</td>\n",
              "      <td>1884</td>\n",
              "      <td>1728</td>\n",
              "      <td>606</td>\n",
              "      <td>440</td>\n",
              "      <td>682</td>\n",
              "      <td>2159</td>\n",
              "      <td>2492</td>\n",
              "      <td>1</td>\n",
              "      <td>-</td>\n",
              "      <td>2</td>\n",
              "      <td>3</td>\n",
              "      <td>4</td>\n",
              "      <td>4</td>\n",
              "      <td>1932-33</td>\n",
              "      <td>1</td>\n",
              "    </tr>\n",
              "  </tbody>\n",
              "</table>\n",
              "</div>\n",
              "      <button class=\"colab-df-convert\" onclick=\"convertToInteractive('df-8fedde86-6a7a-4993-9e64-931004ac3db0')\"\n",
              "              title=\"Convert this dataframe to an interactive table.\"\n",
              "              style=\"display:none;\">\n",
              "        \n",
              "  <svg xmlns=\"http://www.w3.org/2000/svg\" height=\"24px\"viewBox=\"0 0 24 24\"\n",
              "       width=\"24px\">\n",
              "    <path d=\"M0 0h24v24H0V0z\" fill=\"none\"/>\n",
              "    <path d=\"M18.56 5.44l.94 2.06.94-2.06 2.06-.94-2.06-.94-.94-2.06-.94 2.06-2.06.94zm-11 1L8.5 8.5l.94-2.06 2.06-.94-2.06-.94L8.5 2.5l-.94 2.06-2.06.94zm10 10l.94 2.06.94-2.06 2.06-.94-2.06-.94-.94-2.06-.94 2.06-2.06.94z\"/><path d=\"M17.41 7.96l-1.37-1.37c-.4-.4-.92-.59-1.43-.59-.52 0-1.04.2-1.43.59L10.3 9.45l-7.72 7.72c-.78.78-.78 2.05 0 2.83L4 21.41c.39.39.9.59 1.41.59.51 0 1.02-.2 1.41-.59l7.78-7.78 2.81-2.81c.8-.78.8-2.07 0-2.86zM5.41 20L4 18.59l7.72-7.72 1.47 1.35L5.41 20z\"/>\n",
              "  </svg>\n",
              "      </button>\n",
              "      \n",
              "  <style>\n",
              "    .colab-df-container {\n",
              "      display:flex;\n",
              "      flex-wrap:wrap;\n",
              "      gap: 12px;\n",
              "    }\n",
              "\n",
              "    .colab-df-convert {\n",
              "      background-color: #E8F0FE;\n",
              "      border: none;\n",
              "      border-radius: 50%;\n",
              "      cursor: pointer;\n",
              "      display: none;\n",
              "      fill: #1967D2;\n",
              "      height: 32px;\n",
              "      padding: 0 0 0 0;\n",
              "      width: 32px;\n",
              "    }\n",
              "\n",
              "    .colab-df-convert:hover {\n",
              "      background-color: #E2EBFA;\n",
              "      box-shadow: 0px 1px 2px rgba(60, 64, 67, 0.3), 0px 1px 3px 1px rgba(60, 64, 67, 0.15);\n",
              "      fill: #174EA6;\n",
              "    }\n",
              "\n",
              "    [theme=dark] .colab-df-convert {\n",
              "      background-color: #3B4455;\n",
              "      fill: #D2E3FC;\n",
              "    }\n",
              "\n",
              "    [theme=dark] .colab-df-convert:hover {\n",
              "      background-color: #434B5C;\n",
              "      box-shadow: 0px 1px 3px 1px rgba(0, 0, 0, 0.15);\n",
              "      filter: drop-shadow(0px 1px 2px rgba(0, 0, 0, 0.3));\n",
              "      fill: #FFFFFF;\n",
              "    }\n",
              "  </style>\n",
              "\n",
              "      <script>\n",
              "        const buttonEl =\n",
              "          document.querySelector('#df-8fedde86-6a7a-4993-9e64-931004ac3db0 button.colab-df-convert');\n",
              "        buttonEl.style.display =\n",
              "          google.colab.kernel.accessAllowed ? 'block' : 'none';\n",
              "\n",
              "        async function convertToInteractive(key) {\n",
              "          const element = document.querySelector('#df-8fedde86-6a7a-4993-9e64-931004ac3db0');\n",
              "          const dataTable =\n",
              "            await google.colab.kernel.invokeFunction('convertToInteractive',\n",
              "                                                     [key], {});\n",
              "          if (!dataTable) return;\n",
              "\n",
              "          const docLinkHtml = 'Like what you see? Visit the ' +\n",
              "            '<a target=\"_blank\" href=https://colab.research.google.com/notebooks/data_table.ipynb>data table notebook</a>'\n",
              "            + ' to learn more about interactive tables.';\n",
              "          element.innerHTML = '';\n",
              "          dataTable['output_type'] = 'display_data';\n",
              "          await google.colab.output.renderOutput(dataTable, element);\n",
              "          const docLink = document.createElement('div');\n",
              "          docLink.innerHTML = docLinkHtml;\n",
              "          element.appendChild(docLink);\n",
              "        }\n",
              "      </script>\n",
              "    </div>\n",
              "  </div>\n",
              "  "
            ]
          },
          "metadata": {},
          "execution_count": 2
        }
      ],
      "source": [
        "import pandas as pd\n",
        "import matplotlib.pyplot as plt\n",
        "df = pd.read_excel(\"/content/Football_data.xlsx\")\n",
        "df.head(10)"
      ]
    },
    {
      "cell_type": "code",
      "execution_count": null,
      "id": "006c84f9",
      "metadata": {
        "colab": {
          "base_uri": "https://localhost:8080/",
          "height": 348
        },
        "id": "006c84f9",
        "outputId": "fef357c0-d18b-4ca4-c33a-3a4e28c3ff3e"
      },
      "outputs": [
        {
          "output_type": "display_data",
          "data": {
            "text/plain": [
              "<Figure size 1440x360 with 1 Axes>"
            ],
            "image/png": "[encoded data removed]"
          },
          "metadata": {
            "needs_background": "light"
          }
        }
      ],
      "source": [
        "df[\"BestPosition\"].plot(kind = \"bar\", figsize = (20,5), color = 'lightgreen')\n",
        "plt.xlabel(\"Best Position\")\n",
        "plt.ylabel(\"Frequency\")\n",
        "plt.title(\"Bar plot of Best Position\")\n",
        "plt.show()"
      ]
    },
    {
      "cell_type": "code",
      "execution_count": null,
      "id": "10140c0d",
      "metadata": {
        "id": "10140c0d",
        "outputId": "f0b2f3da-60e9-49c2-d822-7421726dcc72"
      },
      "outputs": [
        {
          "name": "stdout",
          "output_type": "stream",
          "text": [
            "<class 'pandas.core.frame.DataFrame'>\n",
            "RangeIndex: 61 entries, 0 to 60\n",
            "Data columns (total 18 columns):\n",
            " #   Column        Non-Null Count  Dtype \n",
            "---  ------        --------------  ----- \n",
            " 0   Pos           61 non-null     int64 \n",
            " 1   Team          61 non-null     object\n",
            " 2   Seasons       61 non-null     int64 \n",
            " 3   Points        61 non-null     object\n",
            " 4   GamesPlayed   61 non-null     object\n",
            " 5   GamesWon      61 non-null     object\n",
            " 6   GamesDrawn    61 non-null     object\n",
            " 7   GamesLost     61 non-null     object\n",
            " 8   GoalsFor      61 non-null     object\n",
            " 9   GoalsAgainst  61 non-null     object\n",
            " 10  Champion      61 non-null     object\n",
            " 11  Runner-up     61 non-null     object\n",
            " 12  Third         61 non-null     object\n",
            " 13  Fourth        61 non-null     object\n",
            " 14  Fifth         61 non-null     object\n",
            " 15  Sixth         61 non-null     object\n",
            " 16  Debut         61 non-null     object\n",
            " 17  BestPosition  61 non-null     int64 \n",
            "dtypes: int64(3), object(15)\n",
            "memory usage: 8.7+ KB\n"
          ]
        }
      ],
      "source": [
        "df.info()"
      ]
    },
    {
      "cell_type": "code",
      "execution_count": null,
      "id": "936cfc90",
      "metadata": {
        "colab": {
          "base_uri": "https://localhost:8080/",
          "height": 583
        },
        "id": "936cfc90",
        "outputId": "dfb47eb1-39b5-42d8-af04-3258b17100d2"
      },
      "outputs": [
        {
          "output_type": "execute_result",
          "data": {
            "text/plain": [
              "   Pos             Team  Seasons  Points  GamesPlayed  GamesWon  GamesDrawn  \\\n",
              "0    1      Real Madrid       86    4385         2762      1647         552   \n",
              "1    2        Barcelona       86    4262         2762      1581         573   \n",
              "2    3  Atletico Madrid       80    3442         2614      1241         598   \n",
              "3    4         Valencia       82    3386         2664      1187         616   \n",
              "4    5  Athletic Bilbao       86    3368         2762      1209         633   \n",
              "5    6          Sevilla       73    2819         2408       990         531   \n",
              "6    7         Espanyol       82    2792         2626       948         608   \n",
              "7    8    Real Sociedad       70    2573         2302       864         577   \n",
              "8    9         Zaragoza       58    2109         1986       698         522   \n",
              "9   10       Real Betis       51    1884         1728       606         440   \n",
              "\n",
              "   GamesLost  GoalsFor  GoalsAgainst  Champion  Runner-up  Third  Fourth  \\\n",
              "0        563      5947          3140        33         23      8       8   \n",
              "1        608      5900          3114        25         25     12      12   \n",
              "2        775      4534          3309        10          8     16       9   \n",
              "3        861      4398          3469         6          6     10      11   \n",
              "4        920      4631          3700         8          7     10       5   \n",
              "5        887      3680          3373         1          4      4       5   \n",
              "6       1070      3609          3889         0          0      4       5   \n",
              "7        861      3228          3230         2          3      2       5   \n",
              "8        766      2683          2847         0          1      4       5   \n",
              "9        682      2159          2492         1          0      2       3   \n",
              "\n",
              "   Fifth  Sixth    Debut  BestPosition  \n",
              "0      3      4     1929             1  \n",
              "1      4      6     1929             1  \n",
              "2      7      6     1929             1  \n",
              "3     10      7  1931-32             1  \n",
              "4      8     10     1929             1  \n",
              "5     12      6  1934-35             1  \n",
              "6      2      5     1929             3  \n",
              "7      4      3     1929             1  \n",
              "8      4      4  1939-40             2  \n",
              "9      4      4  1932-33             1  "
            ],
            "text/html": [
              "\n",
              "  <div id=\"df-f546e4ae-58d3-49b2-bee2-492fa3c6c498\">\n",
              "    <div class=\"colab-df-container\">\n",
              "      <div>\n",
              "<style scoped>\n",
              "    .dataframe tbody tr th:only-of-type {\n",
              "        vertical-align: middle;\n",
              "    }\n",
              "\n",
              "    .dataframe tbody tr th {\n",
              "        vertical-align: top;\n",
              "    }\n",
              "\n",
              "    .dataframe thead th {\n",
              "        text-align: right;\n",
              "    }\n",
              "</style>\n",
              "<table border=\"1\" class=\"dataframe\">\n",
              "  <thead>\n",
              "    <tr style=\"text-align: right;\">\n",
              "      <th></th>\n",
              "      <th>Pos</th>\n",
              "      <th>Team</th>\n",
              "      <th>Seasons</th>\n",
              "      <th>Points</th>\n",
              "      <th>GamesPlayed</th>\n",
              "      <th>GamesWon</th>\n",
              "      <th>GamesDrawn</th>\n",
              "      <th>GamesLost</th>\n",
              "      <th>GoalsFor</th>\n",
              "      <th>GoalsAgainst</th>\n",
              "      <th>Champion</th>\n",
              "      <th>Runner-up</th>\n",
              "      <th>Third</th>\n",
              "      <th>Fourth</th>\n",
              "      <th>Fifth</th>\n",
              "      <th>Sixth</th>\n",
              "      <th>Debut</th>\n",
              "      <th>BestPosition</th>\n",
              "    </tr>\n",
              "  </thead>\n",
              "  <tbody>\n",
              "    <tr>\n",
              "      <th>0</th>\n",
              "      <td>1</td>\n",
              "      <td>Real Madrid</td>\n",
              "      <td>86</td>\n",
              "      <td>4385</td>\n",
              "      <td>2762</td>\n",
              "      <td>1647</td>\n",
              "      <td>552</td>\n",
              "      <td>563</td>\n",
              "      <td>5947</td>\n",
              "      <td>3140</td>\n",
              "      <td>33</td>\n",
              "      <td>23</td>\n",
              "      <td>8</td>\n",
              "      <td>8</td>\n",
              "      <td>3</td>\n",
              "      <td>4</td>\n",
              "      <td>1929</td>\n",
              "      <td>1</td>\n",
              "    </tr>\n",
              "    <tr>\n",
              "      <th>1</th>\n",
              "      <td>2</td>\n",
              "      <td>Barcelona</td>\n",
              "      <td>86</td>\n",
              "      <td>4262</td>\n",
              "      <td>2762</td>\n",
              "      <td>1581</td>\n",
              "      <td>573</td>\n",
              "      <td>608</td>\n",
              "      <td>5900</td>\n",
              "      <td>3114</td>\n",
              "      <td>25</td>\n",
              "      <td>25</td>\n",
              "      <td>12</td>\n",
              "      <td>12</td>\n",
              "      <td>4</td>\n",
              "      <td>6</td>\n",
              "      <td>1929</td>\n",
              "      <td>1</td>\n",
              "    </tr>\n",
              "    <tr>\n",
              "      <th>2</th>\n",
              "      <td>3</td>\n",
              "      <td>Atletico Madrid</td>\n",
              "      <td>80</td>\n",
              "      <td>3442</td>\n",
              "      <td>2614</td>\n",
              "      <td>1241</td>\n",
              "      <td>598</td>\n",
              "      <td>775</td>\n",
              "      <td>4534</td>\n",
              "      <td>3309</td>\n",
              "      <td>10</td>\n",
              "      <td>8</td>\n",
              "      <td>16</td>\n",
              "      <td>9</td>\n",
              "      <td>7</td>\n",
              "      <td>6</td>\n",
              "      <td>1929</td>\n",
              "      <td>1</td>\n",
              "    </tr>\n",
              "    <tr>\n",
              "      <th>3</th>\n",
              "      <td>4</td>\n",
              "      <td>Valencia</td>\n",
              "      <td>82</td>\n",
              "      <td>3386</td>\n",
              "      <td>2664</td>\n",
              "      <td>1187</td>\n",
              "      <td>616</td>\n",
              "      <td>861</td>\n",
              "      <td>4398</td>\n",
              "      <td>3469</td>\n",
              "      <td>6</td>\n",
              "      <td>6</td>\n",
              "      <td>10</td>\n",
              "      <td>11</td>\n",
              "      <td>10</td>\n",
              "      <td>7</td>\n",
              "      <td>1931-32</td>\n",
              "      <td>1</td>\n",
              "    </tr>\n",
              "    <tr>\n",
              "      <th>4</th>\n",
              "      <td>5</td>\n",
              "      <td>Athletic Bilbao</td>\n",
              "      <td>86</td>\n",
              "      <td>3368</td>\n",
              "      <td>2762</td>\n",
              "      <td>1209</td>\n",
              "      <td>633</td>\n",
              "      <td>920</td>\n",
              "      <td>4631</td>\n",
              "      <td>3700</td>\n",
              "      <td>8</td>\n",
              "      <td>7</td>\n",
              "      <td>10</td>\n",
              "      <td>5</td>\n",
              "      <td>8</td>\n",
              "      <td>10</td>\n",
              "      <td>1929</td>\n",
              "      <td>1</td>\n",
              "    </tr>\n",
              "    <tr>\n",
              "      <th>5</th>\n",
              "      <td>6</td>\n",
              "      <td>Sevilla</td>\n",
              "      <td>73</td>\n",
              "      <td>2819</td>\n",
              "      <td>2408</td>\n",
              "      <td>990</td>\n",
              "      <td>531</td>\n",
              "      <td>887</td>\n",
              "      <td>3680</td>\n",
              "      <td>3373</td>\n",
              "      <td>1</td>\n",
              "      <td>4</td>\n",
              "      <td>4</td>\n",
              "      <td>5</td>\n",
              "      <td>12</td>\n",
              "      <td>6</td>\n",
              "      <td>1934-35</td>\n",
              "      <td>1</td>\n",
              "    </tr>\n",
              "    <tr>\n",
              "      <th>6</th>\n",
              "      <td>7</td>\n",
              "      <td>Espanyol</td>\n",
              "      <td>82</td>\n",
              "      <td>2792</td>\n",
              "      <td>2626</td>\n",
              "      <td>948</td>\n",
              "      <td>608</td>\n",
              "      <td>1070</td>\n",
              "      <td>3609</td>\n",
              "      <td>3889</td>\n",
              "      <td>0</td>\n",
              "      <td>0</td>\n",
              "      <td>4</td>\n",
              "      <td>5</td>\n",
              "      <td>2</td>\n",
              "      <td>5</td>\n",
              "      <td>1929</td>\n",
              "      <td>3</td>\n",
              "    </tr>\n",
              "    <tr>\n",
              "      <th>7</th>\n",
              "      <td>8</td>\n",
              "      <td>Real Sociedad</td>\n",
              "      <td>70</td>\n",
              "      <td>2573</td>\n",
              "      <td>2302</td>\n",
              "      <td>864</td>\n",
              "      <td>577</td>\n",
              "      <td>861</td>\n",
              "      <td>3228</td>\n",
              "      <td>3230</td>\n",
              "      <td>2</td>\n",
              "      <td>3</td>\n",
              "      <td>2</td>\n",
              "      <td>5</td>\n",
              "      <td>4</td>\n",
              "      <td>3</td>\n",
              "      <td>1929</td>\n",
              "      <td>1</td>\n",
              "    </tr>\n",
              "    <tr>\n",
              "      <th>8</th>\n",
              "      <td>9</td>\n",
              "      <td>Zaragoza</td>\n",
              "      <td>58</td>\n",
              "      <td>2109</td>\n",
              "      <td>1986</td>\n",
              "      <td>698</td>\n",
              "      <td>522</td>\n",
              "      <td>766</td>\n",
              "      <td>2683</td>\n",
              "      <td>2847</td>\n",
              "      <td>0</td>\n",
              "      <td>1</td>\n",
              "      <td>4</td>\n",
              "      <td>5</td>\n",
              "      <td>4</td>\n",
              "      <td>4</td>\n",
              "      <td>1939-40</td>\n",
              "      <td>2</td>\n",
              "    </tr>\n",
              "    <tr>\n",
              "      <th>9</th>\n",
              "      <td>10</td>\n",
              "      <td>Real Betis</td>\n",
              "      <td>51</td>\n",
              "      <td>1884</td>\n",
              "      <td>1728</td>\n",
              "      <td>606</td>\n",
              "      <td>440</td>\n",
              "      <td>682</td>\n",
              "      <td>2159</td>\n",
              "      <td>2492</td>\n",
              "      <td>1</td>\n",
              "      <td>0</td>\n",
              "      <td>2</td>\n",
              "      <td>3</td>\n",
              "      <td>4</td>\n",
              "      <td>4</td>\n",
              "      <td>1932-33</td>\n",
              "      <td>1</td>\n",
              "    </tr>\n",
              "  </tbody>\n",
              "</table>\n",
              "</div>\n",
              "      <button class=\"colab-df-convert\" onclick=\"convertToInteractive('df-f546e4ae-58d3-49b2-bee2-492fa3c6c498')\"\n",
              "              title=\"Convert this dataframe to an interactive table.\"\n",
              "              style=\"display:none;\">\n",
              "        \n",
              "  <svg xmlns=\"http://www.w3.org/2000/svg\" height=\"24px\"viewBox=\"0 0 24 24\"\n",
              "       width=\"24px\">\n",
              "    <path d=\"M0 0h24v24H0V0z\" fill=\"none\"/>\n",
              "    <path d=\"M18.56 5.44l.94 2.06.94-2.06 2.06-.94-2.06-.94-.94-2.06-.94 2.06-2.06.94zm-11 1L8.5 8.5l.94-2.06 2.06-.94-2.06-.94L8.5 2.5l-.94 2.06-2.06.94zm10 10l.94 2.06.94-2.06 2.06-.94-2.06-.94-.94-2.06-.94 2.06-2.06.94z\"/><path d=\"M17.41 7.96l-1.37-1.37c-.4-.4-.92-.59-1.43-.59-.52 0-1.04.2-1.43.59L10.3 9.45l-7.72 7.72c-.78.78-.78 2.05 0 2.83L4 21.41c.39.39.9.59 1.41.59.51 0 1.02-.2 1.41-.59l7.78-7.78 2.81-2.81c.8-.78.8-2.07 0-2.86zM5.41 20L4 18.59l7.72-7.72 1.47 1.35L5.41 20z\"/>\n",
              "  </svg>\n",
              "      </button>\n",
              "      \n",
              "  <style>\n",
              "    .colab-df-container {\n",
              "      display:flex;\n",
              "      flex-wrap:wrap;\n",
              "      gap: 12px;\n",
              "    }\n",
              "\n",
              "    .colab-df-convert {\n",
              "      background-color: #E8F0FE;\n",
              "      border: none;\n",
              "      border-radius: 50%;\n",
              "      cursor: pointer;\n",
              "      display: none;\n",
              "      fill: #1967D2;\n",
              "      height: 32px;\n",
              "      padding: 0 0 0 0;\n",
              "      width: 32px;\n",
              "    }\n",
              "\n",
              "    .colab-df-convert:hover {\n",
              "      background-color: #E2EBFA;\n",
              "      box-shadow: 0px 1px 2px rgba(60, 64, 67, 0.3), 0px 1px 3px 1px rgba(60, 64, 67, 0.15);\n",
              "      fill: #174EA6;\n",
              "    }\n",
              "\n",
              "    [theme=dark] .colab-df-convert {\n",
              "      background-color: #3B4455;\n",
              "      fill: #D2E3FC;\n",
              "    }\n",
              "\n",
              "    [theme=dark] .colab-df-convert:hover {\n",
              "      background-color: #434B5C;\n",
              "      box-shadow: 0px 1px 3px 1px rgba(0, 0, 0, 0.15);\n",
              "      filter: drop-shadow(0px 1px 2px rgba(0, 0, 0, 0.3));\n",
              "      fill: #FFFFFF;\n",
              "    }\n",
              "  </style>\n",
              "\n",
              "      <script>\n",
              "        const buttonEl =\n",
              "          document.querySelector('#df-f546e4ae-58d3-49b2-bee2-492fa3c6c498 button.colab-df-convert');\n",
              "        buttonEl.style.display =\n",
              "          google.colab.kernel.accessAllowed ? 'block' : 'none';\n",
              "\n",
              "        async function convertToInteractive(key) {\n",
              "          const element = document.querySelector('#df-f546e4ae-58d3-49b2-bee2-492fa3c6c498');\n",
              "          const dataTable =\n",
              "            await google.colab.kernel.invokeFunction('convertToInteractive',\n",
              "                                                     [key], {});\n",
              "          if (!dataTable) return;\n",
              "\n",
              "          const docLinkHtml = 'Like what you see? Visit the ' +\n",
              "            '<a target=\"_blank\" href=https://colab.research.google.com/notebooks/data_table.ipynb>data table notebook</a>'\n",
              "            + ' to learn more about interactive tables.';\n",
              "          element.innerHTML = '';\n",
              "          dataTable['output_type'] = 'display_data';\n",
              "          await google.colab.output.renderOutput(dataTable, element);\n",
              "          const docLink = document.createElement('div');\n",
              "          docLink.innerHTML = docLinkHtml;\n",
              "          element.appendChild(docLink);\n",
              "        }\n",
              "      </script>\n",
              "    </div>\n",
              "  </div>\n",
              "  "
            ]
          },
          "metadata": {},
          "execution_count": 5
        }
      ],
      "source": [
        "df = df.replace('-',0)\n",
        "df.head(10)"
      ]
    },
    {
      "cell_type": "code",
      "execution_count": null,
      "id": "57e9c94b",
      "metadata": {
        "id": "57e9c94b",
        "outputId": "03a8b092-a890-49f8-b5a4-bcdcf8efb128"
      },
      "outputs": [
        {
          "name": "stdout",
          "output_type": "stream",
          "text": [
            "<class 'pandas.core.frame.DataFrame'>\n",
            "RangeIndex: 61 entries, 0 to 60\n",
            "Data columns (total 18 columns):\n",
            " #   Column        Non-Null Count  Dtype \n",
            "---  ------        --------------  ----- \n",
            " 0   Pos           61 non-null     int64 \n",
            " 1   Team          61 non-null     object\n",
            " 2   Seasons       61 non-null     int64 \n",
            " 3   Points        61 non-null     int64 \n",
            " 4   GamesPlayed   61 non-null     int64 \n",
            " 5   GamesWon      61 non-null     int64 \n",
            " 6   GamesDrawn    61 non-null     int64 \n",
            " 7   GamesLost     61 non-null     int64 \n",
            " 8   GoalsFor      61 non-null     int64 \n",
            " 9   GoalsAgainst  61 non-null     int64 \n",
            " 10  Champion      61 non-null     int64 \n",
            " 11  Runner-up     61 non-null     int64 \n",
            " 12  Third         61 non-null     int64 \n",
            " 13  Fourth        61 non-null     int64 \n",
            " 14  Fifth         61 non-null     int64 \n",
            " 15  Sixth         61 non-null     int64 \n",
            " 16  Debut         61 non-null     object\n",
            " 17  BestPosition  61 non-null     int64 \n",
            "dtypes: int64(16), object(2)\n",
            "memory usage: 8.7+ KB\n"
          ]
        }
      ],
      "source": [
        "df.info()"
      ]
    },
    {
      "cell_type": "markdown",
      "id": "1cc34a5e",
      "metadata": {
        "id": "1cc34a5e"
      },
      "source": [
        "# **Plot Top 5 teams which has highet winning percentage**"
      ]
    },
    {
      "cell_type": "code",
      "execution_count": null,
      "id": "03236962",
      "metadata": {
        "colab": {
          "base_uri": "https://localhost:8080/",
          "height": 206
        },
        "id": "03236962",
        "outputId": "4e4bce8a-49c2-4034-80f1-0c6b91aa7223"
      },
      "outputs": [
        {
          "output_type": "execute_result",
          "data": {
            "text/plain": [
              "              Team  GamesPlayed  GamesWon  WinningPercent\n",
              "0      Real Madrid         2762      1647           59.63\n",
              "1        Barcelona         2762      1581           57.24\n",
              "2  Atletico Madrid         2614      1241           47.48\n",
              "3         Valencia         2664      1187           44.56\n",
              "4  Athletic Bilbao         2762      1209           43.77"
            ],
            "text/html": [
              "\n",
              "  <div id=\"df-f69f0a8f-29b7-48ec-a553-255622560ac8\">\n",
              "    <div class=\"colab-df-container\">\n",
              "      <div>\n",
              "<style scoped>\n",
              "    .dataframe tbody tr th:only-of-type {\n",
              "        vertical-align: middle;\n",
              "    }\n",
              "\n",
              "    .dataframe tbody tr th {\n",
              "        vertical-align: top;\n",
              "    }\n",
              "\n",
              "    .dataframe thead th {\n",
              "        text-align: right;\n",
              "    }\n",
              "</style>\n",
              "<table border=\"1\" class=\"dataframe\">\n",
              "  <thead>\n",
              "    <tr style=\"text-align: right;\">\n",
              "      <th></th>\n",
              "      <th>Team</th>\n",
              "      <th>GamesPlayed</th>\n",
              "      <th>GamesWon</th>\n",
              "      <th>WinningPercent</th>\n",
              "    </tr>\n",
              "  </thead>\n",
              "  <tbody>\n",
              "    <tr>\n",
              "      <th>0</th>\n",
              "      <td>Real Madrid</td>\n",
              "      <td>2762</td>\n",
              "      <td>1647</td>\n",
              "      <td>59.63</td>\n",
              "    </tr>\n",
              "    <tr>\n",
              "      <th>1</th>\n",
              "      <td>Barcelona</td>\n",
              "      <td>2762</td>\n",
              "      <td>1581</td>\n",
              "      <td>57.24</td>\n",
              "    </tr>\n",
              "    <tr>\n",
              "      <th>2</th>\n",
              "      <td>Atletico Madrid</td>\n",
              "      <td>2614</td>\n",
              "      <td>1241</td>\n",
              "      <td>47.48</td>\n",
              "    </tr>\n",
              "    <tr>\n",
              "      <th>3</th>\n",
              "      <td>Valencia</td>\n",
              "      <td>2664</td>\n",
              "      <td>1187</td>\n",
              "      <td>44.56</td>\n",
              "    </tr>\n",
              "    <tr>\n",
              "      <th>4</th>\n",
              "      <td>Athletic Bilbao</td>\n",
              "      <td>2762</td>\n",
              "      <td>1209</td>\n",
              "      <td>43.77</td>\n",
              "    </tr>\n",
              "  </tbody>\n",
              "</table>\n",
              "</div>\n",
              "      <button class=\"colab-df-convert\" onclick=\"convertToInteractive('df-f69f0a8f-29b7-48ec-a553-255622560ac8')\"\n",
              "              title=\"Convert this dataframe to an interactive table.\"\n",
              "              style=\"display:none;\">\n",
              "        \n",
              "  <svg xmlns=\"http://www.w3.org/2000/svg\" height=\"24px\"viewBox=\"0 0 24 24\"\n",
              "       width=\"24px\">\n",
              "    <path d=\"M0 0h24v24H0V0z\" fill=\"none\"/>\n",
              "    <path d=\"M18.56 5.44l.94 2.06.94-2.06 2.06-.94-2.06-.94-.94-2.06-.94 2.06-2.06.94zm-11 1L8.5 8.5l.94-2.06 2.06-.94-2.06-.94L8.5 2.5l-.94 2.06-2.06.94zm10 10l.94 2.06.94-2.06 2.06-.94-2.06-.94-.94-2.06-.94 2.06-2.06.94z\"/><path d=\"M17.41 7.96l-1.37-1.37c-.4-.4-.92-.59-1.43-.59-.52 0-1.04.2-1.43.59L10.3 9.45l-7.72 7.72c-.78.78-.78 2.05 0 2.83L4 21.41c.39.39.9.59 1.41.59.51 0 1.02-.2 1.41-.59l7.78-7.78 2.81-2.81c.8-.78.8-2.07 0-2.86zM5.41 20L4 18.59l7.72-7.72 1.47 1.35L5.41 20z\"/>\n",
              "  </svg>\n",
              "      </button>\n",
              "      \n",
              "  <style>\n",
              "    .colab-df-container {\n",
              "      display:flex;\n",
              "      flex-wrap:wrap;\n",
              "      gap: 12px;\n",
              "    }\n",
              "\n",
              "    .colab-df-convert {\n",
              "      background-color: #E8F0FE;\n",
              "      border: none;\n",
              "      border-radius: 50%;\n",
              "      cursor: pointer;\n",
              "      display: none;\n",
              "      fill: #1967D2;\n",
              "      height: 32px;\n",
              "      padding: 0 0 0 0;\n",
              "      width: 32px;\n",
              "    }\n",
              "\n",
              "    .colab-df-convert:hover {\n",
              "      background-color: #E2EBFA;\n",
              "      box-shadow: 0px 1px 2px rgba(60, 64, 67, 0.3), 0px 1px 3px 1px rgba(60, 64, 67, 0.15);\n",
              "      fill: #174EA6;\n",
              "    }\n",
              "\n",
              "    [theme=dark] .colab-df-convert {\n",
              "      background-color: #3B4455;\n",
              "      fill: #D2E3FC;\n",
              "    }\n",
              "\n",
              "    [theme=dark] .colab-df-convert:hover {\n",
              "      background-color: #434B5C;\n",
              "      box-shadow: 0px 1px 3px 1px rgba(0, 0, 0, 0.15);\n",
              "      filter: drop-shadow(0px 1px 2px rgba(0, 0, 0, 0.3));\n",
              "      fill: #FFFFFF;\n",
              "    }\n",
              "  </style>\n",
              "\n",
              "      <script>\n",
              "        const buttonEl =\n",
              "          document.querySelector('#df-f69f0a8f-29b7-48ec-a553-255622560ac8 button.colab-df-convert');\n",
              "        buttonEl.style.display =\n",
              "          google.colab.kernel.accessAllowed ? 'block' : 'none';\n",
              "\n",
              "        async function convertToInteractive(key) {\n",
              "          const element = document.querySelector('#df-f69f0a8f-29b7-48ec-a553-255622560ac8');\n",
              "          const dataTable =\n",
              "            await google.colab.kernel.invokeFunction('convertToInteractive',\n",
              "                                                     [key], {});\n",
              "          if (!dataTable) return;\n",
              "\n",
              "          const docLinkHtml = 'Like what you see? Visit the ' +\n",
              "            '<a target=\"_blank\" href=https://colab.research.google.com/notebooks/data_table.ipynb>data table notebook</a>'\n",
              "            + ' to learn more about interactive tables.';\n",
              "          element.innerHTML = '';\n",
              "          dataTable['output_type'] = 'display_data';\n",
              "          await google.colab.output.renderOutput(dataTable, element);\n",
              "          const docLink = document.createElement('div');\n",
              "          docLink.innerHTML = docLinkHtml;\n",
              "          element.appendChild(docLink);\n",
              "        }\n",
              "      </script>\n",
              "    </div>\n",
              "  </div>\n",
              "  "
            ]
          },
          "metadata": {},
          "execution_count": 6
        }
      ],
      "source": [
        "df['WinningPercent'] = round((df['GamesWon']/df['GamesPlayed'])*100,2)\n",
        "    \n",
        "df.head(5)[['Team','GamesPlayed','GamesWon','WinningPercent']]"
      ]
    },
    {
      "cell_type": "markdown",
      "id": "fd71b15c",
      "metadata": {
        "id": "fd71b15c"
      },
      "source": [
        "# **Pie-Chart**\n",
        "\n",
        "A pie chart (or a circle chart) is a circular statistical graphic, which is divided into slices to illustrate numerical proportion."
      ]
    },
    {
      "cell_type": "code",
      "execution_count": null,
      "id": "7896327c",
      "metadata": {
        "id": "7896327c",
        "outputId": "6e57b235-280e-41b1-c851-ff6e6e888ec0"
      },
      "outputs": [
        {
          "name": "stdout",
          "output_type": "stream",
          "text": [
            "Top 5 teams in terms of winning percentage:\n"
          ]
        },
        {
          "data": {
            "image/png": "[encoded data removed]",
            "text/plain": [
              "<Figure size 432x288 with 1 Axes>"
            ]
          },
          "metadata": {},
          "output_type": "display_data"
        }
      ],
      "source": [
        "# Top 5 teams which has highet winning percentage\n",
        "print(\"Top 5 teams in terms of winning percentage:\")\n",
        "df.nlargest(5,'WinningPercent')[['Team','GamesPlayed','GamesWon','WinningPercent']]\n",
        "df2 = df.head(5)\n",
        "category_data = df2[\"Team\"]\n",
        "total_data = df2[\"WinningPercent\"]\n",
        "plt.pie(total_data, labels = category_data, autopct =\"%1.1f%%\")\n",
        "plt.title(\"Winning Percentage\")\n",
        "plt.show()"
      ]
    },
    {
      "cell_type": "code",
      "execution_count": null,
      "id": "a240f899",
      "metadata": {
        "id": "a240f899",
        "outputId": "82c47f4d-1160-48b0-f68d-da988f0b7ee3"
      },
      "outputs": [
        {
          "data": {
            "text/html": [
              "<div>\n",
              "<style scoped>\n",
              "    .dataframe tbody tr th:only-of-type {\n",
              "        vertical-align: middle;\n",
              "    }\n",
              "\n",
              "    .dataframe tbody tr th {\n",
              "        vertical-align: top;\n",
              "    }\n",
              "\n",
              "    .dataframe thead th {\n",
              "        text-align: right;\n",
              "    }\n",
              "</style>\n",
              "<table border=\"1\" class=\"dataframe\">\n",
              "  <thead>\n",
              "    <tr style=\"text-align: right;\">\n",
              "      <th></th>\n",
              "      <th>Id</th>\n",
              "      <th>SepalLengthCm</th>\n",
              "      <th>SepalWidthCm</th>\n",
              "      <th>PetalLengthCm</th>\n",
              "      <th>PetalWidthCm</th>\n",
              "      <th>Species</th>\n",
              "    </tr>\n",
              "  </thead>\n",
              "  <tbody>\n",
              "    <tr>\n",
              "      <th>0</th>\n",
              "      <td>1</td>\n",
              "      <td>5.1</td>\n",
              "      <td>3.5</td>\n",
              "      <td>1.4</td>\n",
              "      <td>0.2</td>\n",
              "      <td>Iris-setosa</td>\n",
              "    </tr>\n",
              "    <tr>\n",
              "      <th>1</th>\n",
              "      <td>2</td>\n",
              "      <td>4.9</td>\n",
              "      <td>3.0</td>\n",
              "      <td>1.4</td>\n",
              "      <td>0.2</td>\n",
              "      <td>Iris-setosa</td>\n",
              "    </tr>\n",
              "    <tr>\n",
              "      <th>2</th>\n",
              "      <td>3</td>\n",
              "      <td>4.7</td>\n",
              "      <td>3.2</td>\n",
              "      <td>1.3</td>\n",
              "      <td>0.2</td>\n",
              "      <td>Iris-setosa</td>\n",
              "    </tr>\n",
              "    <tr>\n",
              "      <th>3</th>\n",
              "      <td>4</td>\n",
              "      <td>4.6</td>\n",
              "      <td>3.1</td>\n",
              "      <td>1.5</td>\n",
              "      <td>0.2</td>\n",
              "      <td>Iris-setosa</td>\n",
              "    </tr>\n",
              "    <tr>\n",
              "      <th>4</th>\n",
              "      <td>5</td>\n",
              "      <td>5.0</td>\n",
              "      <td>3.6</td>\n",
              "      <td>1.4</td>\n",
              "      <td>0.2</td>\n",
              "      <td>Iris-setosa</td>\n",
              "    </tr>\n",
              "  </tbody>\n",
              "</table>\n",
              "</div>"
            ],
            "text/plain": [
              "   Id  SepalLengthCm  SepalWidthCm  PetalLengthCm  PetalWidthCm      Species\n",
              "0   1            5.1           3.5            1.4           0.2  Iris-setosa\n",
              "1   2            4.9           3.0            1.4           0.2  Iris-setosa\n",
              "2   3            4.7           3.2            1.3           0.2  Iris-setosa\n",
              "3   4            4.6           3.1            1.5           0.2  Iris-setosa\n",
              "4   5            5.0           3.6            1.4           0.2  Iris-setosa"
            ]
          },
          "execution_count": 52,
          "metadata": {},
          "output_type": "execute_result"
        }
      ],
      "source": [
        "import pandas as pd\n",
        "df = pd.read_csv(\"C:/Pulkit_D/AAFT/Sem 2/Python for Data Science/Lecture Slides/Iris_dataset.csv\")\n",
        "df.head()"
      ]
    },
    {
      "cell_type": "markdown",
      "id": "1855878f",
      "metadata": {
        "id": "1855878f"
      },
      "source": [
        "# **Scatter Plot**\n",
        "\n",
        "A Scatter (XY) Plot has points that show the relationship between two sets of data."
      ]
    },
    {
      "cell_type": "code",
      "execution_count": null,
      "id": "cfffd628",
      "metadata": {
        "id": "cfffd628",
        "outputId": "09770dc0-5a10-424b-e071-7d4f09680111"
      },
      "outputs": [
        {
          "data": {
            "image/png": "[encoded data removed]",
            "text/plain": [
              "<Figure size 432x288 with 1 Axes>"
            ]
          },
          "metadata": {
            "needs_background": "light"
          },
          "output_type": "display_data"
        }
      ],
      "source": [
        "import matplotlib.pyplot as plt\n",
        "\n",
        "df.plot(kind =\"scatter\", x ='SepalLengthCm', y ='PetalLengthCm')\n",
        "plt.grid()"
      ]
    },
    {
      "cell_type": "code",
      "execution_count": null,
      "id": "c0e60779",
      "metadata": {
        "id": "c0e60779",
        "outputId": "aec8f50b-058d-4281-dbbb-beeb19e2341b"
      },
      "outputs": [
        {
          "data": {
            "text/plain": [
              "Text(0.5, 1.0, 'scatter')"
            ]
          },
          "execution_count": 54,
          "metadata": {},
          "output_type": "execute_result"
        },
        {
          "data": {
            "image/png": "[encoded data removed]",
            "text/plain": [
              "<Figure size 432x288 with 1 Axes>"
            ]
          },
          "metadata": {
            "needs_background": "light"
          },
          "output_type": "display_data"
        }
      ],
      "source": [
        "# scatter plot using pandas\n",
        "\n",
        "ax = df[df.Species==\"Iris-setosa\"].plot.scatter(x='SepalLengthCm', y='SepalWidthCm', color='red', label='setosa')\n",
        "df[df.Species==\"Iris-versicolor\"].plot.scatter(x='SepalLengthCm', y='SepalWidthCm', color='green', label='versicolor', ax=ax)\n",
        "df[df.Species==\"Iris-virginica\"].plot.scatter(x='SepalLengthCm', y='SepalWidthCm', color='blue', label='virginica', ax=ax)\n",
        "ax.set_title(\"scatter\")"
      ]
    },
    {
      "cell_type": "markdown",
      "id": "e8a8fde0",
      "metadata": {
        "id": "e8a8fde0"
      },
      "source": [
        "## **SEABORN**\n"
      ]
    },
    {
      "cell_type": "code",
      "execution_count": null,
      "id": "e62972a1",
      "metadata": {
        "id": "e62972a1",
        "outputId": "b822e4f5-0bf5-4d1a-e9c5-71ad7307a280"
      },
      "outputs": [
        {
          "name": "stdout",
          "output_type": "stream",
          "text": [
            "(807, 14)\n"
          ]
        },
        {
          "data": {
            "text/html": [
              "<div>\n",
              "<style scoped>\n",
              "    .dataframe tbody tr th:only-of-type {\n",
              "        vertical-align: middle;\n",
              "    }\n",
              "\n",
              "    .dataframe tbody tr th {\n",
              "        vertical-align: top;\n",
              "    }\n",
              "\n",
              "    .dataframe thead th {\n",
              "        text-align: right;\n",
              "    }\n",
              "</style>\n",
              "<table border=\"1\" class=\"dataframe\">\n",
              "  <thead>\n",
              "    <tr style=\"text-align: right;\">\n",
              "      <th></th>\n",
              "      <th>id</th>\n",
              "      <th>species</th>\n",
              "      <th>generation_id</th>\n",
              "      <th>height</th>\n",
              "      <th>weight</th>\n",
              "      <th>base_experience</th>\n",
              "      <th>type_1</th>\n",
              "      <th>type_2</th>\n",
              "      <th>hp</th>\n",
              "      <th>attack</th>\n",
              "      <th>defense</th>\n",
              "      <th>speed</th>\n",
              "      <th>special-attack</th>\n",
              "      <th>special-defense</th>\n",
              "    </tr>\n",
              "  </thead>\n",
              "  <tbody>\n",
              "    <tr>\n",
              "      <th>0</th>\n",
              "      <td>1</td>\n",
              "      <td>bulbasaur</td>\n",
              "      <td>1</td>\n",
              "      <td>0.7</td>\n",
              "      <td>6.9</td>\n",
              "      <td>64</td>\n",
              "      <td>grass</td>\n",
              "      <td>poison</td>\n",
              "      <td>45</td>\n",
              "      <td>49</td>\n",
              "      <td>49</td>\n",
              "      <td>45</td>\n",
              "      <td>65</td>\n",
              "      <td>65</td>\n",
              "    </tr>\n",
              "    <tr>\n",
              "      <th>1</th>\n",
              "      <td>2</td>\n",
              "      <td>ivysaur</td>\n",
              "      <td>1</td>\n",
              "      <td>1.0</td>\n",
              "      <td>13.0</td>\n",
              "      <td>142</td>\n",
              "      <td>grass</td>\n",
              "      <td>poison</td>\n",
              "      <td>60</td>\n",
              "      <td>62</td>\n",
              "      <td>63</td>\n",
              "      <td>60</td>\n",
              "      <td>80</td>\n",
              "      <td>80</td>\n",
              "    </tr>\n",
              "    <tr>\n",
              "      <th>2</th>\n",
              "      <td>3</td>\n",
              "      <td>venusaur</td>\n",
              "      <td>1</td>\n",
              "      <td>2.0</td>\n",
              "      <td>100.0</td>\n",
              "      <td>236</td>\n",
              "      <td>grass</td>\n",
              "      <td>poison</td>\n",
              "      <td>80</td>\n",
              "      <td>82</td>\n",
              "      <td>83</td>\n",
              "      <td>80</td>\n",
              "      <td>100</td>\n",
              "      <td>100</td>\n",
              "    </tr>\n",
              "    <tr>\n",
              "      <th>3</th>\n",
              "      <td>4</td>\n",
              "      <td>charmander</td>\n",
              "      <td>1</td>\n",
              "      <td>0.6</td>\n",
              "      <td>8.5</td>\n",
              "      <td>62</td>\n",
              "      <td>fire</td>\n",
              "      <td>NaN</td>\n",
              "      <td>39</td>\n",
              "      <td>52</td>\n",
              "      <td>43</td>\n",
              "      <td>65</td>\n",
              "      <td>60</td>\n",
              "      <td>50</td>\n",
              "    </tr>\n",
              "    <tr>\n",
              "      <th>4</th>\n",
              "      <td>5</td>\n",
              "      <td>charmeleon</td>\n",
              "      <td>1</td>\n",
              "      <td>1.1</td>\n",
              "      <td>19.0</td>\n",
              "      <td>142</td>\n",
              "      <td>fire</td>\n",
              "      <td>NaN</td>\n",
              "      <td>58</td>\n",
              "      <td>64</td>\n",
              "      <td>58</td>\n",
              "      <td>80</td>\n",
              "      <td>80</td>\n",
              "      <td>65</td>\n",
              "    </tr>\n",
              "  </tbody>\n",
              "</table>\n",
              "</div>"
            ],
            "text/plain": [
              "   id     species  generation_id  height  weight  base_experience type_1  \\\n",
              "0   1   bulbasaur              1     0.7     6.9               64  grass   \n",
              "1   2     ivysaur              1     1.0    13.0              142  grass   \n",
              "2   3    venusaur              1     2.0   100.0              236  grass   \n",
              "3   4  charmander              1     0.6     8.5               62   fire   \n",
              "4   5  charmeleon              1     1.1    19.0              142   fire   \n",
              "\n",
              "   type_2  hp  attack  defense  speed  special-attack  special-defense  \n",
              "0  poison  45      49       49     45              65               65  \n",
              "1  poison  60      62       63     60              80               80  \n",
              "2  poison  80      82       83     80             100              100  \n",
              "3     NaN  39      52       43     65              60               50  \n",
              "4     NaN  58      64       58     80              80               65  "
            ]
          },
          "execution_count": 43,
          "metadata": {},
          "output_type": "execute_result"
        }
      ],
      "source": [
        "import numpy as np\n",
        "import pandas as pd\n",
        "import matplotlib.pyplot as plt\n",
        "\n",
        "pokemon = pd.read_csv('C:/Pulkit_D/AAFT/Sem 2/Python for Data Science/Lecture Slides/pokemon.csv')\n",
        "print(pokemon.shape)\n",
        "pokemon.head()"
      ]
    },
    {
      "cell_type": "markdown",
      "id": "3f5bcb6d",
      "metadata": {
        "id": "3f5bcb6d"
      },
      "source": [
        "## **Count Plot:**\n",
        "\n",
        "countplot() method is used to Show the counts of observations in each categorical bin using bars. "
      ]
    },
    {
      "cell_type": "code",
      "execution_count": null,
      "id": "9ab6c557",
      "metadata": {
        "id": "9ab6c557",
        "outputId": "9426191b-d2fc-426b-f108-ba3d5c7a8e32"
      },
      "outputs": [
        {
          "name": "stderr",
          "output_type": "stream",
          "text": [
            "C:\\Users\\Pulkit\\anaconda3\\envs\\tf-gpu\\lib\\site-packages\\seaborn\\_decorators.py:36: FutureWarning: Pass the following variable as a keyword arg: x. From version 0.12, the only valid positional argument will be `data`, and passing other arguments without an explicit keyword will result in an error or misinterpretation.\n",
            "  warnings.warn(\n"
          ]
        },
        {
          "data": {
            "text/plain": [
              "<AxesSubplot:title={'center':'Species Count'}, xlabel='Species', ylabel='count'>"
            ]
          },
          "execution_count": 16,
          "metadata": {},
          "output_type": "execute_result"
        },
        {
          "data": {
            "image/png": "[encoded data removed]",
            "text/plain": [
              "<Figure size 432x288 with 1 Axes>"
            ]
          },
          "metadata": {
            "needs_background": "light"
          },
          "output_type": "display_data"
        }
      ],
      "source": [
        "import seaborn as sns\n",
        "plt.title(\"Species Count\")\n",
        "sns.countplot(df[\"Species\"])"
      ]
    },
    {
      "cell_type": "markdown",
      "id": "8328b77e",
      "metadata": {
        "id": "8328b77e"
      },
      "source": [
        "## **Bar Charts:**\n",
        "A bar chart is used to depict the distribution of a categorical variable. In a bar chart, each level of the categorical variable is depicted with a bar, whose height indicates the frequency of data points that take on that level. A basic bar chart of frequencies can be created through the use of seaborn's countplot function:"
      ]
    },
    {
      "cell_type": "code",
      "execution_count": null,
      "id": "a30e256b",
      "metadata": {
        "id": "a30e256b",
        "outputId": "68de09c1-8ffa-4f80-cef2-9e4a2fe4d160"
      },
      "outputs": [
        {
          "data": {
            "text/plain": [
              "<AxesSubplot:xlabel='generation_id', ylabel='count'>"
            ]
          },
          "execution_count": 3,
          "metadata": {},
          "output_type": "execute_result"
        },
        {
          "data": {
            "image/png": "[encoded data removed]",
            "text/plain": [
              "<Figure size 432x288 with 1 Axes>"
            ]
          },
          "metadata": {
            "needs_background": "light"
          },
          "output_type": "display_data"
        }
      ],
      "source": [
        "sb.countplot(data = pokemon, x = 'generation_id')"
      ]
    },
    {
      "cell_type": "markdown",
      "id": "a2168ff7",
      "metadata": {
        "id": "a2168ff7"
      },
      "source": [
        "By default, each category is given a different color. This might come in handy for building associations between these category labels and encodings in plots with more variables. Otherwise, it's a good idea to simplify the plot and reduce unnecessary distractions by plotting all bars in the same color. This can be set using the \"color\" parameter:"
      ]
    },
    {
      "cell_type": "code",
      "execution_count": null,
      "id": "71b9cdfb",
      "metadata": {
        "id": "71b9cdfb",
        "outputId": "128efa1c-84d9-4195-cce5-feb55af913c7"
      },
      "outputs": [
        {
          "data": {
            "text/plain": [
              "<AxesSubplot:xlabel='generation_id', ylabel='count'>"
            ]
          },
          "execution_count": 5,
          "metadata": {},
          "output_type": "execute_result"
        },
        {
          "data": {
            "image/png": "[encoded data removed]",
            "text/plain": [
              "<Figure size 432x288 with 1 Axes>"
            ]
          },
          "metadata": {
            "needs_background": "light"
          },
          "output_type": "display_data"
        }
      ],
      "source": [
        "base_color = sb.color_palette(\"pastel\")[2]\n",
        "sb.countplot(data = pokemon, x = 'generation_id', color = base_color)"
      ]
    },
    {
      "cell_type": "markdown",
      "id": "b1c3e430",
      "metadata": {
        "id": "b1c3e430"
      },
      "source": [
        "One thing that we might want to do with a bar chart is to sort the data in some way. For nominal-type data, one common operation is to sort the data in terms of frequency. With our data in a pandas DataFrame, we can use various DataFrame methods to compute and extract an ordering, then set that ordering on the \"order\" parameter:\n"
      ]
    },
    {
      "cell_type": "code",
      "execution_count": null,
      "id": "861ee921",
      "metadata": {
        "id": "861ee921",
        "outputId": "83551b88-cad2-4dcb-c2c8-790172aa031f"
      },
      "outputs": [
        {
          "data": {
            "text/plain": [
              "<AxesSubplot:xlabel='generation_id', ylabel='count'>"
            ]
          },
          "execution_count": 6,
          "metadata": {},
          "output_type": "execute_result"
        },
        {
          "data": {
            "image/png": "[encoded data removed]",
            "text/plain": [
              "<Figure size 432x288 with 1 Axes>"
            ]
          },
          "metadata": {
            "needs_background": "light"
          },
          "output_type": "display_data"
        }
      ],
      "source": [
        "base_color = sb.color_palette()[3]\n",
        "gen_order = pokemon['generation_id'].value_counts().index\n",
        "sb.countplot(data = pokemon, x = 'generation_id', color = base_color, \n",
        "              order = gen_order)"
      ]
    },
    {
      "cell_type": "markdown",
      "id": "5415de4b",
      "metadata": {
        "id": "5415de4b"
      },
      "source": [
        "## **Additional Variations**\n",
        "If you have a lot of category levels, or the category names are long, then you might end up with overcrowding of the tick labels."
      ]
    },
    {
      "cell_type": "code",
      "execution_count": null,
      "id": "91380009",
      "metadata": {
        "id": "91380009",
        "outputId": "87cfe81a-cea8-4de8-d44e-cb8d18afbf47"
      },
      "outputs": [
        {
          "data": {
            "text/plain": [
              "<AxesSubplot:xlabel='type_1', ylabel='count'>"
            ]
          },
          "execution_count": 7,
          "metadata": {},
          "output_type": "execute_result"
        },
        {
          "data": {
            "image/png": "[encoded data removed]",
            "text/plain": [
              "<Figure size 432x288 with 1 Axes>"
            ]
          },
          "metadata": {
            "needs_background": "light"
          },
          "output_type": "display_data"
        }
      ],
      "source": [
        "base_color = sb.color_palette()[2]\n",
        "sb.countplot(data = pokemon, x = 'type_1', color = base_color)"
      ]
    },
    {
      "cell_type": "markdown",
      "id": "0b7b4619",
      "metadata": {
        "id": "0b7b4619"
      },
      "source": [
        "one way to deal with it is that, you can use matplotlib's xticks function and its \"rotation\" parameter to change the orientation in which the labels will be depicted (as degrees counter-clockwise from horizontal):"
      ]
    },
    {
      "cell_type": "code",
      "execution_count": null,
      "id": "280e7cd9",
      "metadata": {
        "id": "280e7cd9",
        "outputId": "df299ade-5f5b-4cdc-d5da-4d6cb091f12d"
      },
      "outputs": [
        {
          "data": {
            "image/png": "[encoded data removed]",
            "text/plain": [
              "<Figure size 432x288 with 1 Axes>"
            ]
          },
          "metadata": {
            "needs_background": "light"
          },
          "output_type": "display_data"
        }
      ],
      "source": [
        "base_color = sb.color_palette()[2]\n",
        "sb.countplot(data = pokemon, x = 'type_1', color = base_color)\n",
        "plt.xticks(rotation=90);"
      ]
    },
    {
      "cell_type": "markdown",
      "id": "4511479d",
      "metadata": {
        "id": "4511479d"
      },
      "source": [
        "\n",
        "    Another way to address this is through creation of a horizontal bar chart. In a horizontal bar chart, it is the length of each bar that indicates frequency, rather than the height. In the code, instead of setting the data or variable on the \"x\" parameter, you can set the variable to be plotted on the parameter \"y\":\n",
        "\n"
      ]
    },
    {
      "cell_type": "code",
      "execution_count": null,
      "id": "e2bb1661",
      "metadata": {
        "id": "e2bb1661",
        "outputId": "a47383bb-32f8-414a-8e1d-c8a87ed15429"
      },
      "outputs": [
        {
          "data": {
            "text/plain": [
              "<AxesSubplot:xlabel='count', ylabel='type_1'>"
            ]
          },
          "execution_count": 9,
          "metadata": {},
          "output_type": "execute_result"
        },
        {
          "data": {
            "image/png": "[encoded data removed]",
            "text/plain": [
              "<Figure size 432x288 with 1 Axes>"
            ]
          },
          "metadata": {
            "needs_background": "light"
          },
          "output_type": "display_data"
        }
      ],
      "source": [
        "base_color = sb.color_palette()[2]\n",
        "sb.countplot(data = pokemon, y = 'type_1', color = base_color)"
      ]
    },
    {
      "cell_type": "markdown",
      "id": "8fc18a86",
      "metadata": {
        "id": "8fc18a86"
      },
      "source": [
        "## **Count Missing Data:**\n",
        "One interesting way we can apply bar charts is through the visualization of missing data. We can use pandas functions to create a table with the number of missing values in each column."
      ]
    },
    {
      "cell_type": "code",
      "execution_count": null,
      "id": "16ef2533",
      "metadata": {
        "id": "16ef2533",
        "outputId": "f7bc752d-6f1d-4782-da11-93127a53d53e"
      },
      "outputs": [
        {
          "data": {
            "text/plain": [
              "id                   0\n",
              "species              0\n",
              "generation_id        0\n",
              "height               0\n",
              "weight               0\n",
              "base_experience      0\n",
              "type_1               0\n",
              "type_2             402\n",
              "hp                   0\n",
              "attack               0\n",
              "defense              0\n",
              "speed                0\n",
              "special-attack       0\n",
              "special-defense      0\n",
              "dtype: int64"
            ]
          },
          "execution_count": 10,
          "metadata": {},
          "output_type": "execute_result"
        }
      ],
      "source": [
        "pokemon.isna().sum()"
      ]
    },
    {
      "cell_type": "markdown",
      "id": "ee881daf",
      "metadata": {
        "id": "ee881daf"
      },
      "source": [
        "What if we want to visualize these missing value counts? We could treat the variable names as levels of a categorical variable, and create a resulting bar plot. However, since the data is not in its tidy, unsummarized form, we need to make use of a different plotting function. Seaborn's barplot function is built to depict a summary of one quantitative variable against levels of a second, qualitative variable, but can be used here."
      ]
    },
    {
      "cell_type": "code",
      "execution_count": null,
      "id": "01baedf5",
      "metadata": {
        "id": "01baedf5",
        "outputId": "7ff6127a-eb5c-4a9d-ef40-0a91c1a159c1"
      },
      "outputs": [
        {
          "name": "stderr",
          "output_type": "stream",
          "text": [
            "C:\\Users\\Pulkit\\anaconda3\\envs\\tf-gpu\\lib\\site-packages\\seaborn\\_decorators.py:36: FutureWarning: Pass the following variables as keyword args: x, y. From version 0.12, the only valid positional argument will be `data`, and passing other arguments without an explicit keyword will result in an error or misinterpretation.\n",
            "  warnings.warn(\n"
          ]
        },
        {
          "data": {
            "image/png": "[encoded data removed]",
            "text/plain": [
              "<Figure size 432x288 with 1 Axes>"
            ]
          },
          "metadata": {
            "needs_background": "light"
          },
          "output_type": "display_data"
        }
      ],
      "source": [
        "na_counts = pokemon.isna().sum()\n",
        "base_color = sb.color_palette()[0]\n",
        "sb.barplot(na_counts.index.values, na_counts, color = base_color)\n",
        "plt.xticks(rotation=90);"
      ]
    },
    {
      "cell_type": "markdown",
      "id": "8fd55e77",
      "metadata": {
        "id": "8fd55e77"
      },
      "source": [
        "The first argument to the function contains the x-values (column names), the second argument the y-values (our counts).\n",
        "\n",
        "As a general note, this is a useful function to keep in mind if your data is summarized and you still want to build a bar chart. If your data is not yet summarized, however, just use the countplot function so that you don't need to do extra summarization work. "
      ]
    }
  ],
  "metadata": {
    "kernelspec": {
      "display_name": "Python 3 (ipykernel)",
      "language": "python",
      "name": "python3"
    },
    "language_info": {
      "codemirror_mode": {
        "name": "ipython",
        "version": 3
      },
      "file_extension": ".py",
      "mimetype": "text/x-python",
      "name": "python",
      "nbconvert_exporter": "python",
      "pygments_lexer": "ipython3",
      "version": "3.9.7"
    },
    "colab": {
      "provenance": []
    }
  },
  "nbformat": 4,
  "nbformat_minor": 5
}