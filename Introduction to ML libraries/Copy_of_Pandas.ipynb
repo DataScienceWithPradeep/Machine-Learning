{
  "cells": [
    {
      "cell_type": "markdown",
      "id": "366108bd",
      "metadata": {
        "id": "366108bd"
      },
      "source": [
        "<H1><B>PANDAS</B></H1>\n",
        "Pandas is a package for data manipulation and analysis in Python. The name Pandas is derived from the econometrics term Panel Data. Pandas incorporates two additional data structures into Python, namely <b>Pandas Series</b> and <b>Pandas DataFrame</b>. These data structures allow us to work with labeled and relational data in an easy and intuitive manner. "
      ]
    },
    {
      "cell_type": "markdown",
      "id": "00651c59",
      "metadata": {
        "id": "00651c59"
      },
      "source": [
        "## **Why Use Pandas?**\n",
        "The recent success of machine learning algorithms is partly due to the huge amounts of data that we have available to train our algorithms on. However, when it comes to data, quantity is not the only thing that matters, the quality of your data is just as important.\n",
        "\n",
        "More often than not, large datasets will often have missing values, outliers, incorrect values, etc… Having data with a lot of missing or bad values, for example, is not going to allow your machine learning algorithms to perform well.\n",
        "\n",
        "This is where Pandas come in. Pandas Series and DataFrames are designed for fast data analysis and manipulation, as well as being flexible and easy to use. Below are just a few features that makes Pandas an excellent package for data analysis:\n",
        "\n",
        "- Allows the use of labels for rows and columns\n",
        "- Easy handling of NaN values\n",
        "- Is able to load data of different formats into DataFrames\n",
        "- Can join and merge different datasets together\n",
        "- It integrates with NumPy and Matplotlib\n",
        "\n",
        "For these and other reasons, Pandas DataFrames have become one of the most commonly used Pandas object for data analysis in Python."
      ]
    },
    {
      "cell_type": "markdown",
      "id": "902861cb",
      "metadata": {
        "id": "902861cb"
      },
      "source": [
        "## **PANDAS SERIES:**\n",
        "A Pandas series is a one-dimensional array-like object that can hold many data types, such as numbers or strings. One of the main differences between Pandas Series and NumPy ndarrays is that you can assign an index label to each element in the Pandas Series. In other words, you can name the indices of your Pandas Series anything you want. Another big difference between Pandas Series and NumPy ndarrays is that Pandas Series can hold data of different data types."
      ]
    },
    {
      "cell_type": "code",
      "execution_count": null,
      "id": "514dc7ef",
      "metadata": {
        "id": "514dc7ef"
      },
      "outputs": [],
      "source": [
        "# We first have to import pandas using import statement in python\n",
        "\n",
        "import pandas as pd  "
      ]
    },
    {
      "cell_type": "markdown",
      "id": "cf4ef201",
      "metadata": {
        "id": "cf4ef201"
      },
      "source": [
        "Let's create a pandas series.  For that we just write <B>pd.Series()</b>\n",
        "\n",
        "```\n",
        "items = pd.Series(data, index)    # For now we just names the series object in a variable named item\n",
        "```"
      ]
    },
    {
      "cell_type": "markdown",
      "id": "fed02574",
      "metadata": {
        "id": "fed02574"
      },
      "source": [
        "\n",
        "\n",
        "So while creating series we can pass arguments for <u>data</u> and <u>index</u>"
      ]
    },
    {
      "cell_type": "code",
      "execution_count": null,
      "id": "f9066b30",
      "metadata": {
        "colab": {
          "base_uri": "https://localhost:8080/"
        },
        "id": "f9066b30",
        "outputId": "ad8e0e0c-0d1a-4108-aa1a-bf5d6edc3eff"
      },
      "outputs": [
        {
          "output_type": "execute_result",
          "data": {
            "text/plain": [
              "chocolates    15\n",
              "chips          5\n",
              "milk          No\n",
              "dtype: object"
            ]
          },
          "metadata": {},
          "execution_count": 3
        }
      ],
      "source": [
        "item = pd.Series(data=[15, 5, 'No'], index=['chocolates', 'chips', 'milk'])\n",
        "item"
      ]
    },
    {
      "cell_type": "markdown",
      "id": "c1a57cf4",
      "metadata": {
        "id": "c1a57cf4"
      },
      "source": [
        "As we see the series is displayed as indicies in the first column and data in the second column.\n",
        "\n",
        "<br><br>\n",
        "## **Attributes of Panda Series:**\n",
        "\n",
        "Let's see some of the attributes of the pandas series that helps us to understand our series"
      ]
    },
    {
      "cell_type": "code",
      "execution_count": null,
      "id": "349bc8d3",
      "metadata": {
        "id": "349bc8d3",
        "outputId": "0e10a859-20c9-4c69-a487-7dc405388bf3"
      },
      "outputs": [
        {
          "data": {
            "text/plain": [
              "(3,)"
            ]
          },
          "execution_count": 3,
          "metadata": {},
          "output_type": "execute_result"
        }
      ],
      "source": [
        "item.shape   # gives us the  sizes of each dimension of the data"
      ]
    },
    {
      "cell_type": "code",
      "execution_count": null,
      "id": "452b0d2e",
      "metadata": {
        "id": "452b0d2e",
        "outputId": "93cd4a23-2049-4a00-d374-4c3e73ceed12"
      },
      "outputs": [
        {
          "data": {
            "text/plain": [
              "1"
            ]
          },
          "execution_count": 4,
          "metadata": {},
          "output_type": "execute_result"
        }
      ],
      "source": [
        "item.ndim   # gives us the number of dimensions of the data"
      ]
    },
    {
      "cell_type": "code",
      "execution_count": null,
      "id": "fa39f11b",
      "metadata": {
        "id": "fa39f11b",
        "outputId": "21de9e61-d7f3-4c06-9a40-03b475ef026f"
      },
      "outputs": [
        {
          "data": {
            "text/plain": [
              "3"
            ]
          },
          "execution_count": 5,
          "metadata": {},
          "output_type": "execute_result"
        }
      ],
      "source": [
        "item.size   # gives us the total number of items in the array "
      ]
    },
    {
      "cell_type": "code",
      "execution_count": null,
      "id": "281a1118",
      "metadata": {
        "id": "281a1118",
        "outputId": "5c3f1848-ca9f-4f69-dfc3-070062c01cc4"
      },
      "outputs": [
        {
          "data": {
            "text/plain": [
              "Index(['chocolates', 'chips', 'milk'], dtype='object')"
            ]
          },
          "execution_count": 6,
          "metadata": {},
          "output_type": "execute_result"
        }
      ],
      "source": [
        "item.index   # gives us the list indeices of the series "
      ]
    },
    {
      "cell_type": "code",
      "execution_count": null,
      "id": "e6fa5730",
      "metadata": {
        "id": "e6fa5730",
        "outputId": "01586b7f-7e71-4f13-9969-3b1b462a9ecd"
      },
      "outputs": [
        {
          "data": {
            "text/plain": [
              "array([15, 5, 'No'], dtype=object)"
            ]
          },
          "execution_count": 7,
          "metadata": {},
          "output_type": "execute_result"
        }
      ],
      "source": [
        "item.values    #gives us the data of the series"
      ]
    },
    {
      "cell_type": "markdown",
      "id": "ed20ebe1",
      "metadata": {
        "id": "ed20ebe1"
      },
      "source": [
        "If you are dealing with a very large Pandas Series and if you are not sure whether an index label exists, you can check by using the ```in``` command"
      ]
    },
    {
      "cell_type": "code",
      "execution_count": null,
      "id": "ef89fb93",
      "metadata": {
        "id": "ef89fb93",
        "outputId": "b9265d27-c3b8-4bb2-e401-75f78fc81cab"
      },
      "outputs": [
        {
          "name": "stdout",
          "output_type": "stream",
          "text": [
            "Is bananas an index label in item: False\n",
            "Is chips an index label in item: True\n"
          ]
        }
      ],
      "source": [
        "# We check whether bananas is a food item (an index) in Groceries\n",
        "x = 'bananas' in item\n",
        "\n",
        "# We check whether bread is a food item (an index) in Groceries\n",
        "y = 'chips' in item\n",
        "\n",
        "# We print the results\n",
        "print('Is bananas an index label in item:', x)\n",
        "print('Is chips an index label in item:', y)"
      ]
    },
    {
      "cell_type": "markdown",
      "id": "2b1f7fc2",
      "metadata": {
        "id": "2b1f7fc2"
      },
      "source": [
        "## **Accessing and Deleting Elements in Pandas Series:**\n",
        "Now let's look at how we can access or modify elements in a Pandas Series. One great advantage of Pandas Series is that it allows us to access data in many different ways. Elements can be accessed using index labels or numerical indices inside square brackets, [ ], similar to how we access elements in NumPy ndarrays. Since we can use numerical indices, we can use both positive and negative integers to access data from the beginning or from the end of the Series, respectively. "
      ]
    },
    {
      "cell_type": "code",
      "execution_count": null,
      "id": "db9f90ca",
      "metadata": {
        "colab": {
          "base_uri": "https://localhost:8080/"
        },
        "id": "db9f90ca",
        "outputId": "cd4f2064-461e-4253-f908-8500bbf0ba2d"
      },
      "outputs": [
        {
          "output_type": "execute_result",
          "data": {
            "text/plain": [
              "15"
            ]
          },
          "metadata": {},
          "execution_count": 5
        }
      ],
      "source": [
        "# One by their index labels\n",
        "item['chocolates']"
      ]
    },
    {
      "cell_type": "code",
      "execution_count": null,
      "id": "3e89913c",
      "metadata": {
        "id": "3e89913c",
        "colab": {
          "base_uri": "https://localhost:8080/"
        },
        "outputId": "51e237e0-56f0-4ab3-b536-b1b863aacb86"
      },
      "outputs": [
        {
          "output_type": "execute_result",
          "data": {
            "text/plain": [
              "chocolates    15\n",
              "milk          No\n",
              "dtype: object"
            ]
          },
          "metadata": {},
          "execution_count": 6
        }
      ],
      "source": [
        "item[['chocolates', 'milk']]   #a list of indices is passed "
      ]
    },
    {
      "cell_type": "code",
      "execution_count": null,
      "id": "112b9d21",
      "metadata": {
        "id": "112b9d21",
        "colab": {
          "base_uri": "https://localhost:8080/"
        },
        "outputId": "5efb6f71-3b3f-41ce-afe4-25f16637dff1"
      },
      "outputs": [
        {
          "output_type": "execute_result",
          "data": {
            "text/plain": [
              "15"
            ]
          },
          "metadata": {},
          "execution_count": 4
        }
      ],
      "source": [
        "item[0]  #first element"
      ]
    },
    {
      "cell_type": "code",
      "execution_count": null,
      "id": "16350580",
      "metadata": {
        "id": "16350580",
        "colab": {
          "base_uri": "https://localhost:8080/",
          "height": 35
        },
        "outputId": "3a4827da-13a6-4c9f-a5f1-6a2790f80df5"
      },
      "outputs": [
        {
          "output_type": "execute_result",
          "data": {
            "text/plain": [
              "'No'"
            ],
            "application/vnd.google.colaboratory.intrinsic+json": {
              "type": "string"
            }
          },
          "metadata": {},
          "execution_count": 7
        }
      ],
      "source": [
        "item[-1]  #last element"
      ]
    },
    {
      "cell_type": "code",
      "execution_count": null,
      "id": "16ccac10",
      "metadata": {
        "id": "16ccac10",
        "colab": {
          "base_uri": "https://localhost:8080/"
        },
        "outputId": "30588e65-6659-40a0-bb48-832cd5979dc5"
      },
      "outputs": [
        {
          "output_type": "execute_result",
          "data": {
            "text/plain": [
              "chocolates    15\n",
              "chips          5\n",
              "dtype: object"
            ]
          },
          "metadata": {},
          "execution_count": 8
        }
      ],
      "source": [
        "item[[0,1]]    # list of numerical indices"
      ]
    },
    {
      "cell_type": "markdown",
      "id": "8334a2d4",
      "metadata": {
        "id": "8334a2d4"
      },
      "source": [
        "In order to remove any ambiguity from whether we are reffering to the labeled index or the numerical index, panda series have two attributes <b>loc</b> and <b>iloc</b>.\n",
        "\n",
        "* The attribute loc stands for the location and is used to explicitly state that we are using our labeled index.\n",
        "* The attribute iloc stands for integer location and is used to explicitly state that we are using a numerical index"
      ]
    },
    {
      "cell_type": "code",
      "execution_count": null,
      "id": "76f2e4c4",
      "metadata": {
        "id": "76f2e4c4",
        "colab": {
          "base_uri": "https://localhost:8080/"
        },
        "outputId": "5e86a714-1160-447e-8f4a-1181d51daff5"
      },
      "outputs": [
        {
          "output_type": "execute_result",
          "data": {
            "text/plain": [
              "milk     No\n",
              "chips     5\n",
              "dtype: object"
            ]
          },
          "metadata": {},
          "execution_count": 10
        }
      ],
      "source": [
        "item.loc[['milk', 'chips']]"
      ]
    },
    {
      "cell_type": "code",
      "execution_count": null,
      "id": "33d80389",
      "metadata": {
        "id": "33d80389",
        "colab": {
          "base_uri": "https://localhost:8080/"
        },
        "outputId": "91e99ac3-0894-4264-dedb-b244094d7350"
      },
      "outputs": [
        {
          "output_type": "execute_result",
          "data": {
            "text/plain": [
              "chips     5\n",
              "milk     No\n",
              "dtype: object"
            ]
          },
          "metadata": {},
          "execution_count": 9
        }
      ],
      "source": [
        "item.iloc[[1,2]]"
      ]
    },
    {
      "cell_type": "markdown",
      "id": "60f97edf",
      "metadata": {
        "id": "60f97edf"
      },
      "source": [
        "Pandas Series are also mutable like NumPy ndarrays, which means we can change the elements of a Pandas Series after it has been created."
      ]
    },
    {
      "cell_type": "code",
      "execution_count": null,
      "id": "d018c965",
      "metadata": {
        "id": "d018c965",
        "colab": {
          "base_uri": "https://localhost:8080/"
        },
        "outputId": "7aadfb18-fba8-485d-e6b8-b4a71b785a71"
      },
      "outputs": [
        {
          "output_type": "execute_result",
          "data": {
            "text/plain": [
              "chocolates     15\n",
              "chips           5\n",
              "milk          Yes\n",
              "dtype: object"
            ]
          },
          "metadata": {},
          "execution_count": 11
        }
      ],
      "source": [
        "# we can change the data by reassigning the value\n",
        "item['milk'] = 'Yes'\n",
        "item"
      ]
    },
    {
      "cell_type": "markdown",
      "id": "149e49e9",
      "metadata": {
        "id": "149e49e9"
      },
      "source": [
        "We can see that our series is now modified\n",
        "<br><br>\n",
        "\n",
        "## **Deleting values from Pandas Series:**\n",
        "\n",
        "We can also delete items from a Pandas Series by using the ```.drop()``` method. The ```Series.drop(label)``` method removes the given label from the given Series."
      ]
    },
    {
      "cell_type": "code",
      "execution_count": null,
      "id": "f4606d96",
      "metadata": {
        "id": "f4606d96",
        "outputId": "a73c6872-0f8a-4f18-d6bc-3c017169a3fe",
        "colab": {
          "base_uri": "https://localhost:8080/",
          "height": 182
        }
      },
      "outputs": [
        {
          "output_type": "error",
          "ename": "NameError",
          "evalue": "ignored",
          "traceback": [
            "\u001b[0;31m---------------------------------------------------------------------------\u001b[0m",
            "\u001b[0;31mNameError\u001b[0m                                 Traceback (most recent call last)",
            "\u001b[0;32m<ipython-input-1-54dcb4998d75>\u001b[0m in \u001b[0;36m<module>\u001b[0;34m()\u001b[0m\n\u001b[1;32m      1\u001b[0m \u001b[0;31m# Also we can delete items from the pandas series using drop method\u001b[0m\u001b[0;34m\u001b[0m\u001b[0;34m\u001b[0m\u001b[0;34m\u001b[0m\u001b[0m\n\u001b[0;32m----> 2\u001b[0;31m \u001b[0mitem\u001b[0m\u001b[0;34m.\u001b[0m\u001b[0mdrop\u001b[0m\u001b[0;34m(\u001b[0m\u001b[0;34m'chocolates'\u001b[0m\u001b[0;34m)\u001b[0m\u001b[0;34m\u001b[0m\u001b[0;34m\u001b[0m\u001b[0m\n\u001b[0m",
            "\u001b[0;31mNameError\u001b[0m: name 'item' is not defined"
          ]
        }
      ],
      "source": [
        "# Also we can delete items from the pandas series using drop method\n",
        "item.drop('chocolates')"
      ]
    },
    {
      "cell_type": "markdown",
      "id": "f9c04897",
      "metadata": {
        "id": "f9c04897"
      },
      "source": [
        "As we see the chocolate item is no longer is present in the series returned by the method.\n",
        "\n",
        "><B>Note: </B>However, this drops elements from the series out of place meaning the code above just returned the modified series and actually didn't change the actual series."
      ]
    },
    {
      "cell_type": "code",
      "execution_count": null,
      "id": "bb66b205",
      "metadata": {
        "id": "bb66b205"
      },
      "outputs": [],
      "source": [
        "item   # THE CHOCOLATES ITEM MUST BE PRESENT HERE"
      ]
    },
    {
      "cell_type": "markdown",
      "id": "bdfe0214",
      "metadata": {
        "id": "bdfe0214"
      },
      "source": [
        "If you want to modify the actual series, we can use either of the two methods\n",
        "* overwrite the returned series on the original one\n",
        "\n",
        "```\n",
        "item = item.drop('chocolates')\n",
        "```\n",
        "\n",
        "* use inplace agrgument and set it to True\n",
        "\n",
        "```\n",
        "item.drop('chocolates', inplace=True)\n",
        "```\n",
        "Let's try the second one "
      ]
    },
    {
      "cell_type": "code",
      "execution_count": null,
      "id": "6c4e6adf",
      "metadata": {
        "id": "6c4e6adf"
      },
      "outputs": [],
      "source": [
        "item.drop('chocolates', inplace= True)\n",
        "item"
      ]
    },
    {
      "cell_type": "markdown",
      "id": "fed7ffaf",
      "metadata": {
        "id": "fed7ffaf"
      },
      "source": [
        "<br>\n",
        "\n",
        "##  **Arithmatic operations on Pandas Series:**\n",
        "Just like with NumPy ndarrays, we can perform element-wise arithmetic operations on Pandas Series.\n",
        "We will look at the arithematic operations between pandas series and single numbers.<br>\n",
        "Let's first make a new series"
      ]
    },
    {
      "cell_type": "code",
      "execution_count": null,
      "id": "a7813ab0",
      "metadata": {
        "id": "a7813ab0",
        "outputId": "72545243-3a85-47f0-a4c1-5315cf61720a"
      },
      "outputs": [
        {
          "data": {
            "text/plain": [
              "candies    10\n",
              "donuts      5\n",
              "ladoos      7\n",
              "dtype: int64"
            ]
          },
          "execution_count": 17,
          "metadata": {},
          "output_type": "execute_result"
        }
      ],
      "source": [
        "sweets = pd.Series(data=[10, 5, 7], index=['candies', 'donuts', 'ladoos'])\n",
        "sweets"
      ]
    },
    {
      "cell_type": "markdown",
      "id": "7273d656",
      "metadata": {
        "id": "7273d656"
      },
      "source": [
        "We can now modify the data in sweets by performing basic arithmetic operations. Let's see some examples"
      ]
    },
    {
      "cell_type": "code",
      "execution_count": null,
      "id": "dafa4270",
      "metadata": {
        "id": "dafa4270",
        "outputId": "4d496530-fb83-43b2-bb85-d3088325ad90"
      },
      "outputs": [
        {
          "data": {
            "text/plain": [
              "candies    12\n",
              "donuts      7\n",
              "ladoos      9\n",
              "dtype: int64"
            ]
          },
          "execution_count": 18,
          "metadata": {},
          "output_type": "execute_result"
        }
      ],
      "source": [
        "sweets+2"
      ]
    },
    {
      "cell_type": "code",
      "execution_count": null,
      "id": "6a64cd0b",
      "metadata": {
        "id": "6a64cd0b",
        "outputId": "37fb8705-c0ce-4154-cfde-2da762b42733"
      },
      "outputs": [
        {
          "data": {
            "text/plain": [
              "candies    8\n",
              "donuts     3\n",
              "ladoos     5\n",
              "dtype: int64"
            ]
          },
          "execution_count": 19,
          "metadata": {},
          "output_type": "execute_result"
        }
      ],
      "source": [
        "sweets-2"
      ]
    },
    {
      "cell_type": "code",
      "execution_count": null,
      "id": "90db607b",
      "metadata": {
        "id": "90db607b",
        "outputId": "8d60dd90-48b2-46a3-a810-ca875094d173"
      },
      "outputs": [
        {
          "data": {
            "text/plain": [
              "candies    20\n",
              "donuts     10\n",
              "ladoos     14\n",
              "dtype: int64"
            ]
          },
          "execution_count": 20,
          "metadata": {},
          "output_type": "execute_result"
        }
      ],
      "source": [
        "sweets*2"
      ]
    },
    {
      "cell_type": "code",
      "execution_count": null,
      "id": "c61c66ae",
      "metadata": {
        "id": "c61c66ae",
        "outputId": "ed5b9d36-9ffa-49c4-a61c-c898c713c635"
      },
      "outputs": [
        {
          "data": {
            "text/plain": [
              "candies    3.162278\n",
              "donuts     2.236068\n",
              "ladoos     2.645751\n",
              "dtype: float64"
            ]
          },
          "execution_count": 21,
          "metadata": {},
          "output_type": "execute_result"
        }
      ],
      "source": [
        "# WE CAN ALSO APPLY MATHEMATICAL FUNCTIONS FROM NUPY SUCH AS SQAURE ROOT\n",
        "import numpy as np\n",
        "\n",
        "np.sqrt(sweets)"
      ]
    },
    {
      "cell_type": "markdown",
      "id": "446d39a5",
      "metadata": {
        "id": "446d39a5"
      },
      "source": [
        "Pandas also allows us to only apply arithmetic operations on selected items in our sweets list. Let's see some examples"
      ]
    },
    {
      "cell_type": "code",
      "execution_count": null,
      "id": "951a237a",
      "metadata": {
        "id": "951a237a",
        "outputId": "2b617e55-a2e4-43ca-c317-aeaf47935c0a"
      },
      "outputs": [
        {
          "data": {
            "text/plain": [
              "candies    10000\n",
              "donuts       625\n",
              "ladoos      2401\n",
              "dtype: int64"
            ]
          },
          "execution_count": 22,
          "metadata": {},
          "output_type": "execute_result"
        }
      ],
      "source": [
        "np.power(sweets, 4)"
      ]
    },
    {
      "cell_type": "code",
      "execution_count": null,
      "id": "26a93633",
      "metadata": {
        "id": "26a93633",
        "outputId": "b7a57c0b-f73c-425b-cb75-67dd282a5c1c"
      },
      "outputs": [
        {
          "data": {
            "text/plain": [
              "candies    22026.465795\n",
              "donuts       148.413159\n",
              "ladoos      1096.633158\n",
              "dtype: float64"
            ]
          },
          "execution_count": 23,
          "metadata": {},
          "output_type": "execute_result"
        }
      ],
      "source": [
        "np.exp(sweets)"
      ]
    },
    {
      "cell_type": "markdown",
      "id": "70599c89",
      "metadata": {
        "id": "70599c89"
      },
      "source": [
        "We can also apply arithemeatic operations on specific elements"
      ]
    },
    {
      "cell_type": "code",
      "execution_count": null,
      "id": "f1fec54d",
      "metadata": {
        "id": "f1fec54d",
        "outputId": "f04f2f4e-42b4-44f7-bcc5-078e6d52eca3"
      },
      "outputs": [
        {
          "data": {
            "text/plain": [
              "6"
            ]
          },
          "execution_count": 24,
          "metadata": {},
          "output_type": "execute_result"
        }
      ],
      "source": [
        "sweets['candies']-4"
      ]
    },
    {
      "cell_type": "code",
      "execution_count": null,
      "id": "6f7edf5f",
      "metadata": {
        "id": "6f7edf5f",
        "outputId": "37382e78-9982-430b-d687-c253b394a373"
      },
      "outputs": [
        {
          "data": {
            "text/plain": [
              "donuts    15\n",
              "ladoos    21\n",
              "dtype: int64"
            ]
          },
          "execution_count": 25,
          "metadata": {},
          "output_type": "execute_result"
        }
      ],
      "source": [
        "sweets[['donuts', 'ladoos']]*3"
      ]
    },
    {
      "cell_type": "markdown",
      "id": "7c3f5793",
      "metadata": {
        "id": "7c3f5793"
      },
      "source": [
        "><b>Note:</b> We can also apply arithematic operations on a pandas series of mixed data types, provided the operations are defines on all the datatypes.\n",
        "\n",
        "* Let's use the item series we made earlier "
      ]
    },
    {
      "cell_type": "code",
      "execution_count": null,
      "id": "bc857f43",
      "metadata": {
        "id": "bc857f43",
        "outputId": "3029cc13-79ea-4f6f-e0cf-351cfd2059fc"
      },
      "outputs": [
        {
          "data": {
            "text/plain": [
              "chocolates    15\n",
              "chips          5\n",
              "milk          No\n",
              "dtype: object"
            ]
          },
          "execution_count": 26,
          "metadata": {},
          "output_type": "execute_result"
        }
      ],
      "source": [
        "item = pd.Series(data=[15, 5, 'No'], index=['chocolates', 'chips', 'milk'])\n",
        "item"
      ]
    },
    {
      "cell_type": "code",
      "execution_count": null,
      "id": "bdad0ef5",
      "metadata": {
        "id": "bdad0ef5",
        "outputId": "de1f567a-a20b-43a6-9cf1-02bee4206f6d"
      },
      "outputs": [
        {
          "data": {
            "text/plain": [
              "chocolates      30\n",
              "chips           10\n",
              "milk          NoNo\n",
              "dtype: object"
            ]
          },
          "execution_count": 27,
          "metadata": {},
          "output_type": "execute_result"
        }
      ],
      "source": [
        "item * 2  #SINCE MULTIPLICATION OPERATION IS DEFINED FOR BOTH STRINGS AND INTEGERS, THE CODE DOESN'T RETURN ANY ERROR"
      ]
    },
    {
      "cell_type": "code",
      "execution_count": null,
      "id": "f90fa35a",
      "metadata": {
        "id": "f90fa35a",
        "outputId": "dd1ab3b4-fbc6-479a-c5e8-cb6599301a44"
      },
      "outputs": [
        {
          "ename": "TypeError",
          "evalue": "unsupported operand type(s) for /: 'str' and 'int'",
          "output_type": "error",
          "traceback": [
            "\u001b[1;31m---------------------------------------------------------------------------\u001b[0m",
            "\u001b[1;31mTypeError\u001b[0m                                 Traceback (most recent call last)",
            "\u001b[1;32mC:\\Users\\pdwiv\\anaconda3\\envs\\tensorflow\\lib\\site-packages\\pandas\\core\\ops\\array_ops.py\u001b[0m in \u001b[0;36m_na_arithmetic_op\u001b[1;34m(left, right, op, is_cmp)\u001b[0m\n\u001b[0;32m    141\u001b[0m     \u001b[1;32mtry\u001b[0m\u001b[1;33m:\u001b[0m\u001b[1;33m\u001b[0m\u001b[1;33m\u001b[0m\u001b[0m\n\u001b[1;32m--> 142\u001b[1;33m         \u001b[0mresult\u001b[0m \u001b[1;33m=\u001b[0m \u001b[0mexpressions\u001b[0m\u001b[1;33m.\u001b[0m\u001b[0mevaluate\u001b[0m\u001b[1;33m(\u001b[0m\u001b[0mop\u001b[0m\u001b[1;33m,\u001b[0m \u001b[0mleft\u001b[0m\u001b[1;33m,\u001b[0m \u001b[0mright\u001b[0m\u001b[1;33m)\u001b[0m\u001b[1;33m\u001b[0m\u001b[1;33m\u001b[0m\u001b[0m\n\u001b[0m\u001b[0;32m    143\u001b[0m     \u001b[1;32mexcept\u001b[0m \u001b[0mTypeError\u001b[0m\u001b[1;33m:\u001b[0m\u001b[1;33m\u001b[0m\u001b[1;33m\u001b[0m\u001b[0m\n",
            "\u001b[1;32mC:\\Users\\pdwiv\\anaconda3\\envs\\tensorflow\\lib\\site-packages\\pandas\\core\\computation\\expressions.py\u001b[0m in \u001b[0;36mevaluate\u001b[1;34m(op, a, b, use_numexpr)\u001b[0m\n\u001b[0;32m    234\u001b[0m             \u001b[1;31m# error: \"None\" not callable\u001b[0m\u001b[1;33m\u001b[0m\u001b[1;33m\u001b[0m\u001b[1;33m\u001b[0m\u001b[0m\n\u001b[1;32m--> 235\u001b[1;33m             \u001b[1;32mreturn\u001b[0m \u001b[0m_evaluate\u001b[0m\u001b[1;33m(\u001b[0m\u001b[0mop\u001b[0m\u001b[1;33m,\u001b[0m \u001b[0mop_str\u001b[0m\u001b[1;33m,\u001b[0m \u001b[0ma\u001b[0m\u001b[1;33m,\u001b[0m \u001b[0mb\u001b[0m\u001b[1;33m)\u001b[0m  \u001b[1;31m# type: ignore[misc]\u001b[0m\u001b[1;33m\u001b[0m\u001b[1;33m\u001b[0m\u001b[0m\n\u001b[0m\u001b[0;32m    236\u001b[0m     \u001b[1;32mreturn\u001b[0m \u001b[0m_evaluate_standard\u001b[0m\u001b[1;33m(\u001b[0m\u001b[0mop\u001b[0m\u001b[1;33m,\u001b[0m \u001b[0mop_str\u001b[0m\u001b[1;33m,\u001b[0m \u001b[0ma\u001b[0m\u001b[1;33m,\u001b[0m \u001b[0mb\u001b[0m\u001b[1;33m)\u001b[0m\u001b[1;33m\u001b[0m\u001b[1;33m\u001b[0m\u001b[0m\n",
            "\u001b[1;32mC:\\Users\\pdwiv\\anaconda3\\envs\\tensorflow\\lib\\site-packages\\pandas\\core\\computation\\expressions.py\u001b[0m in \u001b[0;36m_evaluate_standard\u001b[1;34m(op, op_str, a, b)\u001b[0m\n\u001b[0;32m     68\u001b[0m     \u001b[1;32mwith\u001b[0m \u001b[0mnp\u001b[0m\u001b[1;33m.\u001b[0m\u001b[0merrstate\u001b[0m\u001b[1;33m(\u001b[0m\u001b[0mall\u001b[0m\u001b[1;33m=\u001b[0m\u001b[1;34m\"ignore\"\u001b[0m\u001b[1;33m)\u001b[0m\u001b[1;33m:\u001b[0m\u001b[1;33m\u001b[0m\u001b[1;33m\u001b[0m\u001b[0m\n\u001b[1;32m---> 69\u001b[1;33m         \u001b[1;32mreturn\u001b[0m \u001b[0mop\u001b[0m\u001b[1;33m(\u001b[0m\u001b[0ma\u001b[0m\u001b[1;33m,\u001b[0m \u001b[0mb\u001b[0m\u001b[1;33m)\u001b[0m\u001b[1;33m\u001b[0m\u001b[1;33m\u001b[0m\u001b[0m\n\u001b[0m\u001b[0;32m     70\u001b[0m \u001b[1;33m\u001b[0m\u001b[0m\n",
            "\u001b[1;31mTypeError\u001b[0m: unsupported operand type(s) for /: 'str' and 'int'",
            "\nDuring handling of the above exception, another exception occurred:\n",
            "\u001b[1;31mTypeError\u001b[0m                                 Traceback (most recent call last)",
            "\u001b[1;32m<ipython-input-28-63fa23154c8e>\u001b[0m in \u001b[0;36m<module>\u001b[1;34m()\u001b[0m\n\u001b[1;32m----> 1\u001b[1;33m \u001b[0mitem\u001b[0m\u001b[1;33m/\u001b[0m\u001b[1;36m2\u001b[0m \u001b[1;31m#SINCE THE DIVISION OPERATION IS DEFINED ONLY FOR NUMBERS AND NOT FOR STRING, THE CODE WILL RETURN AN ERROR\u001b[0m\u001b[1;33m\u001b[0m\u001b[1;33m\u001b[0m\u001b[0m\n\u001b[0m",
            "\u001b[1;32mC:\\Users\\pdwiv\\anaconda3\\envs\\tensorflow\\lib\\site-packages\\pandas\\core\\ops\\common.py\u001b[0m in \u001b[0;36mnew_method\u001b[1;34m(self, other)\u001b[0m\n\u001b[0;32m     63\u001b[0m         \u001b[0mother\u001b[0m \u001b[1;33m=\u001b[0m \u001b[0mitem_from_zerodim\u001b[0m\u001b[1;33m(\u001b[0m\u001b[0mother\u001b[0m\u001b[1;33m)\u001b[0m\u001b[1;33m\u001b[0m\u001b[1;33m\u001b[0m\u001b[0m\n\u001b[0;32m     64\u001b[0m \u001b[1;33m\u001b[0m\u001b[0m\n\u001b[1;32m---> 65\u001b[1;33m         \u001b[1;32mreturn\u001b[0m \u001b[0mmethod\u001b[0m\u001b[1;33m(\u001b[0m\u001b[0mself\u001b[0m\u001b[1;33m,\u001b[0m \u001b[0mother\u001b[0m\u001b[1;33m)\u001b[0m\u001b[1;33m\u001b[0m\u001b[1;33m\u001b[0m\u001b[0m\n\u001b[0m\u001b[0;32m     66\u001b[0m \u001b[1;33m\u001b[0m\u001b[0m\n\u001b[0;32m     67\u001b[0m     \u001b[1;32mreturn\u001b[0m \u001b[0mnew_method\u001b[0m\u001b[1;33m\u001b[0m\u001b[1;33m\u001b[0m\u001b[0m\n",
            "\u001b[1;32mC:\\Users\\pdwiv\\anaconda3\\envs\\tensorflow\\lib\\site-packages\\pandas\\core\\arraylike.py\u001b[0m in \u001b[0;36m__truediv__\u001b[1;34m(self, other)\u001b[0m\n\u001b[0;32m    111\u001b[0m     \u001b[1;33m@\u001b[0m\u001b[0munpack_zerodim_and_defer\u001b[0m\u001b[1;33m(\u001b[0m\u001b[1;34m\"__truediv__\"\u001b[0m\u001b[1;33m)\u001b[0m\u001b[1;33m\u001b[0m\u001b[1;33m\u001b[0m\u001b[0m\n\u001b[0;32m    112\u001b[0m     \u001b[1;32mdef\u001b[0m \u001b[0m__truediv__\u001b[0m\u001b[1;33m(\u001b[0m\u001b[0mself\u001b[0m\u001b[1;33m,\u001b[0m \u001b[0mother\u001b[0m\u001b[1;33m)\u001b[0m\u001b[1;33m:\u001b[0m\u001b[1;33m\u001b[0m\u001b[1;33m\u001b[0m\u001b[0m\n\u001b[1;32m--> 113\u001b[1;33m         \u001b[1;32mreturn\u001b[0m \u001b[0mself\u001b[0m\u001b[1;33m.\u001b[0m\u001b[0m_arith_method\u001b[0m\u001b[1;33m(\u001b[0m\u001b[0mother\u001b[0m\u001b[1;33m,\u001b[0m \u001b[0moperator\u001b[0m\u001b[1;33m.\u001b[0m\u001b[0mtruediv\u001b[0m\u001b[1;33m)\u001b[0m\u001b[1;33m\u001b[0m\u001b[1;33m\u001b[0m\u001b[0m\n\u001b[0m\u001b[0;32m    114\u001b[0m \u001b[1;33m\u001b[0m\u001b[0m\n\u001b[0;32m    115\u001b[0m     \u001b[1;33m@\u001b[0m\u001b[0munpack_zerodim_and_defer\u001b[0m\u001b[1;33m(\u001b[0m\u001b[1;34m\"__rtruediv__\"\u001b[0m\u001b[1;33m)\u001b[0m\u001b[1;33m\u001b[0m\u001b[1;33m\u001b[0m\u001b[0m\n",
            "\u001b[1;32mC:\\Users\\pdwiv\\anaconda3\\envs\\tensorflow\\lib\\site-packages\\pandas\\core\\series.py\u001b[0m in \u001b[0;36m_arith_method\u001b[1;34m(self, other, op)\u001b[0m\n\u001b[0;32m   4996\u001b[0m         \u001b[0mlvalues\u001b[0m \u001b[1;33m=\u001b[0m \u001b[0mextract_array\u001b[0m\u001b[1;33m(\u001b[0m\u001b[0mself\u001b[0m\u001b[1;33m,\u001b[0m \u001b[0mextract_numpy\u001b[0m\u001b[1;33m=\u001b[0m\u001b[1;32mTrue\u001b[0m\u001b[1;33m)\u001b[0m\u001b[1;33m\u001b[0m\u001b[1;33m\u001b[0m\u001b[0m\n\u001b[0;32m   4997\u001b[0m         \u001b[0mrvalues\u001b[0m \u001b[1;33m=\u001b[0m \u001b[0mextract_array\u001b[0m\u001b[1;33m(\u001b[0m\u001b[0mother\u001b[0m\u001b[1;33m,\u001b[0m \u001b[0mextract_numpy\u001b[0m\u001b[1;33m=\u001b[0m\u001b[1;32mTrue\u001b[0m\u001b[1;33m)\u001b[0m\u001b[1;33m\u001b[0m\u001b[1;33m\u001b[0m\u001b[0m\n\u001b[1;32m-> 4998\u001b[1;33m         \u001b[0mresult\u001b[0m \u001b[1;33m=\u001b[0m \u001b[0mops\u001b[0m\u001b[1;33m.\u001b[0m\u001b[0marithmetic_op\u001b[0m\u001b[1;33m(\u001b[0m\u001b[0mlvalues\u001b[0m\u001b[1;33m,\u001b[0m \u001b[0mrvalues\u001b[0m\u001b[1;33m,\u001b[0m \u001b[0mop\u001b[0m\u001b[1;33m)\u001b[0m\u001b[1;33m\u001b[0m\u001b[1;33m\u001b[0m\u001b[0m\n\u001b[0m\u001b[0;32m   4999\u001b[0m \u001b[1;33m\u001b[0m\u001b[0m\n\u001b[0;32m   5000\u001b[0m         \u001b[1;32mreturn\u001b[0m \u001b[0mself\u001b[0m\u001b[1;33m.\u001b[0m\u001b[0m_construct_result\u001b[0m\u001b[1;33m(\u001b[0m\u001b[0mresult\u001b[0m\u001b[1;33m,\u001b[0m \u001b[0mname\u001b[0m\u001b[1;33m=\u001b[0m\u001b[0mres_name\u001b[0m\u001b[1;33m)\u001b[0m\u001b[1;33m\u001b[0m\u001b[1;33m\u001b[0m\u001b[0m\n",
            "\u001b[1;32mC:\\Users\\pdwiv\\anaconda3\\envs\\tensorflow\\lib\\site-packages\\pandas\\core\\ops\\array_ops.py\u001b[0m in \u001b[0;36marithmetic_op\u001b[1;34m(left, right, op)\u001b[0m\n\u001b[0;32m    187\u001b[0m     \u001b[1;32melse\u001b[0m\u001b[1;33m:\u001b[0m\u001b[1;33m\u001b[0m\u001b[1;33m\u001b[0m\u001b[0m\n\u001b[0;32m    188\u001b[0m         \u001b[1;32mwith\u001b[0m \u001b[0mnp\u001b[0m\u001b[1;33m.\u001b[0m\u001b[0merrstate\u001b[0m\u001b[1;33m(\u001b[0m\u001b[0mall\u001b[0m\u001b[1;33m=\u001b[0m\u001b[1;34m\"ignore\"\u001b[0m\u001b[1;33m)\u001b[0m\u001b[1;33m:\u001b[0m\u001b[1;33m\u001b[0m\u001b[1;33m\u001b[0m\u001b[0m\n\u001b[1;32m--> 189\u001b[1;33m             \u001b[0mres_values\u001b[0m \u001b[1;33m=\u001b[0m \u001b[0m_na_arithmetic_op\u001b[0m\u001b[1;33m(\u001b[0m\u001b[0mlvalues\u001b[0m\u001b[1;33m,\u001b[0m \u001b[0mrvalues\u001b[0m\u001b[1;33m,\u001b[0m \u001b[0mop\u001b[0m\u001b[1;33m)\u001b[0m\u001b[1;33m\u001b[0m\u001b[1;33m\u001b[0m\u001b[0m\n\u001b[0m\u001b[0;32m    190\u001b[0m \u001b[1;33m\u001b[0m\u001b[0m\n\u001b[0;32m    191\u001b[0m     \u001b[1;32mreturn\u001b[0m \u001b[0mres_values\u001b[0m\u001b[1;33m\u001b[0m\u001b[1;33m\u001b[0m\u001b[0m\n",
            "\u001b[1;32mC:\\Users\\pdwiv\\anaconda3\\envs\\tensorflow\\lib\\site-packages\\pandas\\core\\ops\\array_ops.py\u001b[0m in \u001b[0;36m_na_arithmetic_op\u001b[1;34m(left, right, op, is_cmp)\u001b[0m\n\u001b[0;32m    147\u001b[0m             \u001b[1;31m#  will handle complex numbers incorrectly, see GH#32047\u001b[0m\u001b[1;33m\u001b[0m\u001b[1;33m\u001b[0m\u001b[1;33m\u001b[0m\u001b[0m\n\u001b[0;32m    148\u001b[0m             \u001b[1;32mraise\u001b[0m\u001b[1;33m\u001b[0m\u001b[1;33m\u001b[0m\u001b[0m\n\u001b[1;32m--> 149\u001b[1;33m         \u001b[0mresult\u001b[0m \u001b[1;33m=\u001b[0m \u001b[0m_masked_arith_op\u001b[0m\u001b[1;33m(\u001b[0m\u001b[0mleft\u001b[0m\u001b[1;33m,\u001b[0m \u001b[0mright\u001b[0m\u001b[1;33m,\u001b[0m \u001b[0mop\u001b[0m\u001b[1;33m)\u001b[0m\u001b[1;33m\u001b[0m\u001b[1;33m\u001b[0m\u001b[0m\n\u001b[0m\u001b[0;32m    150\u001b[0m \u001b[1;33m\u001b[0m\u001b[0m\n\u001b[0;32m    151\u001b[0m     \u001b[1;32mif\u001b[0m \u001b[0mis_cmp\u001b[0m \u001b[1;32mand\u001b[0m \u001b[1;33m(\u001b[0m\u001b[0mis_scalar\u001b[0m\u001b[1;33m(\u001b[0m\u001b[0mresult\u001b[0m\u001b[1;33m)\u001b[0m \u001b[1;32mor\u001b[0m \u001b[0mresult\u001b[0m \u001b[1;32mis\u001b[0m \u001b[0mNotImplemented\u001b[0m\u001b[1;33m)\u001b[0m\u001b[1;33m:\u001b[0m\u001b[1;33m\u001b[0m\u001b[1;33m\u001b[0m\u001b[0m\n",
            "\u001b[1;32mC:\\Users\\pdwiv\\anaconda3\\envs\\tensorflow\\lib\\site-packages\\pandas\\core\\ops\\array_ops.py\u001b[0m in \u001b[0;36m_masked_arith_op\u001b[1;34m(x, y, op)\u001b[0m\n\u001b[0;32m    109\u001b[0m         \u001b[1;32mif\u001b[0m \u001b[0mmask\u001b[0m\u001b[1;33m.\u001b[0m\u001b[0many\u001b[0m\u001b[1;33m(\u001b[0m\u001b[1;33m)\u001b[0m\u001b[1;33m:\u001b[0m\u001b[1;33m\u001b[0m\u001b[1;33m\u001b[0m\u001b[0m\n\u001b[0;32m    110\u001b[0m             \u001b[1;32mwith\u001b[0m \u001b[0mnp\u001b[0m\u001b[1;33m.\u001b[0m\u001b[0merrstate\u001b[0m\u001b[1;33m(\u001b[0m\u001b[0mall\u001b[0m\u001b[1;33m=\u001b[0m\u001b[1;34m\"ignore\"\u001b[0m\u001b[1;33m)\u001b[0m\u001b[1;33m:\u001b[0m\u001b[1;33m\u001b[0m\u001b[1;33m\u001b[0m\u001b[0m\n\u001b[1;32m--> 111\u001b[1;33m                 \u001b[0mresult\u001b[0m\u001b[1;33m[\u001b[0m\u001b[0mmask\u001b[0m\u001b[1;33m]\u001b[0m \u001b[1;33m=\u001b[0m \u001b[0mop\u001b[0m\u001b[1;33m(\u001b[0m\u001b[0mxrav\u001b[0m\u001b[1;33m[\u001b[0m\u001b[0mmask\u001b[0m\u001b[1;33m]\u001b[0m\u001b[1;33m,\u001b[0m \u001b[0my\u001b[0m\u001b[1;33m)\u001b[0m\u001b[1;33m\u001b[0m\u001b[1;33m\u001b[0m\u001b[0m\n\u001b[0m\u001b[0;32m    112\u001b[0m \u001b[1;33m\u001b[0m\u001b[0m\n\u001b[0;32m    113\u001b[0m     \u001b[0mresult\u001b[0m\u001b[1;33m,\u001b[0m \u001b[0m_\u001b[0m \u001b[1;33m=\u001b[0m \u001b[0mmaybe_upcast_putmask\u001b[0m\u001b[1;33m(\u001b[0m\u001b[0mresult\u001b[0m\u001b[1;33m,\u001b[0m \u001b[1;33m~\u001b[0m\u001b[0mmask\u001b[0m\u001b[1;33m,\u001b[0m \u001b[0mnp\u001b[0m\u001b[1;33m.\u001b[0m\u001b[0mnan\u001b[0m\u001b[1;33m)\u001b[0m\u001b[1;33m\u001b[0m\u001b[1;33m\u001b[0m\u001b[0m\n",
            "\u001b[1;31mTypeError\u001b[0m: unsupported operand type(s) for /: 'str' and 'int'"
          ]
        }
      ],
      "source": [
        "item/2 #SINCE THE DIVISION OPERATION IS DEFINED ONLY FOR NUMBERS AND NOT FOR STRING, THE CODE WILL RETURN AN ERROR"
      ]
    },
    {
      "cell_type": "markdown",
      "id": "a993d198",
      "metadata": {
        "id": "a993d198"
      },
      "source": [
        "<br><br><hr>\n",
        "<H3><B>2. PANDAS DATAFRAME</B></H3>\n",
        "\n",
        "Dataframe is a two dimensional object which holds rows and columns and can hold values of different data types.\n",
        "\n",
        "* We can create a dataframe manually or by loading data from a file.\n",
        "\n",
        "<br>\n",
        "Let's first ceate a dataframe manually:<<br>\n",
        "\n",
        "*  First let's create a dictionary of pandas series and pass it into pandas dataframe"
      ]
    },
    {
      "cell_type": "code",
      "execution_count": null,
      "id": "07f2703c",
      "metadata": {
        "id": "07f2703c"
      },
      "outputs": [],
      "source": [
        "item = {'Pulkit': pd.Series([250, 15, 70, 100], index=['watch', 'toys', 'glasses', 'shirt']),\n",
        "        'Ashish': pd.Series([120, 50, 90], index=['pants', 'books', 'toys' ])}\n",
        "\n",
        "# item is a dictionary for two people containing some items and the cost of the item "
      ]
    },
    {
      "cell_type": "code",
      "execution_count": null,
      "id": "1adeec48",
      "metadata": {
        "id": "1adeec48",
        "outputId": "ca36c89a-e8a0-420e-f367-786ea96645e8"
      },
      "outputs": [
        {
          "data": {
            "text/html": [
              "<div>\n",
              "<style scoped>\n",
              "    .dataframe tbody tr th:only-of-type {\n",
              "        vertical-align: middle;\n",
              "    }\n",
              "\n",
              "    .dataframe tbody tr th {\n",
              "        vertical-align: top;\n",
              "    }\n",
              "\n",
              "    .dataframe thead th {\n",
              "        text-align: right;\n",
              "    }\n",
              "</style>\n",
              "<table border=\"1\" class=\"dataframe\">\n",
              "  <thead>\n",
              "    <tr style=\"text-align: right;\">\n",
              "      <th></th>\n",
              "      <th>Pulkit</th>\n",
              "      <th>Ashish</th>\n",
              "    </tr>\n",
              "  </thead>\n",
              "  <tbody>\n",
              "    <tr>\n",
              "      <th>books</th>\n",
              "      <td>NaN</td>\n",
              "      <td>50.0</td>\n",
              "    </tr>\n",
              "    <tr>\n",
              "      <th>glasses</th>\n",
              "      <td>70.0</td>\n",
              "      <td>NaN</td>\n",
              "    </tr>\n",
              "    <tr>\n",
              "      <th>pants</th>\n",
              "      <td>NaN</td>\n",
              "      <td>120.0</td>\n",
              "    </tr>\n",
              "    <tr>\n",
              "      <th>shirt</th>\n",
              "      <td>100.0</td>\n",
              "      <td>NaN</td>\n",
              "    </tr>\n",
              "    <tr>\n",
              "      <th>toys</th>\n",
              "      <td>15.0</td>\n",
              "      <td>90.0</td>\n",
              "    </tr>\n",
              "    <tr>\n",
              "      <th>watch</th>\n",
              "      <td>250.0</td>\n",
              "      <td>NaN</td>\n",
              "    </tr>\n",
              "  </tbody>\n",
              "</table>\n",
              "</div>"
            ],
            "text/plain": [
              "         Pulkit  Ashish\n",
              "books       NaN    50.0\n",
              "glasses    70.0     NaN\n",
              "pants       NaN   120.0\n",
              "shirt     100.0     NaN\n",
              "toys       15.0    90.0\n",
              "watch     250.0     NaN"
            ]
          },
          "execution_count": 30,
          "metadata": {},
          "output_type": "execute_result"
        }
      ],
      "source": [
        "# WE CAN CREATE A DATA FRAME BY PASSINF THE DICTIONARY TO THE DataFrame FUNCTION\n",
        "\n",
        "cart = pd.DataFrame(item)\n",
        "cart"
      ]
    },
    {
      "cell_type": "markdown",
      "id": "58d3311f",
      "metadata": {
        "id": "58d3311f"
      },
      "source": [
        "* Make sure to capitalize the **D** and **F** while calling the dataframe function.\n",
        "* The dataframe is displayed in the tabular form\n",
        "* The row labels for the dataframe are built from the union of the index labels we provided in the series and the column labels for the dataframe is taken from the keys of the dictionaries.\n",
        "* The dataframe has NaN values because for Pulkit we have no item like books and pants in the dicrionary we provided and similarly we have NaN values  for column Ashish."
      ]
    },
    {
      "cell_type": "code",
      "execution_count": null,
      "id": "c8745021",
      "metadata": {
        "id": "c8745021",
        "outputId": "5ee80c3e-e543-4ab7-8ed0-753fb435b78d"
      },
      "outputs": [
        {
          "data": {
            "text/html": [
              "<div>\n",
              "<style scoped>\n",
              "    .dataframe tbody tr th:only-of-type {\n",
              "        vertical-align: middle;\n",
              "    }\n",
              "\n",
              "    .dataframe tbody tr th {\n",
              "        vertical-align: top;\n",
              "    }\n",
              "\n",
              "    .dataframe thead th {\n",
              "        text-align: right;\n",
              "    }\n",
              "</style>\n",
              "<table border=\"1\" class=\"dataframe\">\n",
              "  <thead>\n",
              "    <tr style=\"text-align: right;\">\n",
              "      <th></th>\n",
              "      <th>Pulkit</th>\n",
              "      <th>Ashish</th>\n",
              "    </tr>\n",
              "  </thead>\n",
              "  <tbody>\n",
              "    <tr>\n",
              "      <th>0</th>\n",
              "      <td>250</td>\n",
              "      <td>120.0</td>\n",
              "    </tr>\n",
              "    <tr>\n",
              "      <th>1</th>\n",
              "      <td>15</td>\n",
              "      <td>50.0</td>\n",
              "    </tr>\n",
              "    <tr>\n",
              "      <th>2</th>\n",
              "      <td>70</td>\n",
              "      <td>90.0</td>\n",
              "    </tr>\n",
              "    <tr>\n",
              "      <th>3</th>\n",
              "      <td>100</td>\n",
              "      <td>NaN</td>\n",
              "    </tr>\n",
              "  </tbody>\n",
              "</table>\n",
              "</div>"
            ],
            "text/plain": [
              "   Pulkit  Ashish\n",
              "0     250   120.0\n",
              "1      15    50.0\n",
              "2      70    90.0\n",
              "3     100     NaN"
            ]
          },
          "execution_count": 31,
          "metadata": {},
          "output_type": "execute_result"
        }
      ],
      "source": [
        "# IN ABOVE EXAMPLE WE PROVIDED THE DICTIONARIES THAT CLEARLY DEFINED THE INDEX LABLES\n",
        "#HOWEVER IF WE DON'T PROVIDE THE INDEX LABELS, \n",
        "# THEN THE DATAFRAME WOULD USE THE NUMERICAL INDEX VALUES\n",
        "# LET'S CREATE THE SAME DICIONARY WITHOUT THE INDEXED LABELS\n",
        "new_item = {'Pulkit': pd.Series([250, 15, 70, 100]),\n",
        "        'Ashish': pd.Series([120, 50, 90])}\n",
        "\n",
        "\n",
        "# NOW MAKE THE DATAFRAME USING THE NEW DICTIONARIES \n",
        "df = pd.DataFrame(new_item)\n",
        "df"
      ]
    },
    {
      "cell_type": "markdown",
      "id": "a247bce8",
      "metadata": {
        "id": "a247bce8"
      },
      "source": [
        "<br>\n",
        "<hr>\n",
        "<h4><b>2.a Attributes</b></h4>\n",
        "\n",
        "Like we did in pandas series, we can also extract information from pandas dataframe using some attributes."
      ]
    },
    {
      "cell_type": "code",
      "execution_count": null,
      "id": "755c1fda",
      "metadata": {
        "id": "755c1fda",
        "outputId": "ebe348f0-10c1-4809-f638-b3c1c8fba176"
      },
      "outputs": [
        {
          "data": {
            "text/plain": [
              "Index(['books', 'glasses', 'pants', 'shirt', 'toys', 'watch'], dtype='object')"
            ]
          },
          "execution_count": 32,
          "metadata": {},
          "output_type": "execute_result"
        }
      ],
      "source": [
        "cart.index"
      ]
    },
    {
      "cell_type": "code",
      "execution_count": null,
      "id": "26b56826",
      "metadata": {
        "id": "26b56826",
        "outputId": "1bdc7d84-fbfc-44da-fff1-aef8338363fe"
      },
      "outputs": [
        {
          "data": {
            "text/plain": [
              "Index(['Pulkit', 'Ashish'], dtype='object')"
            ]
          },
          "execution_count": 33,
          "metadata": {},
          "output_type": "execute_result"
        }
      ],
      "source": [
        "cart.columns"
      ]
    },
    {
      "cell_type": "code",
      "execution_count": null,
      "id": "a308d48d",
      "metadata": {
        "id": "a308d48d",
        "outputId": "163b0985-7fcd-4439-832d-cc7d064b7009"
      },
      "outputs": [
        {
          "data": {
            "text/plain": [
              "array([[ nan,  50.],\n",
              "       [ 70.,  nan],\n",
              "       [ nan, 120.],\n",
              "       [100.,  nan],\n",
              "       [ 15.,  90.],\n",
              "       [250.,  nan]])"
            ]
          },
          "execution_count": 34,
          "metadata": {},
          "output_type": "execute_result"
        }
      ],
      "source": [
        "cart.values"
      ]
    },
    {
      "cell_type": "code",
      "execution_count": null,
      "id": "982c29b0",
      "metadata": {
        "id": "982c29b0",
        "outputId": "d6e6e2e8-0463-4daa-9faf-12915d862155"
      },
      "outputs": [
        {
          "data": {
            "text/plain": [
              "(6, 2)"
            ]
          },
          "execution_count": 35,
          "metadata": {},
          "output_type": "execute_result"
        }
      ],
      "source": [
        "cart.shape"
      ]
    },
    {
      "cell_type": "code",
      "execution_count": null,
      "id": "e83a5bb4",
      "metadata": {
        "id": "e83a5bb4",
        "outputId": "a5874b9c-c7c4-4ce8-ee26-ec7dd669a81d"
      },
      "outputs": [
        {
          "data": {
            "text/plain": [
              "2"
            ]
          },
          "execution_count": 36,
          "metadata": {},
          "output_type": "execute_result"
        }
      ],
      "source": [
        "cart.ndim"
      ]
    },
    {
      "cell_type": "code",
      "execution_count": null,
      "id": "ab5bb2ad",
      "metadata": {
        "id": "ab5bb2ad",
        "outputId": "3d9b5d11-228d-4cd4-e71e-80c938279cbf"
      },
      "outputs": [
        {
          "data": {
            "text/plain": [
              "12"
            ]
          },
          "execution_count": 37,
          "metadata": {},
          "output_type": "execute_result"
        }
      ],
      "source": [
        "cart.size"
      ]
    },
    {
      "cell_type": "markdown",
      "id": "8fcde1c2",
      "metadata": {
        "id": "8fcde1c2"
      },
      "source": [
        "><b>NOTE:</B> While creating the cart dataframe, we passed the whole dictionary to the dataframe function. However, there might be cases when we are only interested in some specific subset of the whole data. Pandas let's us select which data we want to put into the DataFrame, with the keywords **columns** and **index**."
      ]
    },
    {
      "cell_type": "code",
      "execution_count": null,
      "id": "eb30e95f",
      "metadata": {
        "id": "eb30e95f",
        "outputId": "a034a20f-ff31-4252-a065-d26eb5874a8b"
      },
      "outputs": [
        {
          "data": {
            "text/html": [
              "<div>\n",
              "<style scoped>\n",
              "    .dataframe tbody tr th:only-of-type {\n",
              "        vertical-align: middle;\n",
              "    }\n",
              "\n",
              "    .dataframe tbody tr th {\n",
              "        vertical-align: top;\n",
              "    }\n",
              "\n",
              "    .dataframe thead th {\n",
              "        text-align: right;\n",
              "    }\n",
              "</style>\n",
              "<table border=\"1\" class=\"dataframe\">\n",
              "  <thead>\n",
              "    <tr style=\"text-align: right;\">\n",
              "      <th></th>\n",
              "      <th>Pulkit</th>\n",
              "    </tr>\n",
              "  </thead>\n",
              "  <tbody>\n",
              "    <tr>\n",
              "      <th>watch</th>\n",
              "      <td>250</td>\n",
              "    </tr>\n",
              "    <tr>\n",
              "      <th>toys</th>\n",
              "      <td>15</td>\n",
              "    </tr>\n",
              "    <tr>\n",
              "      <th>glasses</th>\n",
              "      <td>70</td>\n",
              "    </tr>\n",
              "    <tr>\n",
              "      <th>shirt</th>\n",
              "      <td>100</td>\n",
              "    </tr>\n",
              "  </tbody>\n",
              "</table>\n",
              "</div>"
            ],
            "text/plain": [
              "         Pulkit\n",
              "watch       250\n",
              "toys         15\n",
              "glasses      70\n",
              "shirt       100"
            ]
          },
          "execution_count": 38,
          "metadata": {},
          "output_type": "execute_result"
        }
      ],
      "source": [
        "Pulkit_cart = pd.DataFrame(item, columns=['Pulkit'])\n",
        "Pulkit_cart"
      ]
    },
    {
      "cell_type": "code",
      "execution_count": null,
      "id": "d6e865b8",
      "metadata": {
        "id": "d6e865b8",
        "outputId": "f4c79c98-3350-486d-9a96-b768355d5026"
      },
      "outputs": [
        {
          "data": {
            "text/html": [
              "<div>\n",
              "<style scoped>\n",
              "    .dataframe tbody tr th:only-of-type {\n",
              "        vertical-align: middle;\n",
              "    }\n",
              "\n",
              "    .dataframe tbody tr th {\n",
              "        vertical-align: top;\n",
              "    }\n",
              "\n",
              "    .dataframe thead th {\n",
              "        text-align: right;\n",
              "    }\n",
              "</style>\n",
              "<table border=\"1\" class=\"dataframe\">\n",
              "  <thead>\n",
              "    <tr style=\"text-align: right;\">\n",
              "      <th></th>\n",
              "      <th>Pulkit</th>\n",
              "      <th>Ashish</th>\n",
              "    </tr>\n",
              "  </thead>\n",
              "  <tbody>\n",
              "    <tr>\n",
              "      <th>pants</th>\n",
              "      <td>NaN</td>\n",
              "      <td>120</td>\n",
              "    </tr>\n",
              "    <tr>\n",
              "      <th>toys</th>\n",
              "      <td>15.0</td>\n",
              "      <td>90</td>\n",
              "    </tr>\n",
              "  </tbody>\n",
              "</table>\n",
              "</div>"
            ],
            "text/plain": [
              "       Pulkit  Ashish\n",
              "pants     NaN     120\n",
              "toys     15.0      90"
            ]
          },
          "execution_count": 39,
          "metadata": {},
          "output_type": "execute_result"
        }
      ],
      "source": [
        "selected_item = pd.DataFrame(item, index=['pants', 'toys'])\n",
        "selected_item"
      ]
    },
    {
      "cell_type": "code",
      "execution_count": null,
      "id": "e4376b43",
      "metadata": {
        "id": "e4376b43",
        "outputId": "b1479f2d-d968-47f9-83a9-ccd36c9faec1"
      },
      "outputs": [
        {
          "data": {
            "text/html": [
              "<div>\n",
              "<style scoped>\n",
              "    .dataframe tbody tr th:only-of-type {\n",
              "        vertical-align: middle;\n",
              "    }\n",
              "\n",
              "    .dataframe tbody tr th {\n",
              "        vertical-align: top;\n",
              "    }\n",
              "\n",
              "    .dataframe thead th {\n",
              "        text-align: right;\n",
              "    }\n",
              "</style>\n",
              "<table border=\"1\" class=\"dataframe\">\n",
              "  <thead>\n",
              "    <tr style=\"text-align: right;\">\n",
              "      <th></th>\n",
              "      <th>Ashish</th>\n",
              "    </tr>\n",
              "  </thead>\n",
              "  <tbody>\n",
              "    <tr>\n",
              "      <th>pants</th>\n",
              "      <td>120</td>\n",
              "    </tr>\n",
              "    <tr>\n",
              "      <th>toys</th>\n",
              "      <td>90</td>\n",
              "    </tr>\n",
              "  </tbody>\n",
              "</table>\n",
              "</div>"
            ],
            "text/plain": [
              "       Ashish\n",
              "pants     120\n",
              "toys       90"
            ]
          },
          "execution_count": 40,
          "metadata": {},
          "output_type": "execute_result"
        }
      ],
      "source": [
        "ashish_selected_item = pd.DataFrame(item, columns=['Ashish'], index=['pants', 'toys'])\n",
        "ashish_selected_item"
      ]
    },
    {
      "cell_type": "markdown",
      "id": "075a4385",
      "metadata": {
        "id": "075a4385"
      },
      "source": [
        "We can also create a dataframe from a dictionary of lists or arrays. The procedure is same as before, we start by creating the dictionary and then pass it into the dataframe function. In this case however all the list or arrays in the dictionary must be of the same length."
      ]
    },
    {
      "cell_type": "code",
      "execution_count": null,
      "id": "25365f34",
      "metadata": {
        "id": "25365f34",
        "outputId": "0b55dc73-a2b8-4853-e24c-80f8a467d1a1"
      },
      "outputs": [
        {
          "data": {
            "text/html": [
              "<div>\n",
              "<style scoped>\n",
              "    .dataframe tbody tr th:only-of-type {\n",
              "        vertical-align: middle;\n",
              "    }\n",
              "\n",
              "    .dataframe tbody tr th {\n",
              "        vertical-align: top;\n",
              "    }\n",
              "\n",
              "    .dataframe thead th {\n",
              "        text-align: right;\n",
              "    }\n",
              "</style>\n",
              "<table border=\"1\" class=\"dataframe\">\n",
              "  <thead>\n",
              "    <tr style=\"text-align: right;\">\n",
              "      <th></th>\n",
              "      <th>Integers</th>\n",
              "      <th>Floats</th>\n",
              "    </tr>\n",
              "  </thead>\n",
              "  <tbody>\n",
              "    <tr>\n",
              "      <th>label1</th>\n",
              "      <td>1</td>\n",
              "      <td>1.1</td>\n",
              "    </tr>\n",
              "    <tr>\n",
              "      <th>label2</th>\n",
              "      <td>2</td>\n",
              "      <td>2.2</td>\n",
              "    </tr>\n",
              "    <tr>\n",
              "      <th>label3</th>\n",
              "      <td>3</td>\n",
              "      <td>3.3</td>\n",
              "    </tr>\n",
              "  </tbody>\n",
              "</table>\n",
              "</div>"
            ],
            "text/plain": [
              "        Integers  Floats\n",
              "label1         1     1.1\n",
              "label2         2     2.2\n",
              "label3         3     3.3"
            ]
          },
          "execution_count": 41,
          "metadata": {},
          "output_type": "execute_result"
        }
      ],
      "source": [
        "# Here's the dictionary of the integers and the floats.\n",
        "data = {'Integers':[1,2,3],\n",
        "         'Floats':[1.1, 2.2, 3.3]}\n",
        "\n",
        "df = pd.DataFrame(data, index=['label1', 'label2', 'label3'])    ## IF WE DON'T PASS THE INDICES, DATAFRAME WILL AUTOMATICALLY USE NUMERICAL INDICES\n",
        "df"
      ]
    },
    {
      "cell_type": "code",
      "execution_count": null,
      "id": "88998ddf",
      "metadata": {
        "id": "88998ddf",
        "outputId": "00f30f86-15d3-4b92-8c89-b9bf164c12ed"
      },
      "outputs": [
        {
          "data": {
            "text/html": [
              "<div>\n",
              "<style scoped>\n",
              "    .dataframe tbody tr th:only-of-type {\n",
              "        vertical-align: middle;\n",
              "    }\n",
              "\n",
              "    .dataframe tbody tr th {\n",
              "        vertical-align: top;\n",
              "    }\n",
              "\n",
              "    .dataframe thead th {\n",
              "        text-align: right;\n",
              "    }\n",
              "</style>\n",
              "<table border=\"1\" class=\"dataframe\">\n",
              "  <thead>\n",
              "    <tr style=\"text-align: right;\">\n",
              "      <th></th>\n",
              "      <th>apple</th>\n",
              "      <th>banana</th>\n",
              "      <th>orange</th>\n",
              "      <th>tomato</th>\n",
              "      <th>grapes</th>\n",
              "    </tr>\n",
              "  </thead>\n",
              "  <tbody>\n",
              "    <tr>\n",
              "      <th>0</th>\n",
              "      <td>20</td>\n",
              "      <td>15.0</td>\n",
              "      <td>30.0</td>\n",
              "      <td>NaN</td>\n",
              "      <td>NaN</td>\n",
              "    </tr>\n",
              "    <tr>\n",
              "      <th>1</th>\n",
              "      <td>10</td>\n",
              "      <td>NaN</td>\n",
              "      <td>NaN</td>\n",
              "      <td>17.0</td>\n",
              "      <td>35.0</td>\n",
              "    </tr>\n",
              "  </tbody>\n",
              "</table>\n",
              "</div>"
            ],
            "text/plain": [
              "   apple  banana  orange  tomato  grapes\n",
              "0     20    15.0    30.0     NaN     NaN\n",
              "1     10     NaN     NaN    17.0    35.0"
            ]
          },
          "execution_count": 42,
          "metadata": {},
          "output_type": "execute_result"
        }
      ],
      "source": [
        "# Creating DataFrame using a list of python dictionaries \n",
        "ListOfDict = [{'apple':20, 'banana':15, 'orange':30},{'apple':10, 'tomato':17, 'grapes': 35}]\n",
        "\n",
        "df = pd.DataFrame(ListOfDict)\n",
        "df"
      ]
    },
    {
      "cell_type": "markdown",
      "id": "1d92599f",
      "metadata": {
        "id": "1d92599f"
      },
      "source": [
        "DataFrame used the numerical row indices.\n",
        "If we want to assign the row indices some values, we can use:\n"
      ]
    },
    {
      "cell_type": "code",
      "execution_count": null,
      "id": "37c63f86",
      "metadata": {
        "id": "37c63f86",
        "outputId": "1f8ac680-be46-4cca-e0b9-4e760061c3c1"
      },
      "outputs": [
        {
          "data": {
            "text/html": [
              "<div>\n",
              "<style scoped>\n",
              "    .dataframe tbody tr th:only-of-type {\n",
              "        vertical-align: middle;\n",
              "    }\n",
              "\n",
              "    .dataframe tbody tr th {\n",
              "        vertical-align: top;\n",
              "    }\n",
              "\n",
              "    .dataframe thead th {\n",
              "        text-align: right;\n",
              "    }\n",
              "</style>\n",
              "<table border=\"1\" class=\"dataframe\">\n",
              "  <thead>\n",
              "    <tr style=\"text-align: right;\">\n",
              "      <th></th>\n",
              "      <th>apple</th>\n",
              "      <th>banana</th>\n",
              "      <th>orange</th>\n",
              "      <th>tomato</th>\n",
              "      <th>grapes</th>\n",
              "    </tr>\n",
              "  </thead>\n",
              "  <tbody>\n",
              "    <tr>\n",
              "      <th>personA</th>\n",
              "      <td>20</td>\n",
              "      <td>15.0</td>\n",
              "      <td>30.0</td>\n",
              "      <td>NaN</td>\n",
              "      <td>NaN</td>\n",
              "    </tr>\n",
              "    <tr>\n",
              "      <th>personB</th>\n",
              "      <td>10</td>\n",
              "      <td>NaN</td>\n",
              "      <td>NaN</td>\n",
              "      <td>17.0</td>\n",
              "      <td>35.0</td>\n",
              "    </tr>\n",
              "  </tbody>\n",
              "</table>\n",
              "</div>"
            ],
            "text/plain": [
              "         apple  banana  orange  tomato  grapes\n",
              "personA     20    15.0    30.0     NaN     NaN\n",
              "personB     10     NaN     NaN    17.0    35.0"
            ]
          },
          "execution_count": 43,
          "metadata": {},
          "output_type": "execute_result"
        }
      ],
      "source": [
        "df.index = ['personA', 'personB']\n",
        "df  "
      ]
    },
    {
      "cell_type": "markdown",
      "id": "be396937",
      "metadata": {
        "id": "be396937"
      },
      "source": [
        "**Accessing the values in a DataFrame**"
      ]
    },
    {
      "cell_type": "code",
      "execution_count": null,
      "id": "d9318d78",
      "metadata": {
        "id": "d9318d78",
        "outputId": "374a278e-c27e-480d-967c-3405a1cb0d24"
      },
      "outputs": [
        {
          "data": {
            "text/html": [
              "<div>\n",
              "<style scoped>\n",
              "    .dataframe tbody tr th:only-of-type {\n",
              "        vertical-align: middle;\n",
              "    }\n",
              "\n",
              "    .dataframe tbody tr th {\n",
              "        vertical-align: top;\n",
              "    }\n",
              "\n",
              "    .dataframe thead th {\n",
              "        text-align: right;\n",
              "    }\n",
              "</style>\n",
              "<table border=\"1\" class=\"dataframe\">\n",
              "  <thead>\n",
              "    <tr style=\"text-align: right;\">\n",
              "      <th></th>\n",
              "      <th>apple</th>\n",
              "    </tr>\n",
              "  </thead>\n",
              "  <tbody>\n",
              "    <tr>\n",
              "      <th>personA</th>\n",
              "      <td>20</td>\n",
              "    </tr>\n",
              "    <tr>\n",
              "      <th>personB</th>\n",
              "      <td>10</td>\n",
              "    </tr>\n",
              "  </tbody>\n",
              "</table>\n",
              "</div>"
            ],
            "text/plain": [
              "         apple\n",
              "personA     20\n",
              "personB     10"
            ]
          },
          "execution_count": 44,
          "metadata": {},
          "output_type": "execute_result"
        }
      ],
      "source": [
        "df[['apple']]     ##accessing a column"
      ]
    },
    {
      "cell_type": "code",
      "execution_count": null,
      "id": "7ab0a5c1",
      "metadata": {
        "id": "7ab0a5c1",
        "outputId": "9738e6c3-1726-4351-c41a-d2641152ef56"
      },
      "outputs": [
        {
          "data": {
            "text/html": [
              "<div>\n",
              "<style scoped>\n",
              "    .dataframe tbody tr th:only-of-type {\n",
              "        vertical-align: middle;\n",
              "    }\n",
              "\n",
              "    .dataframe tbody tr th {\n",
              "        vertical-align: top;\n",
              "    }\n",
              "\n",
              "    .dataframe thead th {\n",
              "        text-align: right;\n",
              "    }\n",
              "</style>\n",
              "<table border=\"1\" class=\"dataframe\">\n",
              "  <thead>\n",
              "    <tr style=\"text-align: right;\">\n",
              "      <th></th>\n",
              "      <th>banana</th>\n",
              "      <th>tomato</th>\n",
              "    </tr>\n",
              "  </thead>\n",
              "  <tbody>\n",
              "    <tr>\n",
              "      <th>personA</th>\n",
              "      <td>15.0</td>\n",
              "      <td>NaN</td>\n",
              "    </tr>\n",
              "    <tr>\n",
              "      <th>personB</th>\n",
              "      <td>NaN</td>\n",
              "      <td>17.0</td>\n",
              "    </tr>\n",
              "  </tbody>\n",
              "</table>\n",
              "</div>"
            ],
            "text/plain": [
              "         banana  tomato\n",
              "personA    15.0     NaN\n",
              "personB     NaN    17.0"
            ]
          },
          "execution_count": 45,
          "metadata": {},
          "output_type": "execute_result"
        }
      ],
      "source": [
        "df[['banana','tomato']]     ##accessing by passing a list of columns"
      ]
    },
    {
      "cell_type": "code",
      "execution_count": null,
      "id": "796fe302",
      "metadata": {
        "id": "796fe302",
        "outputId": "97d89c71-a04e-48f6-c382-9083cbdb8b4a"
      },
      "outputs": [
        {
          "data": {
            "text/html": [
              "<div>\n",
              "<style scoped>\n",
              "    .dataframe tbody tr th:only-of-type {\n",
              "        vertical-align: middle;\n",
              "    }\n",
              "\n",
              "    .dataframe tbody tr th {\n",
              "        vertical-align: top;\n",
              "    }\n",
              "\n",
              "    .dataframe thead th {\n",
              "        text-align: right;\n",
              "    }\n",
              "</style>\n",
              "<table border=\"1\" class=\"dataframe\">\n",
              "  <thead>\n",
              "    <tr style=\"text-align: right;\">\n",
              "      <th></th>\n",
              "      <th>apple</th>\n",
              "      <th>banana</th>\n",
              "      <th>orange</th>\n",
              "      <th>tomato</th>\n",
              "      <th>grapes</th>\n",
              "    </tr>\n",
              "  </thead>\n",
              "  <tbody>\n",
              "    <tr>\n",
              "      <th>personA</th>\n",
              "      <td>20</td>\n",
              "      <td>15.0</td>\n",
              "      <td>30.0</td>\n",
              "      <td>NaN</td>\n",
              "      <td>NaN</td>\n",
              "    </tr>\n",
              "  </tbody>\n",
              "</table>\n",
              "</div>"
            ],
            "text/plain": [
              "         apple  banana  orange  tomato  grapes\n",
              "personA     20    15.0    30.0     NaN     NaN"
            ]
          },
          "execution_count": 46,
          "metadata": {},
          "output_type": "execute_result"
        }
      ],
      "source": [
        "df.loc[['personA']]    ##accessing a row"
      ]
    },
    {
      "cell_type": "code",
      "execution_count": null,
      "id": "107deaf6",
      "metadata": {
        "id": "107deaf6",
        "outputId": "dcf83eea-842e-41e4-9a97-8efe20e5f8d6"
      },
      "outputs": [
        {
          "data": {
            "text/plain": [
              "35.0"
            ]
          },
          "execution_count": 47,
          "metadata": {},
          "output_type": "execute_result"
        }
      ],
      "source": [
        "df['grapes']['personB']    ##accessing a specific value"
      ]
    },
    {
      "cell_type": "markdown",
      "id": "4230b9de",
      "metadata": {
        "id": "4230b9de"
      },
      "source": [
        "><b>NOTE:</B> While accessing the specific element, the column label always comes the first then the row label."
      ]
    },
    {
      "cell_type": "code",
      "execution_count": null,
      "id": "dfb46e86",
      "metadata": {
        "id": "dfb46e86",
        "outputId": "d38b4fee-ad60-405c-a741-fd9d59bd22db"
      },
      "outputs": [
        {
          "data": {
            "text/html": [
              "<div>\n",
              "<style scoped>\n",
              "    .dataframe tbody tr th:only-of-type {\n",
              "        vertical-align: middle;\n",
              "    }\n",
              "\n",
              "    .dataframe tbody tr th {\n",
              "        vertical-align: top;\n",
              "    }\n",
              "\n",
              "    .dataframe thead th {\n",
              "        text-align: right;\n",
              "    }\n",
              "</style>\n",
              "<table border=\"1\" class=\"dataframe\">\n",
              "  <thead>\n",
              "    <tr style=\"text-align: right;\">\n",
              "      <th></th>\n",
              "      <th>apple</th>\n",
              "      <th>banana</th>\n",
              "      <th>orange</th>\n",
              "      <th>tomato</th>\n",
              "      <th>grapes</th>\n",
              "      <th>corn</th>\n",
              "    </tr>\n",
              "  </thead>\n",
              "  <tbody>\n",
              "    <tr>\n",
              "      <th>personA</th>\n",
              "      <td>20</td>\n",
              "      <td>15.0</td>\n",
              "      <td>30.0</td>\n",
              "      <td>NaN</td>\n",
              "      <td>NaN</td>\n",
              "      <td>5</td>\n",
              "    </tr>\n",
              "    <tr>\n",
              "      <th>personB</th>\n",
              "      <td>10</td>\n",
              "      <td>NaN</td>\n",
              "      <td>NaN</td>\n",
              "      <td>17.0</td>\n",
              "      <td>35.0</td>\n",
              "      <td>7</td>\n",
              "    </tr>\n",
              "  </tbody>\n",
              "</table>\n",
              "</div>"
            ],
            "text/plain": [
              "         apple  banana  orange  tomato  grapes  corn\n",
              "personA     20    15.0    30.0     NaN     NaN     5\n",
              "personB     10     NaN     NaN    17.0    35.0     7"
            ]
          },
          "execution_count": 48,
          "metadata": {},
          "output_type": "execute_result"
        }
      ],
      "source": [
        "## IF WE WANT TO ADD A NEW COLUMN TO OUR DATAFRAME,  WE CAN ADD LIKE THIS:\n",
        "\n",
        "df['corn'] = [5, 7]\n",
        "df"
      ]
    },
    {
      "cell_type": "markdown",
      "id": "ce64ea50",
      "metadata": {
        "id": "ce64ea50"
      },
      "source": [
        "We can also add new columns using the arithematic operations on the other columns of our DataFrame.<br>\n",
        "For eg: we can add a new column vegies by adding the values for corn and tomato\n"
      ]
    },
    {
      "cell_type": "code",
      "execution_count": null,
      "id": "71adc690",
      "metadata": {
        "id": "71adc690",
        "outputId": "1aee637c-eab9-4dfd-c201-9e13a679e422"
      },
      "outputs": [
        {
          "data": {
            "text/html": [
              "<div>\n",
              "<style scoped>\n",
              "    .dataframe tbody tr th:only-of-type {\n",
              "        vertical-align: middle;\n",
              "    }\n",
              "\n",
              "    .dataframe tbody tr th {\n",
              "        vertical-align: top;\n",
              "    }\n",
              "\n",
              "    .dataframe thead th {\n",
              "        text-align: right;\n",
              "    }\n",
              "</style>\n",
              "<table border=\"1\" class=\"dataframe\">\n",
              "  <thead>\n",
              "    <tr style=\"text-align: right;\">\n",
              "      <th></th>\n",
              "      <th>apple</th>\n",
              "      <th>banana</th>\n",
              "      <th>orange</th>\n",
              "      <th>tomato</th>\n",
              "      <th>grapes</th>\n",
              "      <th>corn</th>\n",
              "      <th>vegies</th>\n",
              "    </tr>\n",
              "  </thead>\n",
              "  <tbody>\n",
              "    <tr>\n",
              "      <th>personA</th>\n",
              "      <td>20</td>\n",
              "      <td>15.0</td>\n",
              "      <td>30.0</td>\n",
              "      <td>NaN</td>\n",
              "      <td>NaN</td>\n",
              "      <td>5</td>\n",
              "      <td>NaN</td>\n",
              "    </tr>\n",
              "    <tr>\n",
              "      <th>personB</th>\n",
              "      <td>10</td>\n",
              "      <td>NaN</td>\n",
              "      <td>NaN</td>\n",
              "      <td>17.0</td>\n",
              "      <td>35.0</td>\n",
              "      <td>7</td>\n",
              "      <td>24.0</td>\n",
              "    </tr>\n",
              "  </tbody>\n",
              "</table>\n",
              "</div>"
            ],
            "text/plain": [
              "         apple  banana  orange  tomato  grapes  corn  vegies\n",
              "personA     20    15.0    30.0     NaN     NaN     5     NaN\n",
              "personB     10     NaN     NaN    17.0    35.0     7    24.0"
            ]
          },
          "execution_count": 49,
          "metadata": {},
          "output_type": "execute_result"
        }
      ],
      "source": [
        "df['vegies'] = df['tomato'] + df['corn']\n",
        "df"
      ]
    },
    {
      "cell_type": "markdown",
      "id": "34d8fa3c",
      "metadata": {
        "id": "34d8fa3c"
      },
      "source": [
        ">**NOTE:** IF YOU WANT TO ADD THE VALUES FOR ONE MORE PERSON, MEANS YOU WANT TO ADD A NEW ROW. WE FIRST HAVE TO CREATE A NEW DATAFRAME WITH THOSE ROWS AND THEN APPEND IT TO THE ORIGINAL DATAFRAME\n",
        "\n"
      ]
    },
    {
      "cell_type": "code",
      "execution_count": null,
      "id": "41fb3a14",
      "metadata": {
        "id": "41fb3a14",
        "outputId": "dc1f1eaf-7e4c-4b68-dc70-362c9b2c2d4b"
      },
      "outputs": [
        {
          "data": {
            "text/html": [
              "<div>\n",
              "<style scoped>\n",
              "    .dataframe tbody tr th:only-of-type {\n",
              "        vertical-align: middle;\n",
              "    }\n",
              "\n",
              "    .dataframe tbody tr th {\n",
              "        vertical-align: top;\n",
              "    }\n",
              "\n",
              "    .dataframe thead th {\n",
              "        text-align: right;\n",
              "    }\n",
              "</style>\n",
              "<table border=\"1\" class=\"dataframe\">\n",
              "  <thead>\n",
              "    <tr style=\"text-align: right;\">\n",
              "      <th></th>\n",
              "      <th>apple</th>\n",
              "      <th>banana</th>\n",
              "      <th>corn</th>\n",
              "      <th>orange</th>\n",
              "    </tr>\n",
              "  </thead>\n",
              "  <tbody>\n",
              "    <tr>\n",
              "      <th>personC</th>\n",
              "      <td>15</td>\n",
              "      <td>17</td>\n",
              "      <td>3</td>\n",
              "      <td>5</td>\n",
              "    </tr>\n",
              "  </tbody>\n",
              "</table>\n",
              "</div>"
            ],
            "text/plain": [
              "         apple  banana  corn  orange\n",
              "personC     15      17     3       5"
            ]
          },
          "execution_count": 50,
          "metadata": {},
          "output_type": "execute_result"
        }
      ],
      "source": [
        "new_person = [{'apple':15, 'banana': 17, 'corn': 3, 'orange':5}]\n",
        "new_df = pd.DataFrame(new_person, index=['personC'])\n",
        "new_df"
      ]
    },
    {
      "cell_type": "code",
      "execution_count": null,
      "id": "9b05ef5d",
      "metadata": {
        "id": "9b05ef5d",
        "outputId": "dd432202-0fc4-4c0d-e118-716d84e8d22f"
      },
      "outputs": [
        {
          "data": {
            "text/html": [
              "<div>\n",
              "<style scoped>\n",
              "    .dataframe tbody tr th:only-of-type {\n",
              "        vertical-align: middle;\n",
              "    }\n",
              "\n",
              "    .dataframe tbody tr th {\n",
              "        vertical-align: top;\n",
              "    }\n",
              "\n",
              "    .dataframe thead th {\n",
              "        text-align: right;\n",
              "    }\n",
              "</style>\n",
              "<table border=\"1\" class=\"dataframe\">\n",
              "  <thead>\n",
              "    <tr style=\"text-align: right;\">\n",
              "      <th></th>\n",
              "      <th>apple</th>\n",
              "      <th>banana</th>\n",
              "      <th>orange</th>\n",
              "      <th>tomato</th>\n",
              "      <th>grapes</th>\n",
              "      <th>corn</th>\n",
              "      <th>vegies</th>\n",
              "    </tr>\n",
              "  </thead>\n",
              "  <tbody>\n",
              "    <tr>\n",
              "      <th>personA</th>\n",
              "      <td>20</td>\n",
              "      <td>15.0</td>\n",
              "      <td>30.0</td>\n",
              "      <td>NaN</td>\n",
              "      <td>NaN</td>\n",
              "      <td>5</td>\n",
              "      <td>NaN</td>\n",
              "    </tr>\n",
              "    <tr>\n",
              "      <th>personB</th>\n",
              "      <td>10</td>\n",
              "      <td>NaN</td>\n",
              "      <td>NaN</td>\n",
              "      <td>17.0</td>\n",
              "      <td>35.0</td>\n",
              "      <td>7</td>\n",
              "      <td>24.0</td>\n",
              "    </tr>\n",
              "    <tr>\n",
              "      <th>personC</th>\n",
              "      <td>15</td>\n",
              "      <td>17.0</td>\n",
              "      <td>5.0</td>\n",
              "      <td>NaN</td>\n",
              "      <td>NaN</td>\n",
              "      <td>3</td>\n",
              "      <td>NaN</td>\n",
              "    </tr>\n",
              "  </tbody>\n",
              "</table>\n",
              "</div>"
            ],
            "text/plain": [
              "         apple  banana  orange  tomato  grapes  corn  vegies\n",
              "personA     20    15.0    30.0     NaN     NaN     5     NaN\n",
              "personB     10     NaN     NaN    17.0    35.0     7    24.0\n",
              "personC     15    17.0     5.0     NaN     NaN     3     NaN"
            ]
          },
          "execution_count": 51,
          "metadata": {},
          "output_type": "execute_result"
        }
      ],
      "source": [
        "## WE CAN NOW ADD THE NEW ROW TO THE ORIGINAL DATAFRAME\n",
        "\n",
        "df = df.append(new_df)\n",
        "df"
      ]
    },
    {
      "cell_type": "markdown",
      "id": "0abc6740",
      "metadata": {
        "id": "0abc6740"
      },
      "source": [
        "It is also possible to insert columns in the DataFrame using **insert method** to **any location we want**.\n",
        "The insert method allows us to specify:\n",
        "* the location,\n",
        "* label, and\n",
        "* the data \n",
        "\n",
        "of the column that we want to add."
      ]
    },
    {
      "cell_type": "code",
      "execution_count": null,
      "id": "53f47e9b",
      "metadata": {
        "id": "53f47e9b",
        "outputId": "1dfbbe4d-5780-4e2a-96ea-795e10b0771b"
      },
      "outputs": [
        {
          "data": {
            "text/html": [
              "<div>\n",
              "<style scoped>\n",
              "    .dataframe tbody tr th:only-of-type {\n",
              "        vertical-align: middle;\n",
              "    }\n",
              "\n",
              "    .dataframe tbody tr th {\n",
              "        vertical-align: top;\n",
              "    }\n",
              "\n",
              "    .dataframe thead th {\n",
              "        text-align: right;\n",
              "    }\n",
              "</style>\n",
              "<table border=\"1\" class=\"dataframe\">\n",
              "  <thead>\n",
              "    <tr style=\"text-align: right;\">\n",
              "      <th></th>\n",
              "      <th>apple</th>\n",
              "      <th>banana</th>\n",
              "      <th>orange</th>\n",
              "      <th>tomato</th>\n",
              "      <th>grapes</th>\n",
              "      <th>ginger</th>\n",
              "      <th>corn</th>\n",
              "      <th>vegies</th>\n",
              "    </tr>\n",
              "  </thead>\n",
              "  <tbody>\n",
              "    <tr>\n",
              "      <th>personA</th>\n",
              "      <td>20</td>\n",
              "      <td>15.0</td>\n",
              "      <td>30.0</td>\n",
              "      <td>NaN</td>\n",
              "      <td>NaN</td>\n",
              "      <td>7</td>\n",
              "      <td>5</td>\n",
              "      <td>NaN</td>\n",
              "    </tr>\n",
              "    <tr>\n",
              "      <th>personB</th>\n",
              "      <td>10</td>\n",
              "      <td>NaN</td>\n",
              "      <td>NaN</td>\n",
              "      <td>17.0</td>\n",
              "      <td>35.0</td>\n",
              "      <td>11</td>\n",
              "      <td>7</td>\n",
              "      <td>24.0</td>\n",
              "    </tr>\n",
              "    <tr>\n",
              "      <th>personC</th>\n",
              "      <td>15</td>\n",
              "      <td>17.0</td>\n",
              "      <td>5.0</td>\n",
              "      <td>NaN</td>\n",
              "      <td>NaN</td>\n",
              "      <td>13</td>\n",
              "      <td>3</td>\n",
              "      <td>NaN</td>\n",
              "    </tr>\n",
              "  </tbody>\n",
              "</table>\n",
              "</div>"
            ],
            "text/plain": [
              "         apple  banana  orange  tomato  grapes  ginger  corn  vegies\n",
              "personA     20    15.0    30.0     NaN     NaN       7     5     NaN\n",
              "personB     10     NaN     NaN    17.0    35.0      11     7    24.0\n",
              "personC     15    17.0     5.0     NaN     NaN      13     3     NaN"
            ]
          },
          "execution_count": 52,
          "metadata": {},
          "output_type": "execute_result"
        }
      ],
      "source": [
        "df.insert(5, 'ginger', [7,11,13])\n",
        "# THE FIRST ARGUMENT IS LOCATION OF THE COLUMN\n",
        "# THE SECOND ARGUMENT IS THE LABEL FOR THE COLUMN\n",
        "# AND THE LAST ONE IS THE DATA FOR THE COLUMN\n",
        "df"
      ]
    },
    {
      "cell_type": "markdown",
      "id": "4d544d1b",
      "metadata": {
        "id": "4d544d1b"
      },
      "source": [
        "We can also delete the columns and rows using two methods:\n",
        "* pop\n",
        "* drop\n",
        "\n",
        "> **NOTE:** The pop method allows us to delete columns while the drop method allows us to delete both rows and columns by using the axis keyword."
      ]
    },
    {
      "cell_type": "code",
      "execution_count": null,
      "id": "4f76b4d0",
      "metadata": {
        "id": "4f76b4d0",
        "outputId": "be4c6c30-0222-4e4b-ade0-d5f7cc06b572"
      },
      "outputs": [
        {
          "data": {
            "text/html": [
              "<div>\n",
              "<style scoped>\n",
              "    .dataframe tbody tr th:only-of-type {\n",
              "        vertical-align: middle;\n",
              "    }\n",
              "\n",
              "    .dataframe tbody tr th {\n",
              "        vertical-align: top;\n",
              "    }\n",
              "\n",
              "    .dataframe thead th {\n",
              "        text-align: right;\n",
              "    }\n",
              "</style>\n",
              "<table border=\"1\" class=\"dataframe\">\n",
              "  <thead>\n",
              "    <tr style=\"text-align: right;\">\n",
              "      <th></th>\n",
              "      <th>apple</th>\n",
              "      <th>banana</th>\n",
              "      <th>orange</th>\n",
              "      <th>tomato</th>\n",
              "      <th>grapes</th>\n",
              "      <th>corn</th>\n",
              "      <th>vegies</th>\n",
              "    </tr>\n",
              "  </thead>\n",
              "  <tbody>\n",
              "    <tr>\n",
              "      <th>personA</th>\n",
              "      <td>20</td>\n",
              "      <td>15.0</td>\n",
              "      <td>30.0</td>\n",
              "      <td>NaN</td>\n",
              "      <td>NaN</td>\n",
              "      <td>5</td>\n",
              "      <td>NaN</td>\n",
              "    </tr>\n",
              "    <tr>\n",
              "      <th>personB</th>\n",
              "      <td>10</td>\n",
              "      <td>NaN</td>\n",
              "      <td>NaN</td>\n",
              "      <td>17.0</td>\n",
              "      <td>35.0</td>\n",
              "      <td>7</td>\n",
              "      <td>24.0</td>\n",
              "    </tr>\n",
              "    <tr>\n",
              "      <th>personC</th>\n",
              "      <td>15</td>\n",
              "      <td>17.0</td>\n",
              "      <td>5.0</td>\n",
              "      <td>NaN</td>\n",
              "      <td>NaN</td>\n",
              "      <td>3</td>\n",
              "      <td>NaN</td>\n",
              "    </tr>\n",
              "  </tbody>\n",
              "</table>\n",
              "</div>"
            ],
            "text/plain": [
              "         apple  banana  orange  tomato  grapes  corn  vegies\n",
              "personA     20    15.0    30.0     NaN     NaN     5     NaN\n",
              "personB     10     NaN     NaN    17.0    35.0     7    24.0\n",
              "personC     15    17.0     5.0     NaN     NaN     3     NaN"
            ]
          },
          "execution_count": 53,
          "metadata": {},
          "output_type": "execute_result"
        }
      ],
      "source": [
        "df.pop('ginger')\n",
        "df"
      ]
    },
    {
      "cell_type": "code",
      "execution_count": null,
      "id": "f433d7e4",
      "metadata": {
        "id": "f433d7e4",
        "outputId": "865b2443-24a7-47be-cf21-18471890f1f7"
      },
      "outputs": [
        {
          "data": {
            "text/html": [
              "<div>\n",
              "<style scoped>\n",
              "    .dataframe tbody tr th:only-of-type {\n",
              "        vertical-align: middle;\n",
              "    }\n",
              "\n",
              "    .dataframe tbody tr th {\n",
              "        vertical-align: top;\n",
              "    }\n",
              "\n",
              "    .dataframe thead th {\n",
              "        text-align: right;\n",
              "    }\n",
              "</style>\n",
              "<table border=\"1\" class=\"dataframe\">\n",
              "  <thead>\n",
              "    <tr style=\"text-align: right;\">\n",
              "      <th></th>\n",
              "      <th>apple</th>\n",
              "      <th>banana</th>\n",
              "      <th>tomato</th>\n",
              "      <th>corn</th>\n",
              "      <th>vegies</th>\n",
              "    </tr>\n",
              "  </thead>\n",
              "  <tbody>\n",
              "    <tr>\n",
              "      <th>personA</th>\n",
              "      <td>20</td>\n",
              "      <td>15.0</td>\n",
              "      <td>NaN</td>\n",
              "      <td>5</td>\n",
              "      <td>NaN</td>\n",
              "    </tr>\n",
              "    <tr>\n",
              "      <th>personB</th>\n",
              "      <td>10</td>\n",
              "      <td>NaN</td>\n",
              "      <td>17.0</td>\n",
              "      <td>7</td>\n",
              "      <td>24.0</td>\n",
              "    </tr>\n",
              "    <tr>\n",
              "      <th>personC</th>\n",
              "      <td>15</td>\n",
              "      <td>17.0</td>\n",
              "      <td>NaN</td>\n",
              "      <td>3</td>\n",
              "      <td>NaN</td>\n",
              "    </tr>\n",
              "  </tbody>\n",
              "</table>\n",
              "</div>"
            ],
            "text/plain": [
              "         apple  banana  tomato  corn  vegies\n",
              "personA     20    15.0     NaN     5     NaN\n",
              "personB     10     NaN    17.0     7    24.0\n",
              "personC     15    17.0     NaN     3     NaN"
            ]
          },
          "execution_count": 54,
          "metadata": {},
          "output_type": "execute_result"
        }
      ],
      "source": [
        "df = df.drop(['grapes', 'orange'], axis=1)   # AXIS = 1 MEANS WE ARE REMOVING COLUMNS\n",
        "df"
      ]
    },
    {
      "cell_type": "code",
      "execution_count": null,
      "id": "9e80c94b",
      "metadata": {
        "id": "9e80c94b",
        "outputId": "d00b3c00-ee70-4b28-80f8-d6156e73e15e"
      },
      "outputs": [
        {
          "data": {
            "text/html": [
              "<div>\n",
              "<style scoped>\n",
              "    .dataframe tbody tr th:only-of-type {\n",
              "        vertical-align: middle;\n",
              "    }\n",
              "\n",
              "    .dataframe tbody tr th {\n",
              "        vertical-align: top;\n",
              "    }\n",
              "\n",
              "    .dataframe thead th {\n",
              "        text-align: right;\n",
              "    }\n",
              "</style>\n",
              "<table border=\"1\" class=\"dataframe\">\n",
              "  <thead>\n",
              "    <tr style=\"text-align: right;\">\n",
              "      <th></th>\n",
              "      <th>apple</th>\n",
              "      <th>banana</th>\n",
              "      <th>tomato</th>\n",
              "      <th>corn</th>\n",
              "      <th>vegies</th>\n",
              "    </tr>\n",
              "  </thead>\n",
              "  <tbody>\n",
              "    <tr>\n",
              "      <th>personA</th>\n",
              "      <td>20</td>\n",
              "      <td>15.0</td>\n",
              "      <td>NaN</td>\n",
              "      <td>5</td>\n",
              "      <td>NaN</td>\n",
              "    </tr>\n",
              "  </tbody>\n",
              "</table>\n",
              "</div>"
            ],
            "text/plain": [
              "         apple  banana  tomato  corn  vegies\n",
              "personA     20    15.0     NaN     5     NaN"
            ]
          },
          "execution_count": 55,
          "metadata": {},
          "output_type": "execute_result"
        }
      ],
      "source": [
        "df = df.drop(['personB', 'personC'], axis=0)   # AXIS = 0 MEANS WE ARE REMOVING ROWS\n",
        "df"
      ]
    },
    {
      "cell_type": "markdown",
      "id": "de77957e",
      "metadata": {
        "id": "de77957e"
      },
      "source": [
        "To change the name of any row or any column,  we use the rename method\n",
        "\n"
      ]
    },
    {
      "cell_type": "code",
      "execution_count": null,
      "id": "67277308",
      "metadata": {
        "id": "67277308",
        "outputId": "54647107-8e2d-4c13-9214-dbb151f1854b"
      },
      "outputs": [
        {
          "data": {
            "text/html": [
              "<div>\n",
              "<style scoped>\n",
              "    .dataframe tbody tr th:only-of-type {\n",
              "        vertical-align: middle;\n",
              "    }\n",
              "\n",
              "    .dataframe tbody tr th {\n",
              "        vertical-align: top;\n",
              "    }\n",
              "\n",
              "    .dataframe thead th {\n",
              "        text-align: right;\n",
              "    }\n",
              "</style>\n",
              "<table border=\"1\" class=\"dataframe\">\n",
              "  <thead>\n",
              "    <tr style=\"text-align: right;\">\n",
              "      <th></th>\n",
              "      <th>apple</th>\n",
              "      <th>pineapple</th>\n",
              "      <th>tomato</th>\n",
              "      <th>corn</th>\n",
              "      <th>vegies</th>\n",
              "    </tr>\n",
              "  </thead>\n",
              "  <tbody>\n",
              "    <tr>\n",
              "      <th>personA</th>\n",
              "      <td>20</td>\n",
              "      <td>15.0</td>\n",
              "      <td>NaN</td>\n",
              "      <td>5</td>\n",
              "      <td>NaN</td>\n",
              "    </tr>\n",
              "  </tbody>\n",
              "</table>\n",
              "</div>"
            ],
            "text/plain": [
              "         apple  pineapple  tomato  corn  vegies\n",
              "personA     20       15.0     NaN     5     NaN"
            ]
          },
          "execution_count": 56,
          "metadata": {},
          "output_type": "execute_result"
        }
      ],
      "source": [
        "df  = df.rename(columns={'banana':'pineapple'})\n",
        "df"
      ]
    },
    {
      "cell_type": "markdown",
      "id": "7b4a7039",
      "metadata": {
        "id": "7b4a7039"
      },
      "source": [
        "Now let's change the name of the row"
      ]
    },
    {
      "cell_type": "code",
      "execution_count": null,
      "id": "eb88047e",
      "metadata": {
        "id": "eb88047e",
        "outputId": "04b038a7-b7c1-46d6-a23c-bbb43aa54dc5"
      },
      "outputs": [
        {
          "data": {
            "text/html": [
              "<div>\n",
              "<style scoped>\n",
              "    .dataframe tbody tr th:only-of-type {\n",
              "        vertical-align: middle;\n",
              "    }\n",
              "\n",
              "    .dataframe tbody tr th {\n",
              "        vertical-align: top;\n",
              "    }\n",
              "\n",
              "    .dataframe thead th {\n",
              "        text-align: right;\n",
              "    }\n",
              "</style>\n",
              "<table border=\"1\" class=\"dataframe\">\n",
              "  <thead>\n",
              "    <tr style=\"text-align: right;\">\n",
              "      <th></th>\n",
              "      <th>apple</th>\n",
              "      <th>pineapple</th>\n",
              "      <th>tomato</th>\n",
              "      <th>corn</th>\n",
              "      <th>vegies</th>\n",
              "    </tr>\n",
              "  </thead>\n",
              "  <tbody>\n",
              "    <tr>\n",
              "      <th>A</th>\n",
              "      <td>20</td>\n",
              "      <td>15.0</td>\n",
              "      <td>NaN</td>\n",
              "      <td>5</td>\n",
              "      <td>NaN</td>\n",
              "    </tr>\n",
              "  </tbody>\n",
              "</table>\n",
              "</div>"
            ],
            "text/plain": [
              "   apple  pineapple  tomato  corn  vegies\n",
              "A     20       15.0     NaN     5     NaN"
            ]
          },
          "execution_count": 57,
          "metadata": {},
          "output_type": "execute_result"
        }
      ],
      "source": [
        "df  = df.rename(index={'personA':'A'})\n",
        "df"
      ]
    },
    {
      "cell_type": "markdown",
      "id": "94648653",
      "metadata": {
        "id": "94648653"
      },
      "source": [
        "## **DATA CLEANING**"
      ]
    },
    {
      "cell_type": "markdown",
      "id": "7e8cebae",
      "metadata": {
        "id": "7e8cebae"
      },
      "source": [
        "## **Dealing with NaN values:**\n",
        "As mentioned earlier, before we can begin training our learning algorithms with large datasets, we usually need to clean the data first. This means we need to have a method for detecting and correcting errors in our data. \n",
        "\n",
        "While any given dataset can have many types of bad data, such as outliers or incorrect values, the type of bad data we encounter almost always is missing values. As we saw earlier, Pandas assigns ```NaN``` values to missing data. In this lesson we will learn how to detect and deal with ```NaN``` values.\n",
        "\n",
        "We will begin by creating a DataFrame with some ```NaN``` values in it.\n",
        "\n",
        "\n"
      ]
    },
    {
      "cell_type": "code",
      "execution_count": null,
      "id": "96fee751",
      "metadata": {
        "id": "96fee751",
        "outputId": "7cb8d1ce-23e6-434a-a350-a4f423569d9c"
      },
      "outputs": [
        {
          "data": {
            "text/html": [
              "<div>\n",
              "<style scoped>\n",
              "    .dataframe tbody tr th:only-of-type {\n",
              "        vertical-align: middle;\n",
              "    }\n",
              "\n",
              "    .dataframe tbody tr th {\n",
              "        vertical-align: top;\n",
              "    }\n",
              "\n",
              "    .dataframe thead th {\n",
              "        text-align: right;\n",
              "    }\n",
              "</style>\n",
              "<table border=\"1\" class=\"dataframe\">\n",
              "  <thead>\n",
              "    <tr style=\"text-align: right;\">\n",
              "      <th></th>\n",
              "      <th>bikes</th>\n",
              "      <th>pants</th>\n",
              "      <th>watches</th>\n",
              "      <th>shirts</th>\n",
              "      <th>shoes</th>\n",
              "      <th>suits</th>\n",
              "      <th>glasses</th>\n",
              "    </tr>\n",
              "  </thead>\n",
              "  <tbody>\n",
              "    <tr>\n",
              "      <th>store 1</th>\n",
              "      <td>20</td>\n",
              "      <td>30</td>\n",
              "      <td>35</td>\n",
              "      <td>15.0</td>\n",
              "      <td>8</td>\n",
              "      <td>45.0</td>\n",
              "      <td>NaN</td>\n",
              "    </tr>\n",
              "    <tr>\n",
              "      <th>store 2</th>\n",
              "      <td>15</td>\n",
              "      <td>5</td>\n",
              "      <td>10</td>\n",
              "      <td>2.0</td>\n",
              "      <td>5</td>\n",
              "      <td>7.0</td>\n",
              "      <td>50.0</td>\n",
              "    </tr>\n",
              "    <tr>\n",
              "      <th>store 3</th>\n",
              "      <td>20</td>\n",
              "      <td>30</td>\n",
              "      <td>35</td>\n",
              "      <td>NaN</td>\n",
              "      <td>10</td>\n",
              "      <td>NaN</td>\n",
              "      <td>4.0</td>\n",
              "    </tr>\n",
              "  </tbody>\n",
              "</table>\n",
              "</div>"
            ],
            "text/plain": [
              "         bikes  pants  watches  shirts  shoes  suits  glasses\n",
              "store 1     20     30       35    15.0      8   45.0      NaN\n",
              "store 2     15      5       10     2.0      5    7.0     50.0\n",
              "store 3     20     30       35     NaN     10    NaN      4.0"
            ]
          },
          "execution_count": 58,
          "metadata": {},
          "output_type": "execute_result"
        }
      ],
      "source": [
        "import pandas as pd\n",
        "\n",
        "# We create a list of Python dictionaries\n",
        "items2 = [{'bikes': 20, 'pants': 30, 'watches': 35, 'shirts': 15, 'shoes':8, 'suits':45},\n",
        "{'watches': 10, 'glasses': 50, 'bikes': 15, 'pants':5, 'shirts': 2, 'shoes':5, 'suits':7},\n",
        "{'bikes': 20, 'pants': 30, 'watches': 35, 'glasses': 4, 'shoes':10}]\n",
        "\n",
        "# We create a DataFrame  and provide the row index\n",
        "store_items = pd.DataFrame(items2, index = ['store 1', 'store 2', 'store 3'])\n",
        "\n",
        "# We display the DataFrame\n",
        "store_items"
      ]
    },
    {
      "cell_type": "markdown",
      "id": "5b1278f4",
      "metadata": {
        "id": "5b1278f4"
      },
      "source": [
        "In cases where we load very large datasets into a DataFrame, possibly with millions of items, the number of NaN values is not easily visualized. For these cases, we can use a combination of methods to count the number of ```NaN``` values in our data. The following example combines the ```.isnull()``` and the ```sum()``` methods to count the number of ```NaN``` values in our DataFrame"
      ]
    },
    {
      "cell_type": "code",
      "execution_count": null,
      "id": "c3144a96",
      "metadata": {
        "id": "c3144a96",
        "outputId": "55cd8dc4-1738-4a8e-a037-280b41562477"
      },
      "outputs": [
        {
          "data": {
            "text/html": [
              "<div>\n",
              "<style scoped>\n",
              "    .dataframe tbody tr th:only-of-type {\n",
              "        vertical-align: middle;\n",
              "    }\n",
              "\n",
              "    .dataframe tbody tr th {\n",
              "        vertical-align: top;\n",
              "    }\n",
              "\n",
              "    .dataframe thead th {\n",
              "        text-align: right;\n",
              "    }\n",
              "</style>\n",
              "<table border=\"1\" class=\"dataframe\">\n",
              "  <thead>\n",
              "    <tr style=\"text-align: right;\">\n",
              "      <th></th>\n",
              "      <th>bikes</th>\n",
              "      <th>pants</th>\n",
              "      <th>watches</th>\n",
              "      <th>shirts</th>\n",
              "      <th>shoes</th>\n",
              "      <th>suits</th>\n",
              "      <th>glasses</th>\n",
              "    </tr>\n",
              "  </thead>\n",
              "  <tbody>\n",
              "    <tr>\n",
              "      <th>store 1</th>\n",
              "      <td>False</td>\n",
              "      <td>False</td>\n",
              "      <td>False</td>\n",
              "      <td>False</td>\n",
              "      <td>False</td>\n",
              "      <td>False</td>\n",
              "      <td>True</td>\n",
              "    </tr>\n",
              "    <tr>\n",
              "      <th>store 2</th>\n",
              "      <td>False</td>\n",
              "      <td>False</td>\n",
              "      <td>False</td>\n",
              "      <td>False</td>\n",
              "      <td>False</td>\n",
              "      <td>False</td>\n",
              "      <td>False</td>\n",
              "    </tr>\n",
              "    <tr>\n",
              "      <th>store 3</th>\n",
              "      <td>False</td>\n",
              "      <td>False</td>\n",
              "      <td>False</td>\n",
              "      <td>True</td>\n",
              "      <td>False</td>\n",
              "      <td>True</td>\n",
              "      <td>False</td>\n",
              "    </tr>\n",
              "  </tbody>\n",
              "</table>\n",
              "</div>"
            ],
            "text/plain": [
              "         bikes  pants  watches  shirts  shoes  suits  glasses\n",
              "store 1  False  False    False   False  False  False     True\n",
              "store 2  False  False    False   False  False  False    False\n",
              "store 3  False  False    False    True  False   True    False"
            ]
          },
          "execution_count": 59,
          "metadata": {},
          "output_type": "execute_result"
        }
      ],
      "source": [
        "store_items.isnull()"
      ]
    },
    {
      "cell_type": "markdown",
      "id": "bb0227cb",
      "metadata": {
        "id": "bb0227cb"
      },
      "source": [
        "> In Pandas, logical True values have numerical value 1 and logical False values have numerical value 0. Therefore, we can count the number of NaN values by counting the number of logical True values."
      ]
    },
    {
      "cell_type": "code",
      "execution_count": null,
      "id": "bc460aff",
      "metadata": {
        "id": "bc460aff",
        "outputId": "47ac583b-b4b4-403d-a1d8-4a01ead7ad9c"
      },
      "outputs": [
        {
          "name": "stdout",
          "output_type": "stream",
          "text": [
            "Number of NaN values in our DataFrame: bikes      0\n",
            "pants      0\n",
            "watches    0\n",
            "shirts     1\n",
            "shoes      0\n",
            "suits      1\n",
            "glasses    1\n",
            "dtype: int64\n"
          ]
        }
      ],
      "source": [
        "# We count the number of NaN values in the columns of store_items\n",
        "x =  store_items.isnull().sum()\n",
        "\n",
        "# We print x\n",
        "print('Number of NaN values in our DataFrame:', x)"
      ]
    },
    {
      "cell_type": "markdown",
      "id": "34334d12",
      "metadata": {
        "id": "34334d12"
      },
      "source": [
        "> In order to count the total number of logical True values we use the .sum() method twice. We have to use it twice because the first sum returns a Pandas Series with the sums of logical True values along columns, as we see below:"
      ]
    },
    {
      "cell_type": "code",
      "execution_count": null,
      "id": "2d7fdedb",
      "metadata": {
        "id": "2d7fdedb",
        "outputId": "eb6c2af4-03c4-4a93-97ba-5c1b6d9a34ee"
      },
      "outputs": [
        {
          "name": "stdout",
          "output_type": "stream",
          "text": [
            "Number of NaN values in our DataFrame: 3\n"
          ]
        }
      ],
      "source": [
        "# We count the number of NaN values in store_items\n",
        "x =  store_items.isnull().sum().sum()\n",
        "\n",
        "# We print x\n",
        "print('Number of NaN values in our DataFrame:', x)"
      ]
    },
    {
      "cell_type": "markdown",
      "id": "a0fdb891",
      "metadata": {
        "id": "a0fdb891"
      },
      "source": [
        "Now that we learned how to know if our dataset has any NaN values in it, the next step is to decide what to do with them. In general we have two options, we can either delete or replace the NaN values. In the following examples we will show you how to do both.\n",
        "\n",
        "We will start by learning how to eliminate rows or columns from our DataFrame that contain any NaN values. The .dropna(axis) method eliminates any rows with NaN values when axis = 0 is used and will eliminate any columns with NaN values when axis = 1 is used. Let's see some examples"
      ]
    },
    {
      "cell_type": "code",
      "execution_count": null,
      "id": "09f2cf51",
      "metadata": {
        "id": "09f2cf51",
        "outputId": "6b074c1a-46a5-439d-9978-9c6f28acbe59"
      },
      "outputs": [
        {
          "data": {
            "text/html": [
              "<div>\n",
              "<style scoped>\n",
              "    .dataframe tbody tr th:only-of-type {\n",
              "        vertical-align: middle;\n",
              "    }\n",
              "\n",
              "    .dataframe tbody tr th {\n",
              "        vertical-align: top;\n",
              "    }\n",
              "\n",
              "    .dataframe thead th {\n",
              "        text-align: right;\n",
              "    }\n",
              "</style>\n",
              "<table border=\"1\" class=\"dataframe\">\n",
              "  <thead>\n",
              "    <tr style=\"text-align: right;\">\n",
              "      <th></th>\n",
              "      <th>bikes</th>\n",
              "      <th>pants</th>\n",
              "      <th>watches</th>\n",
              "      <th>shirts</th>\n",
              "      <th>shoes</th>\n",
              "      <th>suits</th>\n",
              "      <th>glasses</th>\n",
              "    </tr>\n",
              "  </thead>\n",
              "  <tbody>\n",
              "    <tr>\n",
              "      <th>store 2</th>\n",
              "      <td>15</td>\n",
              "      <td>5</td>\n",
              "      <td>10</td>\n",
              "      <td>2.0</td>\n",
              "      <td>5</td>\n",
              "      <td>7.0</td>\n",
              "      <td>50.0</td>\n",
              "    </tr>\n",
              "  </tbody>\n",
              "</table>\n",
              "</div>"
            ],
            "text/plain": [
              "         bikes  pants  watches  shirts  shoes  suits  glasses\n",
              "store 2     15      5       10     2.0      5    7.0     50.0"
            ]
          },
          "execution_count": 62,
          "metadata": {},
          "output_type": "execute_result"
        }
      ],
      "source": [
        "# We drop any rows with NaN values\n",
        "store_items.dropna(axis = 0)"
      ]
    },
    {
      "cell_type": "code",
      "execution_count": null,
      "id": "b5797b89",
      "metadata": {
        "id": "b5797b89",
        "outputId": "0577ed30-bc96-456a-f5b2-68dbb86ff017"
      },
      "outputs": [
        {
          "data": {
            "text/html": [
              "<div>\n",
              "<style scoped>\n",
              "    .dataframe tbody tr th:only-of-type {\n",
              "        vertical-align: middle;\n",
              "    }\n",
              "\n",
              "    .dataframe tbody tr th {\n",
              "        vertical-align: top;\n",
              "    }\n",
              "\n",
              "    .dataframe thead th {\n",
              "        text-align: right;\n",
              "    }\n",
              "</style>\n",
              "<table border=\"1\" class=\"dataframe\">\n",
              "  <thead>\n",
              "    <tr style=\"text-align: right;\">\n",
              "      <th></th>\n",
              "      <th>bikes</th>\n",
              "      <th>pants</th>\n",
              "      <th>watches</th>\n",
              "      <th>shirts</th>\n",
              "      <th>shoes</th>\n",
              "      <th>suits</th>\n",
              "      <th>glasses</th>\n",
              "    </tr>\n",
              "  </thead>\n",
              "  <tbody>\n",
              "    <tr>\n",
              "      <th>store 1</th>\n",
              "      <td>20</td>\n",
              "      <td>30</td>\n",
              "      <td>35</td>\n",
              "      <td>15.0</td>\n",
              "      <td>8</td>\n",
              "      <td>45.0</td>\n",
              "      <td>NaN</td>\n",
              "    </tr>\n",
              "    <tr>\n",
              "      <th>store 2</th>\n",
              "      <td>15</td>\n",
              "      <td>5</td>\n",
              "      <td>10</td>\n",
              "      <td>2.0</td>\n",
              "      <td>5</td>\n",
              "      <td>7.0</td>\n",
              "      <td>50.0</td>\n",
              "    </tr>\n",
              "    <tr>\n",
              "      <th>store 3</th>\n",
              "      <td>20</td>\n",
              "      <td>30</td>\n",
              "      <td>35</td>\n",
              "      <td>NaN</td>\n",
              "      <td>10</td>\n",
              "      <td>NaN</td>\n",
              "      <td>4.0</td>\n",
              "    </tr>\n",
              "  </tbody>\n",
              "</table>\n",
              "</div>"
            ],
            "text/plain": [
              "         bikes  pants  watches  shirts  shoes  suits  glasses\n",
              "store 1     20     30       35    15.0      8   45.0      NaN\n",
              "store 2     15      5       10     2.0      5    7.0     50.0\n",
              "store 3     20     30       35     NaN     10    NaN      4.0"
            ]
          },
          "execution_count": 64,
          "metadata": {},
          "output_type": "execute_result"
        }
      ],
      "source": [
        "store_items"
      ]
    },
    {
      "cell_type": "code",
      "execution_count": null,
      "id": "aa376450",
      "metadata": {
        "id": "aa376450",
        "outputId": "8b5416a3-4113-454d-d18a-7587c1d78fb0"
      },
      "outputs": [
        {
          "data": {
            "text/html": [
              "<div>\n",
              "<style scoped>\n",
              "    .dataframe tbody tr th:only-of-type {\n",
              "        vertical-align: middle;\n",
              "    }\n",
              "\n",
              "    .dataframe tbody tr th {\n",
              "        vertical-align: top;\n",
              "    }\n",
              "\n",
              "    .dataframe thead th {\n",
              "        text-align: right;\n",
              "    }\n",
              "</style>\n",
              "<table border=\"1\" class=\"dataframe\">\n",
              "  <thead>\n",
              "    <tr style=\"text-align: right;\">\n",
              "      <th></th>\n",
              "      <th>bikes</th>\n",
              "      <th>pants</th>\n",
              "      <th>watches</th>\n",
              "      <th>shoes</th>\n",
              "    </tr>\n",
              "  </thead>\n",
              "  <tbody>\n",
              "    <tr>\n",
              "      <th>store 1</th>\n",
              "      <td>20</td>\n",
              "      <td>30</td>\n",
              "      <td>35</td>\n",
              "      <td>8</td>\n",
              "    </tr>\n",
              "    <tr>\n",
              "      <th>store 2</th>\n",
              "      <td>15</td>\n",
              "      <td>5</td>\n",
              "      <td>10</td>\n",
              "      <td>5</td>\n",
              "    </tr>\n",
              "    <tr>\n",
              "      <th>store 3</th>\n",
              "      <td>20</td>\n",
              "      <td>30</td>\n",
              "      <td>35</td>\n",
              "      <td>10</td>\n",
              "    </tr>\n",
              "  </tbody>\n",
              "</table>\n",
              "</div>"
            ],
            "text/plain": [
              "         bikes  pants  watches  shoes\n",
              "store 1     20     30       35      8\n",
              "store 2     15      5       10      5\n",
              "store 3     20     30       35     10"
            ]
          },
          "execution_count": 63,
          "metadata": {},
          "output_type": "execute_result"
        }
      ],
      "source": [
        "# We drop any columns with NaN values\n",
        "store_items.dropna(axis = 1)"
      ]
    },
    {
      "cell_type": "markdown",
      "id": "37e70c16",
      "metadata": {
        "id": "37e70c16"
      },
      "source": [
        "Notice that the .dropna() method eliminates (drops) the rows or columns with NaN values out of place. This means that the original DataFrame is not modified. You can always remove the desired rows or columns in place by setting the keyword inplace = True inside the dropna() function.\n",
        "\n",
        "Now, instead of eliminating NaN values, we can replace them with suitable values. We could choose for example to replace all NaN values with the value 0. We can do this by using the .fillna() method as shown below."
      ]
    },
    {
      "cell_type": "code",
      "execution_count": null,
      "id": "bc5ecd50",
      "metadata": {
        "id": "bc5ecd50",
        "outputId": "b1b02c89-ed59-4813-d8e8-a5edb99e6741"
      },
      "outputs": [
        {
          "data": {
            "text/html": [
              "<div>\n",
              "<style scoped>\n",
              "    .dataframe tbody tr th:only-of-type {\n",
              "        vertical-align: middle;\n",
              "    }\n",
              "\n",
              "    .dataframe tbody tr th {\n",
              "        vertical-align: top;\n",
              "    }\n",
              "\n",
              "    .dataframe thead th {\n",
              "        text-align: right;\n",
              "    }\n",
              "</style>\n",
              "<table border=\"1\" class=\"dataframe\">\n",
              "  <thead>\n",
              "    <tr style=\"text-align: right;\">\n",
              "      <th></th>\n",
              "      <th>bikes</th>\n",
              "      <th>pants</th>\n",
              "      <th>watches</th>\n",
              "      <th>shirts</th>\n",
              "      <th>shoes</th>\n",
              "      <th>suits</th>\n",
              "      <th>glasses</th>\n",
              "    </tr>\n",
              "  </thead>\n",
              "  <tbody>\n",
              "    <tr>\n",
              "      <th>store 1</th>\n",
              "      <td>20</td>\n",
              "      <td>30</td>\n",
              "      <td>35</td>\n",
              "      <td>15.0</td>\n",
              "      <td>8</td>\n",
              "      <td>45.0</td>\n",
              "      <td>0.0</td>\n",
              "    </tr>\n",
              "    <tr>\n",
              "      <th>store 2</th>\n",
              "      <td>15</td>\n",
              "      <td>5</td>\n",
              "      <td>10</td>\n",
              "      <td>2.0</td>\n",
              "      <td>5</td>\n",
              "      <td>7.0</td>\n",
              "      <td>50.0</td>\n",
              "    </tr>\n",
              "    <tr>\n",
              "      <th>store 3</th>\n",
              "      <td>20</td>\n",
              "      <td>30</td>\n",
              "      <td>35</td>\n",
              "      <td>0.0</td>\n",
              "      <td>10</td>\n",
              "      <td>0.0</td>\n",
              "      <td>4.0</td>\n",
              "    </tr>\n",
              "  </tbody>\n",
              "</table>\n",
              "</div>"
            ],
            "text/plain": [
              "         bikes  pants  watches  shirts  shoes  suits  glasses\n",
              "store 1     20     30       35    15.0      8   45.0      0.0\n",
              "store 2     15      5       10     2.0      5    7.0     50.0\n",
              "store 3     20     30       35     0.0     10    0.0      4.0"
            ]
          },
          "execution_count": 65,
          "metadata": {},
          "output_type": "execute_result"
        }
      ],
      "source": [
        "# We replace all NaN values with 0\n",
        "store_items.fillna(0)"
      ]
    },
    {
      "cell_type": "code",
      "execution_count": null,
      "id": "a04bf2e1",
      "metadata": {
        "id": "a04bf2e1",
        "outputId": "ada93137-41d0-4813-c840-b3c9df31ae5f"
      },
      "outputs": [
        {
          "data": {
            "text/html": [
              "<div>\n",
              "<style scoped>\n",
              "    .dataframe tbody tr th:only-of-type {\n",
              "        vertical-align: middle;\n",
              "    }\n",
              "\n",
              "    .dataframe tbody tr th {\n",
              "        vertical-align: top;\n",
              "    }\n",
              "\n",
              "    .dataframe thead th {\n",
              "        text-align: right;\n",
              "    }\n",
              "</style>\n",
              "<table border=\"1\" class=\"dataframe\">\n",
              "  <thead>\n",
              "    <tr style=\"text-align: right;\">\n",
              "      <th></th>\n",
              "      <th>bikes</th>\n",
              "      <th>pants</th>\n",
              "      <th>watches</th>\n",
              "      <th>shirts</th>\n",
              "      <th>shoes</th>\n",
              "      <th>suits</th>\n",
              "      <th>glasses</th>\n",
              "    </tr>\n",
              "  </thead>\n",
              "  <tbody>\n",
              "    <tr>\n",
              "      <th>store 1</th>\n",
              "      <td>20</td>\n",
              "      <td>30</td>\n",
              "      <td>35</td>\n",
              "      <td>15.0</td>\n",
              "      <td>8</td>\n",
              "      <td>45.0</td>\n",
              "      <td>27.0</td>\n",
              "    </tr>\n",
              "    <tr>\n",
              "      <th>store 2</th>\n",
              "      <td>15</td>\n",
              "      <td>5</td>\n",
              "      <td>10</td>\n",
              "      <td>2.0</td>\n",
              "      <td>5</td>\n",
              "      <td>7.0</td>\n",
              "      <td>50.0</td>\n",
              "    </tr>\n",
              "    <tr>\n",
              "      <th>store 3</th>\n",
              "      <td>20</td>\n",
              "      <td>30</td>\n",
              "      <td>35</td>\n",
              "      <td>8.5</td>\n",
              "      <td>10</td>\n",
              "      <td>26.0</td>\n",
              "      <td>4.0</td>\n",
              "    </tr>\n",
              "  </tbody>\n",
              "</table>\n",
              "</div>"
            ],
            "text/plain": [
              "         bikes  pants  watches  shirts  shoes  suits  glasses\n",
              "store 1     20     30       35    15.0      8   45.0     27.0\n",
              "store 2     15      5       10     2.0      5    7.0     50.0\n",
              "store 3     20     30       35     8.5     10   26.0      4.0"
            ]
          },
          "execution_count": 66,
          "metadata": {},
          "output_type": "execute_result"
        }
      ],
      "source": [
        "store_items.fillna(store_items.mean())"
      ]
    },
    {
      "cell_type": "markdown",
      "id": "fd329d95",
      "metadata": {
        "id": "fd329d95"
      },
      "source": [
        "## **READING EXTERNAL DATA**\n",
        "\n",
        "## **Example:1**"
      ]
    },
    {
      "cell_type": "markdown",
      "id": "2958e3a9",
      "metadata": {
        "id": "2958e3a9"
      },
      "source": [
        "In machine learning you will most likely use databases from many sources to train your learning algorithms. Pandas allows us to load databases of different formats into DataFrames. One of the most popular data formats used to store databases is csv. CSV stands for Comma Separated Values and offers a simple format to store data. We can load CSV files into Pandas DataFrames using the ```pd.read_csv()``` function. Let's load Google stock data into a Pandas DataFrame. The GOOG.csv file contains Google stock data from 8/19/2004 till 10/13/2017 taken from Yahoo Finance."
      ]
    },
    {
      "cell_type": "code",
      "execution_count": null,
      "id": "549c83fd",
      "metadata": {
        "colab": {
          "base_uri": "https://localhost:8080/"
        },
        "id": "549c83fd",
        "outputId": "ec83a87f-ee34-40a3-d654-d0038ca29084"
      },
      "outputs": [
        {
          "output_type": "stream",
          "name": "stdout",
          "text": [
            "Google_stock is of type: <class 'pandas.core.frame.DataFrame'>\n",
            "Google_stock has shape: (3313, 7)\n"
          ]
        }
      ],
      "source": [
        "import pandas as pd\n",
        "\n",
        "# We load Google stock data in a DataFrame\n",
        "Google_stock = pd.read_csv('GOOG.csv')\n",
        "\n",
        "# We print some information about Google_stock\n",
        "print('Google_stock is of type:', type(Google_stock))\n",
        "print('Google_stock has shape:', Google_stock.shape)"
      ]
    },
    {
      "cell_type": "markdown",
      "id": "9e3d780d",
      "metadata": {
        "id": "9e3d780d"
      },
      "source": [
        "We see that we have loaded the stocks.csv file into a Pandas DataFrame and it consists of 3,313 rows and 7 columns. Now let's look at the stock data"
      ]
    },
    {
      "cell_type": "code",
      "execution_count": null,
      "id": "8d92ef26",
      "metadata": {
        "colab": {
          "base_uri": "https://localhost:8080/",
          "height": 423
        },
        "id": "8d92ef26",
        "outputId": "c244fa39-8dbe-4c10-a09e-5e718c6db2ee"
      },
      "outputs": [
        {
          "output_type": "execute_result",
          "data": {
            "text/plain": [
              "            Date        Open        High         Low       Close   Adj Close  \\\n",
              "0     19-08-2004   49.676899   51.693783   47.669952   49.845802   49.845802   \n",
              "1     20-08-2004   50.178635   54.187561   49.925285   53.805050   53.805050   \n",
              "2     23-08-2004   55.017166   56.373344   54.172661   54.346527   54.346527   \n",
              "3     24-08-2004   55.260582   55.439419   51.450363   52.096165   52.096165   \n",
              "4     25-08-2004   52.140873   53.651051   51.604362   52.657513   52.657513   \n",
              "...          ...         ...         ...         ...         ...         ...   \n",
              "3308  09-10-2017  980.000000  985.424988  976.109985  977.000000  977.000000   \n",
              "3309  10-10-2017  980.000000  981.570007  966.080017  972.599976  972.599976   \n",
              "3310  11-10-2017  973.719971  990.710022  972.250000  989.250000  989.250000   \n",
              "3311  12-10-2017  987.450012  994.119995  985.000000  987.830017  987.830017   \n",
              "3312  13-10-2017  992.000000  997.210022  989.000000  989.679993  989.679993   \n",
              "\n",
              "        Volume  \n",
              "0     44994500  \n",
              "1     23005800  \n",
              "2     18393200  \n",
              "3     15361800  \n",
              "4      9257400  \n",
              "...        ...  \n",
              "3308    891400  \n",
              "3309    968400  \n",
              "3310   1693300  \n",
              "3311   1262400  \n",
              "3312   1157700  \n",
              "\n",
              "[3313 rows x 7 columns]"
            ],
            "text/html": [
              "\n",
              "  <div id=\"df-f36bbe46-8c4e-4927-8add-2e0c43b16602\">\n",
              "    <div class=\"colab-df-container\">\n",
              "      <div>\n",
              "<style scoped>\n",
              "    .dataframe tbody tr th:only-of-type {\n",
              "        vertical-align: middle;\n",
              "    }\n",
              "\n",
              "    .dataframe tbody tr th {\n",
              "        vertical-align: top;\n",
              "    }\n",
              "\n",
              "    .dataframe thead th {\n",
              "        text-align: right;\n",
              "    }\n",
              "</style>\n",
              "<table border=\"1\" class=\"dataframe\">\n",
              "  <thead>\n",
              "    <tr style=\"text-align: right;\">\n",
              "      <th></th>\n",
              "      <th>Date</th>\n",
              "      <th>Open</th>\n",
              "      <th>High</th>\n",
              "      <th>Low</th>\n",
              "      <th>Close</th>\n",
              "      <th>Adj Close</th>\n",
              "      <th>Volume</th>\n",
              "    </tr>\n",
              "  </thead>\n",
              "  <tbody>\n",
              "    <tr>\n",
              "      <th>0</th>\n",
              "      <td>19-08-2004</td>\n",
              "      <td>49.676899</td>\n",
              "      <td>51.693783</td>\n",
              "      <td>47.669952</td>\n",
              "      <td>49.845802</td>\n",
              "      <td>49.845802</td>\n",
              "      <td>44994500</td>\n",
              "    </tr>\n",
              "    <tr>\n",
              "      <th>1</th>\n",
              "      <td>20-08-2004</td>\n",
              "      <td>50.178635</td>\n",
              "      <td>54.187561</td>\n",
              "      <td>49.925285</td>\n",
              "      <td>53.805050</td>\n",
              "      <td>53.805050</td>\n",
              "      <td>23005800</td>\n",
              "    </tr>\n",
              "    <tr>\n",
              "      <th>2</th>\n",
              "      <td>23-08-2004</td>\n",
              "      <td>55.017166</td>\n",
              "      <td>56.373344</td>\n",
              "      <td>54.172661</td>\n",
              "      <td>54.346527</td>\n",
              "      <td>54.346527</td>\n",
              "      <td>18393200</td>\n",
              "    </tr>\n",
              "    <tr>\n",
              "      <th>3</th>\n",
              "      <td>24-08-2004</td>\n",
              "      <td>55.260582</td>\n",
              "      <td>55.439419</td>\n",
              "      <td>51.450363</td>\n",
              "      <td>52.096165</td>\n",
              "      <td>52.096165</td>\n",
              "      <td>15361800</td>\n",
              "    </tr>\n",
              "    <tr>\n",
              "      <th>4</th>\n",
              "      <td>25-08-2004</td>\n",
              "      <td>52.140873</td>\n",
              "      <td>53.651051</td>\n",
              "      <td>51.604362</td>\n",
              "      <td>52.657513</td>\n",
              "      <td>52.657513</td>\n",
              "      <td>9257400</td>\n",
              "    </tr>\n",
              "    <tr>\n",
              "      <th>...</th>\n",
              "      <td>...</td>\n",
              "      <td>...</td>\n",
              "      <td>...</td>\n",
              "      <td>...</td>\n",
              "      <td>...</td>\n",
              "      <td>...</td>\n",
              "      <td>...</td>\n",
              "    </tr>\n",
              "    <tr>\n",
              "      <th>3308</th>\n",
              "      <td>09-10-2017</td>\n",
              "      <td>980.000000</td>\n",
              "      <td>985.424988</td>\n",
              "      <td>976.109985</td>\n",
              "      <td>977.000000</td>\n",
              "      <td>977.000000</td>\n",
              "      <td>891400</td>\n",
              "    </tr>\n",
              "    <tr>\n",
              "      <th>3309</th>\n",
              "      <td>10-10-2017</td>\n",
              "      <td>980.000000</td>\n",
              "      <td>981.570007</td>\n",
              "      <td>966.080017</td>\n",
              "      <td>972.599976</td>\n",
              "      <td>972.599976</td>\n",
              "      <td>968400</td>\n",
              "    </tr>\n",
              "    <tr>\n",
              "      <th>3310</th>\n",
              "      <td>11-10-2017</td>\n",
              "      <td>973.719971</td>\n",
              "      <td>990.710022</td>\n",
              "      <td>972.250000</td>\n",
              "      <td>989.250000</td>\n",
              "      <td>989.250000</td>\n",
              "      <td>1693300</td>\n",
              "    </tr>\n",
              "    <tr>\n",
              "      <th>3311</th>\n",
              "      <td>12-10-2017</td>\n",
              "      <td>987.450012</td>\n",
              "      <td>994.119995</td>\n",
              "      <td>985.000000</td>\n",
              "      <td>987.830017</td>\n",
              "      <td>987.830017</td>\n",
              "      <td>1262400</td>\n",
              "    </tr>\n",
              "    <tr>\n",
              "      <th>3312</th>\n",
              "      <td>13-10-2017</td>\n",
              "      <td>992.000000</td>\n",
              "      <td>997.210022</td>\n",
              "      <td>989.000000</td>\n",
              "      <td>989.679993</td>\n",
              "      <td>989.679993</td>\n",
              "      <td>1157700</td>\n",
              "    </tr>\n",
              "  </tbody>\n",
              "</table>\n",
              "<p>3313 rows × 7 columns</p>\n",
              "</div>\n",
              "      <button class=\"colab-df-convert\" onclick=\"convertToInteractive('df-f36bbe46-8c4e-4927-8add-2e0c43b16602')\"\n",
              "              title=\"Convert this dataframe to an interactive table.\"\n",
              "              style=\"display:none;\">\n",
              "        \n",
              "  <svg xmlns=\"http://www.w3.org/2000/svg\" height=\"24px\"viewBox=\"0 0 24 24\"\n",
              "       width=\"24px\">\n",
              "    <path d=\"M0 0h24v24H0V0z\" fill=\"none\"/>\n",
              "    <path d=\"M18.56 5.44l.94 2.06.94-2.06 2.06-.94-2.06-.94-.94-2.06-.94 2.06-2.06.94zm-11 1L8.5 8.5l.94-2.06 2.06-.94-2.06-.94L8.5 2.5l-.94 2.06-2.06.94zm10 10l.94 2.06.94-2.06 2.06-.94-2.06-.94-.94-2.06-.94 2.06-2.06.94z\"/><path d=\"M17.41 7.96l-1.37-1.37c-.4-.4-.92-.59-1.43-.59-.52 0-1.04.2-1.43.59L10.3 9.45l-7.72 7.72c-.78.78-.78 2.05 0 2.83L4 21.41c.39.39.9.59 1.41.59.51 0 1.02-.2 1.41-.59l7.78-7.78 2.81-2.81c.8-.78.8-2.07 0-2.86zM5.41 20L4 18.59l7.72-7.72 1.47 1.35L5.41 20z\"/>\n",
              "  </svg>\n",
              "      </button>\n",
              "      \n",
              "  <style>\n",
              "    .colab-df-container {\n",
              "      display:flex;\n",
              "      flex-wrap:wrap;\n",
              "      gap: 12px;\n",
              "    }\n",
              "\n",
              "    .colab-df-convert {\n",
              "      background-color: #E8F0FE;\n",
              "      border: none;\n",
              "      border-radius: 50%;\n",
              "      cursor: pointer;\n",
              "      display: none;\n",
              "      fill: #1967D2;\n",
              "      height: 32px;\n",
              "      padding: 0 0 0 0;\n",
              "      width: 32px;\n",
              "    }\n",
              "\n",
              "    .colab-df-convert:hover {\n",
              "      background-color: #E2EBFA;\n",
              "      box-shadow: 0px 1px 2px rgba(60, 64, 67, 0.3), 0px 1px 3px 1px rgba(60, 64, 67, 0.15);\n",
              "      fill: #174EA6;\n",
              "    }\n",
              "\n",
              "    [theme=dark] .colab-df-convert {\n",
              "      background-color: #3B4455;\n",
              "      fill: #D2E3FC;\n",
              "    }\n",
              "\n",
              "    [theme=dark] .colab-df-convert:hover {\n",
              "      background-color: #434B5C;\n",
              "      box-shadow: 0px 1px 3px 1px rgba(0, 0, 0, 0.15);\n",
              "      filter: drop-shadow(0px 1px 2px rgba(0, 0, 0, 0.3));\n",
              "      fill: #FFFFFF;\n",
              "    }\n",
              "  </style>\n",
              "\n",
              "      <script>\n",
              "        const buttonEl =\n",
              "          document.querySelector('#df-f36bbe46-8c4e-4927-8add-2e0c43b16602 button.colab-df-convert');\n",
              "        buttonEl.style.display =\n",
              "          google.colab.kernel.accessAllowed ? 'block' : 'none';\n",
              "\n",
              "        async function convertToInteractive(key) {\n",
              "          const element = document.querySelector('#df-f36bbe46-8c4e-4927-8add-2e0c43b16602');\n",
              "          const dataTable =\n",
              "            await google.colab.kernel.invokeFunction('convertToInteractive',\n",
              "                                                     [key], {});\n",
              "          if (!dataTable) return;\n",
              "\n",
              "          const docLinkHtml = 'Like what you see? Visit the ' +\n",
              "            '<a target=\"_blank\" href=https://colab.research.google.com/notebooks/data_table.ipynb>data table notebook</a>'\n",
              "            + ' to learn more about interactive tables.';\n",
              "          element.innerHTML = '';\n",
              "          dataTable['output_type'] = 'display_data';\n",
              "          await google.colab.output.renderOutput(dataTable, element);\n",
              "          const docLink = document.createElement('div');\n",
              "          docLink.innerHTML = docLinkHtml;\n",
              "          element.appendChild(docLink);\n",
              "        }\n",
              "      </script>\n",
              "    </div>\n",
              "  </div>\n",
              "  "
            ]
          },
          "metadata": {},
          "execution_count": 8
        }
      ],
      "source": [
        "Google_stock"
      ]
    },
    {
      "cell_type": "markdown",
      "id": "4c29429e",
      "metadata": {
        "id": "4c29429e"
      },
      "source": [
        "We see that it is quite a large dataset and that Pandas has automatically assigned numerical row indices to the DataFrame. Pandas also used the labels that appear in the data in the CSV file to assign the column labels.\n",
        "\n",
        "When dealing with large datasets like this one, it is often useful just to take a look at the first few rows of data instead of the whole dataset. We can take a look at the first 5 rows of data using the ```.head()``` method, as shown below"
      ]
    },
    {
      "cell_type": "code",
      "execution_count": null,
      "id": "6bd0c34e",
      "metadata": {
        "colab": {
          "base_uri": "https://localhost:8080/",
          "height": 363
        },
        "id": "6bd0c34e",
        "outputId": "750a05e5-b671-41ac-8b4f-434f38159899"
      },
      "outputs": [
        {
          "output_type": "execute_result",
          "data": {
            "text/plain": [
              "         Date       Open       High        Low      Close  Adj Close    Volume\n",
              "0  19-08-2004  49.676899  51.693783  47.669952  49.845802  49.845802  44994500\n",
              "1  20-08-2004  50.178635  54.187561  49.925285  53.805050  53.805050  23005800\n",
              "2  23-08-2004  55.017166  56.373344  54.172661  54.346527  54.346527  18393200\n",
              "3  24-08-2004  55.260582  55.439419  51.450363  52.096165  52.096165  15361800\n",
              "4  25-08-2004  52.140873  53.651051  51.604362  52.657513  52.657513   9257400\n",
              "5  26-08-2004  52.135906  53.626213  51.991844  53.606342  53.606342   7148200\n",
              "6  27-08-2004  53.700729  53.959049  52.503513  52.732029  52.732029   6258300\n",
              "7  30-08-2004  52.299839  52.404160  50.675404  50.675404  50.675404   5235700\n",
              "8  31-08-2004  50.819469  51.519913  50.749920  50.854240  50.854240   4954800\n",
              "9  01-09-2004  51.018177  51.152302  49.512966  49.801090  49.801090   9206800"
            ],
            "text/html": [
              "\n",
              "  <div id=\"df-1a0ee858-4624-4878-b17d-256a6ba8f95e\">\n",
              "    <div class=\"colab-df-container\">\n",
              "      <div>\n",
              "<style scoped>\n",
              "    .dataframe tbody tr th:only-of-type {\n",
              "        vertical-align: middle;\n",
              "    }\n",
              "\n",
              "    .dataframe tbody tr th {\n",
              "        vertical-align: top;\n",
              "    }\n",
              "\n",
              "    .dataframe thead th {\n",
              "        text-align: right;\n",
              "    }\n",
              "</style>\n",
              "<table border=\"1\" class=\"dataframe\">\n",
              "  <thead>\n",
              "    <tr style=\"text-align: right;\">\n",
              "      <th></th>\n",
              "      <th>Date</th>\n",
              "      <th>Open</th>\n",
              "      <th>High</th>\n",
              "      <th>Low</th>\n",
              "      <th>Close</th>\n",
              "      <th>Adj Close</th>\n",
              "      <th>Volume</th>\n",
              "    </tr>\n",
              "  </thead>\n",
              "  <tbody>\n",
              "    <tr>\n",
              "      <th>0</th>\n",
              "      <td>19-08-2004</td>\n",
              "      <td>49.676899</td>\n",
              "      <td>51.693783</td>\n",
              "      <td>47.669952</td>\n",
              "      <td>49.845802</td>\n",
              "      <td>49.845802</td>\n",
              "      <td>44994500</td>\n",
              "    </tr>\n",
              "    <tr>\n",
              "      <th>1</th>\n",
              "      <td>20-08-2004</td>\n",
              "      <td>50.178635</td>\n",
              "      <td>54.187561</td>\n",
              "      <td>49.925285</td>\n",
              "      <td>53.805050</td>\n",
              "      <td>53.805050</td>\n",
              "      <td>23005800</td>\n",
              "    </tr>\n",
              "    <tr>\n",
              "      <th>2</th>\n",
              "      <td>23-08-2004</td>\n",
              "      <td>55.017166</td>\n",
              "      <td>56.373344</td>\n",
              "      <td>54.172661</td>\n",
              "      <td>54.346527</td>\n",
              "      <td>54.346527</td>\n",
              "      <td>18393200</td>\n",
              "    </tr>\n",
              "    <tr>\n",
              "      <th>3</th>\n",
              "      <td>24-08-2004</td>\n",
              "      <td>55.260582</td>\n",
              "      <td>55.439419</td>\n",
              "      <td>51.450363</td>\n",
              "      <td>52.096165</td>\n",
              "      <td>52.096165</td>\n",
              "      <td>15361800</td>\n",
              "    </tr>\n",
              "    <tr>\n",
              "      <th>4</th>\n",
              "      <td>25-08-2004</td>\n",
              "      <td>52.140873</td>\n",
              "      <td>53.651051</td>\n",
              "      <td>51.604362</td>\n",
              "      <td>52.657513</td>\n",
              "      <td>52.657513</td>\n",
              "      <td>9257400</td>\n",
              "    </tr>\n",
              "    <tr>\n",
              "      <th>5</th>\n",
              "      <td>26-08-2004</td>\n",
              "      <td>52.135906</td>\n",
              "      <td>53.626213</td>\n",
              "      <td>51.991844</td>\n",
              "      <td>53.606342</td>\n",
              "      <td>53.606342</td>\n",
              "      <td>7148200</td>\n",
              "    </tr>\n",
              "    <tr>\n",
              "      <th>6</th>\n",
              "      <td>27-08-2004</td>\n",
              "      <td>53.700729</td>\n",
              "      <td>53.959049</td>\n",
              "      <td>52.503513</td>\n",
              "      <td>52.732029</td>\n",
              "      <td>52.732029</td>\n",
              "      <td>6258300</td>\n",
              "    </tr>\n",
              "    <tr>\n",
              "      <th>7</th>\n",
              "      <td>30-08-2004</td>\n",
              "      <td>52.299839</td>\n",
              "      <td>52.404160</td>\n",
              "      <td>50.675404</td>\n",
              "      <td>50.675404</td>\n",
              "      <td>50.675404</td>\n",
              "      <td>5235700</td>\n",
              "    </tr>\n",
              "    <tr>\n",
              "      <th>8</th>\n",
              "      <td>31-08-2004</td>\n",
              "      <td>50.819469</td>\n",
              "      <td>51.519913</td>\n",
              "      <td>50.749920</td>\n",
              "      <td>50.854240</td>\n",
              "      <td>50.854240</td>\n",
              "      <td>4954800</td>\n",
              "    </tr>\n",
              "    <tr>\n",
              "      <th>9</th>\n",
              "      <td>01-09-2004</td>\n",
              "      <td>51.018177</td>\n",
              "      <td>51.152302</td>\n",
              "      <td>49.512966</td>\n",
              "      <td>49.801090</td>\n",
              "      <td>49.801090</td>\n",
              "      <td>9206800</td>\n",
              "    </tr>\n",
              "  </tbody>\n",
              "</table>\n",
              "</div>\n",
              "      <button class=\"colab-df-convert\" onclick=\"convertToInteractive('df-1a0ee858-4624-4878-b17d-256a6ba8f95e')\"\n",
              "              title=\"Convert this dataframe to an interactive table.\"\n",
              "              style=\"display:none;\">\n",
              "        \n",
              "  <svg xmlns=\"http://www.w3.org/2000/svg\" height=\"24px\"viewBox=\"0 0 24 24\"\n",
              "       width=\"24px\">\n",
              "    <path d=\"M0 0h24v24H0V0z\" fill=\"none\"/>\n",
              "    <path d=\"M18.56 5.44l.94 2.06.94-2.06 2.06-.94-2.06-.94-.94-2.06-.94 2.06-2.06.94zm-11 1L8.5 8.5l.94-2.06 2.06-.94-2.06-.94L8.5 2.5l-.94 2.06-2.06.94zm10 10l.94 2.06.94-2.06 2.06-.94-2.06-.94-.94-2.06-.94 2.06-2.06.94z\"/><path d=\"M17.41 7.96l-1.37-1.37c-.4-.4-.92-.59-1.43-.59-.52 0-1.04.2-1.43.59L10.3 9.45l-7.72 7.72c-.78.78-.78 2.05 0 2.83L4 21.41c.39.39.9.59 1.41.59.51 0 1.02-.2 1.41-.59l7.78-7.78 2.81-2.81c.8-.78.8-2.07 0-2.86zM5.41 20L4 18.59l7.72-7.72 1.47 1.35L5.41 20z\"/>\n",
              "  </svg>\n",
              "      </button>\n",
              "      \n",
              "  <style>\n",
              "    .colab-df-container {\n",
              "      display:flex;\n",
              "      flex-wrap:wrap;\n",
              "      gap: 12px;\n",
              "    }\n",
              "\n",
              "    .colab-df-convert {\n",
              "      background-color: #E8F0FE;\n",
              "      border: none;\n",
              "      border-radius: 50%;\n",
              "      cursor: pointer;\n",
              "      display: none;\n",
              "      fill: #1967D2;\n",
              "      height: 32px;\n",
              "      padding: 0 0 0 0;\n",
              "      width: 32px;\n",
              "    }\n",
              "\n",
              "    .colab-df-convert:hover {\n",
              "      background-color: #E2EBFA;\n",
              "      box-shadow: 0px 1px 2px rgba(60, 64, 67, 0.3), 0px 1px 3px 1px rgba(60, 64, 67, 0.15);\n",
              "      fill: #174EA6;\n",
              "    }\n",
              "\n",
              "    [theme=dark] .colab-df-convert {\n",
              "      background-color: #3B4455;\n",
              "      fill: #D2E3FC;\n",
              "    }\n",
              "\n",
              "    [theme=dark] .colab-df-convert:hover {\n",
              "      background-color: #434B5C;\n",
              "      box-shadow: 0px 1px 3px 1px rgba(0, 0, 0, 0.15);\n",
              "      filter: drop-shadow(0px 1px 2px rgba(0, 0, 0, 0.3));\n",
              "      fill: #FFFFFF;\n",
              "    }\n",
              "  </style>\n",
              "\n",
              "      <script>\n",
              "        const buttonEl =\n",
              "          document.querySelector('#df-1a0ee858-4624-4878-b17d-256a6ba8f95e button.colab-df-convert');\n",
              "        buttonEl.style.display =\n",
              "          google.colab.kernel.accessAllowed ? 'block' : 'none';\n",
              "\n",
              "        async function convertToInteractive(key) {\n",
              "          const element = document.querySelector('#df-1a0ee858-4624-4878-b17d-256a6ba8f95e');\n",
              "          const dataTable =\n",
              "            await google.colab.kernel.invokeFunction('convertToInteractive',\n",
              "                                                     [key], {});\n",
              "          if (!dataTable) return;\n",
              "\n",
              "          const docLinkHtml = 'Like what you see? Visit the ' +\n",
              "            '<a target=\"_blank\" href=https://colab.research.google.com/notebooks/data_table.ipynb>data table notebook</a>'\n",
              "            + ' to learn more about interactive tables.';\n",
              "          element.innerHTML = '';\n",
              "          dataTable['output_type'] = 'display_data';\n",
              "          await google.colab.output.renderOutput(dataTable, element);\n",
              "          const docLink = document.createElement('div');\n",
              "          docLink.innerHTML = docLinkHtml;\n",
              "          element.appendChild(docLink);\n",
              "        }\n",
              "      </script>\n",
              "    </div>\n",
              "  </div>\n",
              "  "
            ]
          },
          "metadata": {},
          "execution_count": 9
        }
      ],
      "source": [
        "Google_stock.head(10)"
      ]
    },
    {
      "cell_type": "markdown",
      "id": "673b021d",
      "metadata": {
        "id": "673b021d"
      },
      "source": [
        "We can also take a look at the last 5 rows of data by using the ```.tail()``` method:"
      ]
    },
    {
      "cell_type": "code",
      "execution_count": null,
      "id": "14c9c080",
      "metadata": {
        "colab": {
          "base_uri": "https://localhost:8080/",
          "height": 143
        },
        "id": "14c9c080",
        "outputId": "cedafc09-6487-4a4b-92d7-0bef3c102273"
      },
      "outputs": [
        {
          "output_type": "execute_result",
          "data": {
            "text/plain": [
              "            Date        Open        High     Low       Close   Adj Close  \\\n",
              "3310  11-10-2017  973.719971  990.710022  972.25  989.250000  989.250000   \n",
              "3311  12-10-2017  987.450012  994.119995  985.00  987.830017  987.830017   \n",
              "3312  13-10-2017  992.000000  997.210022  989.00  989.679993  989.679993   \n",
              "\n",
              "       Volume  \n",
              "3310  1693300  \n",
              "3311  1262400  \n",
              "3312  1157700  "
            ],
            "text/html": [
              "\n",
              "  <div id=\"df-4d938f8e-e508-4bb3-b073-819861847e39\">\n",
              "    <div class=\"colab-df-container\">\n",
              "      <div>\n",
              "<style scoped>\n",
              "    .dataframe tbody tr th:only-of-type {\n",
              "        vertical-align: middle;\n",
              "    }\n",
              "\n",
              "    .dataframe tbody tr th {\n",
              "        vertical-align: top;\n",
              "    }\n",
              "\n",
              "    .dataframe thead th {\n",
              "        text-align: right;\n",
              "    }\n",
              "</style>\n",
              "<table border=\"1\" class=\"dataframe\">\n",
              "  <thead>\n",
              "    <tr style=\"text-align: right;\">\n",
              "      <th></th>\n",
              "      <th>Date</th>\n",
              "      <th>Open</th>\n",
              "      <th>High</th>\n",
              "      <th>Low</th>\n",
              "      <th>Close</th>\n",
              "      <th>Adj Close</th>\n",
              "      <th>Volume</th>\n",
              "    </tr>\n",
              "  </thead>\n",
              "  <tbody>\n",
              "    <tr>\n",
              "      <th>3310</th>\n",
              "      <td>11-10-2017</td>\n",
              "      <td>973.719971</td>\n",
              "      <td>990.710022</td>\n",
              "      <td>972.25</td>\n",
              "      <td>989.250000</td>\n",
              "      <td>989.250000</td>\n",
              "      <td>1693300</td>\n",
              "    </tr>\n",
              "    <tr>\n",
              "      <th>3311</th>\n",
              "      <td>12-10-2017</td>\n",
              "      <td>987.450012</td>\n",
              "      <td>994.119995</td>\n",
              "      <td>985.00</td>\n",
              "      <td>987.830017</td>\n",
              "      <td>987.830017</td>\n",
              "      <td>1262400</td>\n",
              "    </tr>\n",
              "    <tr>\n",
              "      <th>3312</th>\n",
              "      <td>13-10-2017</td>\n",
              "      <td>992.000000</td>\n",
              "      <td>997.210022</td>\n",
              "      <td>989.00</td>\n",
              "      <td>989.679993</td>\n",
              "      <td>989.679993</td>\n",
              "      <td>1157700</td>\n",
              "    </tr>\n",
              "  </tbody>\n",
              "</table>\n",
              "</div>\n",
              "      <button class=\"colab-df-convert\" onclick=\"convertToInteractive('df-4d938f8e-e508-4bb3-b073-819861847e39')\"\n",
              "              title=\"Convert this dataframe to an interactive table.\"\n",
              "              style=\"display:none;\">\n",
              "        \n",
              "  <svg xmlns=\"http://www.w3.org/2000/svg\" height=\"24px\"viewBox=\"0 0 24 24\"\n",
              "       width=\"24px\">\n",
              "    <path d=\"M0 0h24v24H0V0z\" fill=\"none\"/>\n",
              "    <path d=\"M18.56 5.44l.94 2.06.94-2.06 2.06-.94-2.06-.94-.94-2.06-.94 2.06-2.06.94zm-11 1L8.5 8.5l.94-2.06 2.06-.94-2.06-.94L8.5 2.5l-.94 2.06-2.06.94zm10 10l.94 2.06.94-2.06 2.06-.94-2.06-.94-.94-2.06-.94 2.06-2.06.94z\"/><path d=\"M17.41 7.96l-1.37-1.37c-.4-.4-.92-.59-1.43-.59-.52 0-1.04.2-1.43.59L10.3 9.45l-7.72 7.72c-.78.78-.78 2.05 0 2.83L4 21.41c.39.39.9.59 1.41.59.51 0 1.02-.2 1.41-.59l7.78-7.78 2.81-2.81c.8-.78.8-2.07 0-2.86zM5.41 20L4 18.59l7.72-7.72 1.47 1.35L5.41 20z\"/>\n",
              "  </svg>\n",
              "      </button>\n",
              "      \n",
              "  <style>\n",
              "    .colab-df-container {\n",
              "      display:flex;\n",
              "      flex-wrap:wrap;\n",
              "      gap: 12px;\n",
              "    }\n",
              "\n",
              "    .colab-df-convert {\n",
              "      background-color: #E8F0FE;\n",
              "      border: none;\n",
              "      border-radius: 50%;\n",
              "      cursor: pointer;\n",
              "      display: none;\n",
              "      fill: #1967D2;\n",
              "      height: 32px;\n",
              "      padding: 0 0 0 0;\n",
              "      width: 32px;\n",
              "    }\n",
              "\n",
              "    .colab-df-convert:hover {\n",
              "      background-color: #E2EBFA;\n",
              "      box-shadow: 0px 1px 2px rgba(60, 64, 67, 0.3), 0px 1px 3px 1px rgba(60, 64, 67, 0.15);\n",
              "      fill: #174EA6;\n",
              "    }\n",
              "\n",
              "    [theme=dark] .colab-df-convert {\n",
              "      background-color: #3B4455;\n",
              "      fill: #D2E3FC;\n",
              "    }\n",
              "\n",
              "    [theme=dark] .colab-df-convert:hover {\n",
              "      background-color: #434B5C;\n",
              "      box-shadow: 0px 1px 3px 1px rgba(0, 0, 0, 0.15);\n",
              "      filter: drop-shadow(0px 1px 2px rgba(0, 0, 0, 0.3));\n",
              "      fill: #FFFFFF;\n",
              "    }\n",
              "  </style>\n",
              "\n",
              "      <script>\n",
              "        const buttonEl =\n",
              "          document.querySelector('#df-4d938f8e-e508-4bb3-b073-819861847e39 button.colab-df-convert');\n",
              "        buttonEl.style.display =\n",
              "          google.colab.kernel.accessAllowed ? 'block' : 'none';\n",
              "\n",
              "        async function convertToInteractive(key) {\n",
              "          const element = document.querySelector('#df-4d938f8e-e508-4bb3-b073-819861847e39');\n",
              "          const dataTable =\n",
              "            await google.colab.kernel.invokeFunction('convertToInteractive',\n",
              "                                                     [key], {});\n",
              "          if (!dataTable) return;\n",
              "\n",
              "          const docLinkHtml = 'Like what you see? Visit the ' +\n",
              "            '<a target=\"_blank\" href=https://colab.research.google.com/notebooks/data_table.ipynb>data table notebook</a>'\n",
              "            + ' to learn more about interactive tables.';\n",
              "          element.innerHTML = '';\n",
              "          dataTable['output_type'] = 'display_data';\n",
              "          await google.colab.output.renderOutput(dataTable, element);\n",
              "          const docLink = document.createElement('div');\n",
              "          docLink.innerHTML = docLinkHtml;\n",
              "          element.appendChild(docLink);\n",
              "        }\n",
              "      </script>\n",
              "    </div>\n",
              "  </div>\n",
              "  "
            ]
          },
          "metadata": {},
          "execution_count": 10
        }
      ],
      "source": [
        "Google_stock.tail(3)"
      ]
    },
    {
      "cell_type": "markdown",
      "id": "f0139a26",
      "metadata": {
        "id": "f0139a26"
      },
      "source": [
        "\n",
        "Let's do a quick check to see whether we have any ```NaN``` values in our dataset. To do this, we will use the ```.isnull()``` method followed by the ```.any()``` method to check whether any of the columns contain ```NaN``` values."
      ]
    },
    {
      "cell_type": "code",
      "execution_count": null,
      "id": "034b96ae",
      "metadata": {
        "colab": {
          "base_uri": "https://localhost:8080/"
        },
        "id": "034b96ae",
        "outputId": "a96fdb5c-b2cd-4caa-d1e2-334a26995299"
      },
      "outputs": [
        {
          "output_type": "execute_result",
          "data": {
            "text/plain": [
              "Date         False\n",
              "Open         False\n",
              "High         False\n",
              "Low          False\n",
              "Close        False\n",
              "Adj Close    False\n",
              "Volume       False\n",
              "dtype: bool"
            ]
          },
          "metadata": {},
          "execution_count": 7
        }
      ],
      "source": [
        "Google_stock.isnull().any()"
      ]
    },
    {
      "cell_type": "markdown",
      "id": "28d18503",
      "metadata": {
        "id": "28d18503"
      },
      "source": [
        "We see that we have no ```NaN``` values.\n",
        "\n",
        "When dealing with large datasets, it is often useful to get statistical information from them. Pandas provides the ```.describe()``` method to get descriptive statistics on each column of the DataFrame. Let's see how this works:"
      ]
    },
    {
      "cell_type": "code",
      "execution_count": null,
      "id": "85e1efa2",
      "metadata": {
        "colab": {
          "base_uri": "https://localhost:8080/",
          "height": 300
        },
        "id": "85e1efa2",
        "outputId": "56b886cd-315f-40ba-993a-cbbbe508bc13"
      },
      "outputs": [
        {
          "output_type": "execute_result",
          "data": {
            "text/plain": [
              "              Open         High          Low        Close    Adj Close  \\\n",
              "count  3313.000000  3313.000000  3313.000000  3313.000000  3313.000000   \n",
              "mean    380.186092   383.493740   376.519309   380.072458   380.072458   \n",
              "std     223.818650   224.974534   222.473232   223.853780   223.853780   \n",
              "min      49.274517    50.541279    47.669952    49.681866    49.681866   \n",
              "25%     226.556473   228.394516   224.003082   226.407440   226.407440   \n",
              "50%     293.312286   295.433502   289.929291   293.029114   293.029114   \n",
              "75%     536.650024   540.000000   532.409973   536.690002   536.690002   \n",
              "max     992.000000   997.210022   989.000000   989.679993   989.679993   \n",
              "\n",
              "             Volume  \n",
              "count  3.313000e+03  \n",
              "mean   8.038476e+06  \n",
              "std    8.399521e+06  \n",
              "min    7.900000e+03  \n",
              "25%    2.584900e+06  \n",
              "50%    5.281300e+06  \n",
              "75%    1.065370e+07  \n",
              "max    8.276810e+07  "
            ],
            "text/html": [
              "\n",
              "  <div id=\"df-b51a5246-5eda-48e0-9b2c-f65a31c16da9\">\n",
              "    <div class=\"colab-df-container\">\n",
              "      <div>\n",
              "<style scoped>\n",
              "    .dataframe tbody tr th:only-of-type {\n",
              "        vertical-align: middle;\n",
              "    }\n",
              "\n",
              "    .dataframe tbody tr th {\n",
              "        vertical-align: top;\n",
              "    }\n",
              "\n",
              "    .dataframe thead th {\n",
              "        text-align: right;\n",
              "    }\n",
              "</style>\n",
              "<table border=\"1\" class=\"dataframe\">\n",
              "  <thead>\n",
              "    <tr style=\"text-align: right;\">\n",
              "      <th></th>\n",
              "      <th>Open</th>\n",
              "      <th>High</th>\n",
              "      <th>Low</th>\n",
              "      <th>Close</th>\n",
              "      <th>Adj Close</th>\n",
              "      <th>Volume</th>\n",
              "    </tr>\n",
              "  </thead>\n",
              "  <tbody>\n",
              "    <tr>\n",
              "      <th>count</th>\n",
              "      <td>3313.000000</td>\n",
              "      <td>3313.000000</td>\n",
              "      <td>3313.000000</td>\n",
              "      <td>3313.000000</td>\n",
              "      <td>3313.000000</td>\n",
              "      <td>3.313000e+03</td>\n",
              "    </tr>\n",
              "    <tr>\n",
              "      <th>mean</th>\n",
              "      <td>380.186092</td>\n",
              "      <td>383.493740</td>\n",
              "      <td>376.519309</td>\n",
              "      <td>380.072458</td>\n",
              "      <td>380.072458</td>\n",
              "      <td>8.038476e+06</td>\n",
              "    </tr>\n",
              "    <tr>\n",
              "      <th>std</th>\n",
              "      <td>223.818650</td>\n",
              "      <td>224.974534</td>\n",
              "      <td>222.473232</td>\n",
              "      <td>223.853780</td>\n",
              "      <td>223.853780</td>\n",
              "      <td>8.399521e+06</td>\n",
              "    </tr>\n",
              "    <tr>\n",
              "      <th>min</th>\n",
              "      <td>49.274517</td>\n",
              "      <td>50.541279</td>\n",
              "      <td>47.669952</td>\n",
              "      <td>49.681866</td>\n",
              "      <td>49.681866</td>\n",
              "      <td>7.900000e+03</td>\n",
              "    </tr>\n",
              "    <tr>\n",
              "      <th>25%</th>\n",
              "      <td>226.556473</td>\n",
              "      <td>228.394516</td>\n",
              "      <td>224.003082</td>\n",
              "      <td>226.407440</td>\n",
              "      <td>226.407440</td>\n",
              "      <td>2.584900e+06</td>\n",
              "    </tr>\n",
              "    <tr>\n",
              "      <th>50%</th>\n",
              "      <td>293.312286</td>\n",
              "      <td>295.433502</td>\n",
              "      <td>289.929291</td>\n",
              "      <td>293.029114</td>\n",
              "      <td>293.029114</td>\n",
              "      <td>5.281300e+06</td>\n",
              "    </tr>\n",
              "    <tr>\n",
              "      <th>75%</th>\n",
              "      <td>536.650024</td>\n",
              "      <td>540.000000</td>\n",
              "      <td>532.409973</td>\n",
              "      <td>536.690002</td>\n",
              "      <td>536.690002</td>\n",
              "      <td>1.065370e+07</td>\n",
              "    </tr>\n",
              "    <tr>\n",
              "      <th>max</th>\n",
              "      <td>992.000000</td>\n",
              "      <td>997.210022</td>\n",
              "      <td>989.000000</td>\n",
              "      <td>989.679993</td>\n",
              "      <td>989.679993</td>\n",
              "      <td>8.276810e+07</td>\n",
              "    </tr>\n",
              "  </tbody>\n",
              "</table>\n",
              "</div>\n",
              "      <button class=\"colab-df-convert\" onclick=\"convertToInteractive('df-b51a5246-5eda-48e0-9b2c-f65a31c16da9')\"\n",
              "              title=\"Convert this dataframe to an interactive table.\"\n",
              "              style=\"display:none;\">\n",
              "        \n",
              "  <svg xmlns=\"http://www.w3.org/2000/svg\" height=\"24px\"viewBox=\"0 0 24 24\"\n",
              "       width=\"24px\">\n",
              "    <path d=\"M0 0h24v24H0V0z\" fill=\"none\"/>\n",
              "    <path d=\"M18.56 5.44l.94 2.06.94-2.06 2.06-.94-2.06-.94-.94-2.06-.94 2.06-2.06.94zm-11 1L8.5 8.5l.94-2.06 2.06-.94-2.06-.94L8.5 2.5l-.94 2.06-2.06.94zm10 10l.94 2.06.94-2.06 2.06-.94-2.06-.94-.94-2.06-.94 2.06-2.06.94z\"/><path d=\"M17.41 7.96l-1.37-1.37c-.4-.4-.92-.59-1.43-.59-.52 0-1.04.2-1.43.59L10.3 9.45l-7.72 7.72c-.78.78-.78 2.05 0 2.83L4 21.41c.39.39.9.59 1.41.59.51 0 1.02-.2 1.41-.59l7.78-7.78 2.81-2.81c.8-.78.8-2.07 0-2.86zM5.41 20L4 18.59l7.72-7.72 1.47 1.35L5.41 20z\"/>\n",
              "  </svg>\n",
              "      </button>\n",
              "      \n",
              "  <style>\n",
              "    .colab-df-container {\n",
              "      display:flex;\n",
              "      flex-wrap:wrap;\n",
              "      gap: 12px;\n",
              "    }\n",
              "\n",
              "    .colab-df-convert {\n",
              "      background-color: #E8F0FE;\n",
              "      border: none;\n",
              "      border-radius: 50%;\n",
              "      cursor: pointer;\n",
              "      display: none;\n",
              "      fill: #1967D2;\n",
              "      height: 32px;\n",
              "      padding: 0 0 0 0;\n",
              "      width: 32px;\n",
              "    }\n",
              "\n",
              "    .colab-df-convert:hover {\n",
              "      background-color: #E2EBFA;\n",
              "      box-shadow: 0px 1px 2px rgba(60, 64, 67, 0.3), 0px 1px 3px 1px rgba(60, 64, 67, 0.15);\n",
              "      fill: #174EA6;\n",
              "    }\n",
              "\n",
              "    [theme=dark] .colab-df-convert {\n",
              "      background-color: #3B4455;\n",
              "      fill: #D2E3FC;\n",
              "    }\n",
              "\n",
              "    [theme=dark] .colab-df-convert:hover {\n",
              "      background-color: #434B5C;\n",
              "      box-shadow: 0px 1px 3px 1px rgba(0, 0, 0, 0.15);\n",
              "      filter: drop-shadow(0px 1px 2px rgba(0, 0, 0, 0.3));\n",
              "      fill: #FFFFFF;\n",
              "    }\n",
              "  </style>\n",
              "\n",
              "      <script>\n",
              "        const buttonEl =\n",
              "          document.querySelector('#df-b51a5246-5eda-48e0-9b2c-f65a31c16da9 button.colab-df-convert');\n",
              "        buttonEl.style.display =\n",
              "          google.colab.kernel.accessAllowed ? 'block' : 'none';\n",
              "\n",
              "        async function convertToInteractive(key) {\n",
              "          const element = document.querySelector('#df-b51a5246-5eda-48e0-9b2c-f65a31c16da9');\n",
              "          const dataTable =\n",
              "            await google.colab.kernel.invokeFunction('convertToInteractive',\n",
              "                                                     [key], {});\n",
              "          if (!dataTable) return;\n",
              "\n",
              "          const docLinkHtml = 'Like what you see? Visit the ' +\n",
              "            '<a target=\"_blank\" href=https://colab.research.google.com/notebooks/data_table.ipynb>data table notebook</a>'\n",
              "            + ' to learn more about interactive tables.';\n",
              "          element.innerHTML = '';\n",
              "          dataTable['output_type'] = 'display_data';\n",
              "          await google.colab.output.renderOutput(dataTable, element);\n",
              "          const docLink = document.createElement('div');\n",
              "          docLink.innerHTML = docLinkHtml;\n",
              "          element.appendChild(docLink);\n",
              "        }\n",
              "      </script>\n",
              "    </div>\n",
              "  </div>\n",
              "  "
            ]
          },
          "metadata": {},
          "execution_count": 12
        }
      ],
      "source": [
        "# We get descriptive statistics on our stock data\n",
        "Google_stock.describe()"
      ]
    },
    {
      "cell_type": "markdown",
      "id": "e632296d",
      "metadata": {
        "id": "e632296d"
      },
      "source": [
        "If desired, we can apply the ```.describe()``` method on a single column as shown below:"
      ]
    },
    {
      "cell_type": "code",
      "execution_count": null,
      "id": "7ad0be1a",
      "metadata": {
        "colab": {
          "base_uri": "https://localhost:8080/"
        },
        "id": "7ad0be1a",
        "outputId": "18b8e721-b542-49c0-c807-c4f763fada4e"
      },
      "outputs": [
        {
          "output_type": "execute_result",
          "data": {
            "text/plain": [
              "count    3313.000000\n",
              "mean      380.072458\n",
              "std       223.853780\n",
              "min        49.681866\n",
              "25%       226.407440\n",
              "50%       293.029114\n",
              "75%       536.690002\n",
              "max       989.679993\n",
              "Name: Adj Close, dtype: float64"
            ]
          },
          "metadata": {},
          "execution_count": 13
        }
      ],
      "source": [
        "# We get descriptive statistics on a single column of our DataFrame\n",
        "Google_stock['Adj Close'].describe()"
      ]
    },
    {
      "cell_type": "markdown",
      "id": "66939a93",
      "metadata": {
        "id": "66939a93"
      },
      "source": [
        "Similarly, you can also look at one statistic by using one of the many statistical functions Pandas provides. Let's look at some examples:"
      ]
    },
    {
      "cell_type": "code",
      "execution_count": null,
      "id": "a4ab36a4",
      "metadata": {
        "id": "a4ab36a4",
        "outputId": "084fadb5-9f6d-46c4-ca1b-5b9d32fcd40a"
      },
      "outputs": [
        {
          "name": "stdout",
          "output_type": "stream",
          "text": [
            "\n",
            "Maximum values of each column:\n",
            " Date         31-12-2015\n",
            "Open              992.0\n",
            "High         997.210022\n",
            "Low               989.0\n",
            "Close        989.679993\n",
            "Adj Close    989.679993\n",
            "Volume         82768100\n",
            "dtype: object\n",
            "\n",
            "Minimum Close value: 49.681866\n",
            "\n",
            "Average value of each column:\n",
            " Open         3.801861e+02\n",
            "High         3.834937e+02\n",
            "Low          3.765193e+02\n",
            "Close        3.800725e+02\n",
            "Adj Close    3.800725e+02\n",
            "Volume       8.038476e+06\n",
            "dtype: float64\n"
          ]
        }
      ],
      "source": [
        "# We print information about our DataFrame  \n",
        "print()\n",
        "print('Maximum values of each column:\\n', Google_stock.max())\n",
        "print()\n",
        "print('Minimum Close value:', Google_stock['Close'].min())\n",
        "print()\n",
        "print('Average value of each column:\\n', Google_stock.mean())"
      ]
    },
    {
      "cell_type": "markdown",
      "id": "a0e26bf2",
      "metadata": {
        "id": "a0e26bf2"
      },
      "source": [
        "Another important statistical measure is data correlation. Data correlation can tell us, for example, if the data in different columns are correlated. We can use the .corr() method to get the correlation between different columns, as shown below:"
      ]
    },
    {
      "cell_type": "code",
      "execution_count": null,
      "id": "ae629848",
      "metadata": {
        "id": "ae629848",
        "outputId": "c4603663-288c-464b-9c75-ba3eb1ebcaa0"
      },
      "outputs": [
        {
          "data": {
            "text/html": [
              "<div>\n",
              "<style scoped>\n",
              "    .dataframe tbody tr th:only-of-type {\n",
              "        vertical-align: middle;\n",
              "    }\n",
              "\n",
              "    .dataframe tbody tr th {\n",
              "        vertical-align: top;\n",
              "    }\n",
              "\n",
              "    .dataframe thead th {\n",
              "        text-align: right;\n",
              "    }\n",
              "</style>\n",
              "<table border=\"1\" class=\"dataframe\">\n",
              "  <thead>\n",
              "    <tr style=\"text-align: right;\">\n",
              "      <th></th>\n",
              "      <th>Open</th>\n",
              "      <th>High</th>\n",
              "      <th>Low</th>\n",
              "      <th>Close</th>\n",
              "      <th>Adj Close</th>\n",
              "      <th>Volume</th>\n",
              "    </tr>\n",
              "  </thead>\n",
              "  <tbody>\n",
              "    <tr>\n",
              "      <th>Open</th>\n",
              "      <td>1.000000</td>\n",
              "      <td>0.999904</td>\n",
              "      <td>0.999845</td>\n",
              "      <td>0.999745</td>\n",
              "      <td>0.999745</td>\n",
              "      <td>-0.564258</td>\n",
              "    </tr>\n",
              "    <tr>\n",
              "      <th>High</th>\n",
              "      <td>0.999904</td>\n",
              "      <td>1.000000</td>\n",
              "      <td>0.999834</td>\n",
              "      <td>0.999868</td>\n",
              "      <td>0.999868</td>\n",
              "      <td>-0.562749</td>\n",
              "    </tr>\n",
              "    <tr>\n",
              "      <th>Low</th>\n",
              "      <td>0.999845</td>\n",
              "      <td>0.999834</td>\n",
              "      <td>1.000000</td>\n",
              "      <td>0.999899</td>\n",
              "      <td>0.999899</td>\n",
              "      <td>-0.567007</td>\n",
              "    </tr>\n",
              "    <tr>\n",
              "      <th>Close</th>\n",
              "      <td>0.999745</td>\n",
              "      <td>0.999868</td>\n",
              "      <td>0.999899</td>\n",
              "      <td>1.000000</td>\n",
              "      <td>1.000000</td>\n",
              "      <td>-0.564967</td>\n",
              "    </tr>\n",
              "    <tr>\n",
              "      <th>Adj Close</th>\n",
              "      <td>0.999745</td>\n",
              "      <td>0.999868</td>\n",
              "      <td>0.999899</td>\n",
              "      <td>1.000000</td>\n",
              "      <td>1.000000</td>\n",
              "      <td>-0.564967</td>\n",
              "    </tr>\n",
              "    <tr>\n",
              "      <th>Volume</th>\n",
              "      <td>-0.564258</td>\n",
              "      <td>-0.562749</td>\n",
              "      <td>-0.567007</td>\n",
              "      <td>-0.564967</td>\n",
              "      <td>-0.564967</td>\n",
              "      <td>1.000000</td>\n",
              "    </tr>\n",
              "  </tbody>\n",
              "</table>\n",
              "</div>"
            ],
            "text/plain": [
              "               Open      High       Low     Close  Adj Close    Volume\n",
              "Open       1.000000  0.999904  0.999845  0.999745   0.999745 -0.564258\n",
              "High       0.999904  1.000000  0.999834  0.999868   0.999868 -0.562749\n",
              "Low        0.999845  0.999834  1.000000  0.999899   0.999899 -0.567007\n",
              "Close      0.999745  0.999868  0.999899  1.000000   1.000000 -0.564967\n",
              "Adj Close  0.999745  0.999868  0.999899  1.000000   1.000000 -0.564967\n",
              "Volume    -0.564258 -0.562749 -0.567007 -0.564967  -0.564967  1.000000"
            ]
          },
          "execution_count": 79,
          "metadata": {},
          "output_type": "execute_result"
        }
      ],
      "source": [
        "# We display the correlation between columns\n",
        "Google_stock.corr()"
      ]
    },
    {
      "cell_type": "markdown",
      "id": "b59c656f",
      "metadata": {
        "id": "b59c656f"
      },
      "source": [
        "A correlation value of 1 tells us there is a high correlation and a correlation of 0 tells us that the data is not correlated at all.\n",
        "\n"
      ]
    },
    {
      "cell_type": "markdown",
      "id": "406ec608",
      "metadata": {
        "id": "406ec608"
      },
      "source": [
        "# **Example:2**"
      ]
    },
    {
      "cell_type": "code",
      "execution_count": null,
      "id": "7e8b7d47",
      "metadata": {
        "id": "7e8b7d47"
      },
      "outputs": [],
      "source": [
        "import pandas as pd\n",
        "df = pd.read_excel(\"excel-comp-data.xlsx\")"
      ]
    },
    {
      "cell_type": "code",
      "execution_count": null,
      "id": "de60457b",
      "metadata": {
        "id": "de60457b",
        "outputId": "3e2a5848-5366-4285-b887-fa0ffc7258b6",
        "colab": {
          "base_uri": "https://localhost:8080/",
          "height": 461
        }
      },
      "outputs": [
        {
          "output_type": "execute_result",
          "data": {
            "text/plain": [
              "   account                         name                                street  \\\n",
              "0   211829   Kerluke, Koepp and Hilpert                    34456 Sean Highway   \n",
              "1   320563               Walter-Trantow                     1311 Alvis Tunnel   \n",
              "2   648336   Bashirian, Kunde and Price  62184 Schamberger Underpass Apt. 231   \n",
              "3   109996  D'Amore, Gleichner and Bode           155 Fadel Crescent Apt. 144   \n",
              "4   121213                Bauch-Goldner                   7274 Marissa Common   \n",
              "\n",
              "              city          state  postal-code     Jan     Feb    Mar category  \n",
              "0       New Jaycob          Texas        28752   10000   62000  35000        A  \n",
              "1    Port Khadijah  NorthCarolina        38365   95000   45000  35000        B  \n",
              "2   New Lilianland           Iowa        76517   91000  120000  35000        C  \n",
              "3       Hyattburgh          Maine        46021   45000  120000  10000        A  \n",
              "4  Shanahanchester     California        49681  162000  120000  35000        A  "
            ],
            "text/html": [
              "\n",
              "  <div id=\"df-6ef19819-6945-49df-8425-beddcad48197\">\n",
              "    <div class=\"colab-df-container\">\n",
              "      <div>\n",
              "<style scoped>\n",
              "    .dataframe tbody tr th:only-of-type {\n",
              "        vertical-align: middle;\n",
              "    }\n",
              "\n",
              "    .dataframe tbody tr th {\n",
              "        vertical-align: top;\n",
              "    }\n",
              "\n",
              "    .dataframe thead th {\n",
              "        text-align: right;\n",
              "    }\n",
              "</style>\n",
              "<table border=\"1\" class=\"dataframe\">\n",
              "  <thead>\n",
              "    <tr style=\"text-align: right;\">\n",
              "      <th></th>\n",
              "      <th>account</th>\n",
              "      <th>name</th>\n",
              "      <th>street</th>\n",
              "      <th>city</th>\n",
              "      <th>state</th>\n",
              "      <th>postal-code</th>\n",
              "      <th>Jan</th>\n",
              "      <th>Feb</th>\n",
              "      <th>Mar</th>\n",
              "      <th>category</th>\n",
              "    </tr>\n",
              "  </thead>\n",
              "  <tbody>\n",
              "    <tr>\n",
              "      <th>0</th>\n",
              "      <td>211829</td>\n",
              "      <td>Kerluke, Koepp and Hilpert</td>\n",
              "      <td>34456 Sean Highway</td>\n",
              "      <td>New Jaycob</td>\n",
              "      <td>Texas</td>\n",
              "      <td>28752</td>\n",
              "      <td>10000</td>\n",
              "      <td>62000</td>\n",
              "      <td>35000</td>\n",
              "      <td>A</td>\n",
              "    </tr>\n",
              "    <tr>\n",
              "      <th>1</th>\n",
              "      <td>320563</td>\n",
              "      <td>Walter-Trantow</td>\n",
              "      <td>1311 Alvis Tunnel</td>\n",
              "      <td>Port Khadijah</td>\n",
              "      <td>NorthCarolina</td>\n",
              "      <td>38365</td>\n",
              "      <td>95000</td>\n",
              "      <td>45000</td>\n",
              "      <td>35000</td>\n",
              "      <td>B</td>\n",
              "    </tr>\n",
              "    <tr>\n",
              "      <th>2</th>\n",
              "      <td>648336</td>\n",
              "      <td>Bashirian, Kunde and Price</td>\n",
              "      <td>62184 Schamberger Underpass Apt. 231</td>\n",
              "      <td>New Lilianland</td>\n",
              "      <td>Iowa</td>\n",
              "      <td>76517</td>\n",
              "      <td>91000</td>\n",
              "      <td>120000</td>\n",
              "      <td>35000</td>\n",
              "      <td>C</td>\n",
              "    </tr>\n",
              "    <tr>\n",
              "      <th>3</th>\n",
              "      <td>109996</td>\n",
              "      <td>D'Amore, Gleichner and Bode</td>\n",
              "      <td>155 Fadel Crescent Apt. 144</td>\n",
              "      <td>Hyattburgh</td>\n",
              "      <td>Maine</td>\n",
              "      <td>46021</td>\n",
              "      <td>45000</td>\n",
              "      <td>120000</td>\n",
              "      <td>10000</td>\n",
              "      <td>A</td>\n",
              "    </tr>\n",
              "    <tr>\n",
              "      <th>4</th>\n",
              "      <td>121213</td>\n",
              "      <td>Bauch-Goldner</td>\n",
              "      <td>7274 Marissa Common</td>\n",
              "      <td>Shanahanchester</td>\n",
              "      <td>California</td>\n",
              "      <td>49681</td>\n",
              "      <td>162000</td>\n",
              "      <td>120000</td>\n",
              "      <td>35000</td>\n",
              "      <td>A</td>\n",
              "    </tr>\n",
              "  </tbody>\n",
              "</table>\n",
              "</div>\n",
              "      <button class=\"colab-df-convert\" onclick=\"convertToInteractive('df-6ef19819-6945-49df-8425-beddcad48197')\"\n",
              "              title=\"Convert this dataframe to an interactive table.\"\n",
              "              style=\"display:none;\">\n",
              "        \n",
              "  <svg xmlns=\"http://www.w3.org/2000/svg\" height=\"24px\"viewBox=\"0 0 24 24\"\n",
              "       width=\"24px\">\n",
              "    <path d=\"M0 0h24v24H0V0z\" fill=\"none\"/>\n",
              "    <path d=\"M18.56 5.44l.94 2.06.94-2.06 2.06-.94-2.06-.94-.94-2.06-.94 2.06-2.06.94zm-11 1L8.5 8.5l.94-2.06 2.06-.94-2.06-.94L8.5 2.5l-.94 2.06-2.06.94zm10 10l.94 2.06.94-2.06 2.06-.94-2.06-.94-.94-2.06-.94 2.06-2.06.94z\"/><path d=\"M17.41 7.96l-1.37-1.37c-.4-.4-.92-.59-1.43-.59-.52 0-1.04.2-1.43.59L10.3 9.45l-7.72 7.72c-.78.78-.78 2.05 0 2.83L4 21.41c.39.39.9.59 1.41.59.51 0 1.02-.2 1.41-.59l7.78-7.78 2.81-2.81c.8-.78.8-2.07 0-2.86zM5.41 20L4 18.59l7.72-7.72 1.47 1.35L5.41 20z\"/>\n",
              "  </svg>\n",
              "      </button>\n",
              "      \n",
              "  <style>\n",
              "    .colab-df-container {\n",
              "      display:flex;\n",
              "      flex-wrap:wrap;\n",
              "      gap: 12px;\n",
              "    }\n",
              "\n",
              "    .colab-df-convert {\n",
              "      background-color: #E8F0FE;\n",
              "      border: none;\n",
              "      border-radius: 50%;\n",
              "      cursor: pointer;\n",
              "      display: none;\n",
              "      fill: #1967D2;\n",
              "      height: 32px;\n",
              "      padding: 0 0 0 0;\n",
              "      width: 32px;\n",
              "    }\n",
              "\n",
              "    .colab-df-convert:hover {\n",
              "      background-color: #E2EBFA;\n",
              "      box-shadow: 0px 1px 2px rgba(60, 64, 67, 0.3), 0px 1px 3px 1px rgba(60, 64, 67, 0.15);\n",
              "      fill: #174EA6;\n",
              "    }\n",
              "\n",
              "    [theme=dark] .colab-df-convert {\n",
              "      background-color: #3B4455;\n",
              "      fill: #D2E3FC;\n",
              "    }\n",
              "\n",
              "    [theme=dark] .colab-df-convert:hover {\n",
              "      background-color: #434B5C;\n",
              "      box-shadow: 0px 1px 3px 1px rgba(0, 0, 0, 0.15);\n",
              "      filter: drop-shadow(0px 1px 2px rgba(0, 0, 0, 0.3));\n",
              "      fill: #FFFFFF;\n",
              "    }\n",
              "  </style>\n",
              "\n",
              "      <script>\n",
              "        const buttonEl =\n",
              "          document.querySelector('#df-6ef19819-6945-49df-8425-beddcad48197 button.colab-df-convert');\n",
              "        buttonEl.style.display =\n",
              "          google.colab.kernel.accessAllowed ? 'block' : 'none';\n",
              "\n",
              "        async function convertToInteractive(key) {\n",
              "          const element = document.querySelector('#df-6ef19819-6945-49df-8425-beddcad48197');\n",
              "          const dataTable =\n",
              "            await google.colab.kernel.invokeFunction('convertToInteractive',\n",
              "                                                     [key], {});\n",
              "          if (!dataTable) return;\n",
              "\n",
              "          const docLinkHtml = 'Like what you see? Visit the ' +\n",
              "            '<a target=\"_blank\" href=https://colab.research.google.com/notebooks/data_table.ipynb>data table notebook</a>'\n",
              "            + ' to learn more about interactive tables.';\n",
              "          element.innerHTML = '';\n",
              "          dataTable['output_type'] = 'display_data';\n",
              "          await google.colab.output.renderOutput(dataTable, element);\n",
              "          const docLink = document.createElement('div');\n",
              "          docLink.innerHTML = docLinkHtml;\n",
              "          element.appendChild(docLink);\n",
              "        }\n",
              "      </script>\n",
              "    </div>\n",
              "  </div>\n",
              "  "
            ]
          },
          "metadata": {},
          "execution_count": 4
        }
      ],
      "source": [
        "df.head()   #display first 5 rows of your data"
      ]
    },
    {
      "cell_type": "code",
      "execution_count": null,
      "id": "b9885399",
      "metadata": {
        "id": "b9885399",
        "outputId": "1aeafce9-0a5c-4c21-98e9-32ed2fad54f9"
      },
      "outputs": [
        {
          "data": {
            "text/html": [
              "<div>\n",
              "<style scoped>\n",
              "    .dataframe tbody tr th:only-of-type {\n",
              "        vertical-align: middle;\n",
              "    }\n",
              "\n",
              "    .dataframe tbody tr th {\n",
              "        vertical-align: top;\n",
              "    }\n",
              "\n",
              "    .dataframe thead th {\n",
              "        text-align: right;\n",
              "    }\n",
              "</style>\n",
              "<table border=\"1\" class=\"dataframe\">\n",
              "  <thead>\n",
              "    <tr style=\"text-align: right;\">\n",
              "      <th></th>\n",
              "      <th>account</th>\n",
              "      <th>name</th>\n",
              "      <th>street</th>\n",
              "      <th>city</th>\n",
              "      <th>state</th>\n",
              "      <th>postal-code</th>\n",
              "      <th>Jan</th>\n",
              "      <th>Feb</th>\n",
              "      <th>Mar</th>\n",
              "      <th>category</th>\n",
              "      <th>total_sales</th>\n",
              "    </tr>\n",
              "  </thead>\n",
              "  <tbody>\n",
              "    <tr>\n",
              "      <th>0</th>\n",
              "      <td>211829</td>\n",
              "      <td>Kerluke, Koepp and Hilpert</td>\n",
              "      <td>34456 Sean Highway</td>\n",
              "      <td>New Jaycob</td>\n",
              "      <td>Texas</td>\n",
              "      <td>28752</td>\n",
              "      <td>10000</td>\n",
              "      <td>62000</td>\n",
              "      <td>35000</td>\n",
              "      <td>A</td>\n",
              "      <td>107000</td>\n",
              "    </tr>\n",
              "    <tr>\n",
              "      <th>1</th>\n",
              "      <td>320563</td>\n",
              "      <td>Walter-Trantow</td>\n",
              "      <td>1311 Alvis Tunnel</td>\n",
              "      <td>Port Khadijah</td>\n",
              "      <td>NorthCarolina</td>\n",
              "      <td>38365</td>\n",
              "      <td>95000</td>\n",
              "      <td>45000</td>\n",
              "      <td>35000</td>\n",
              "      <td>B</td>\n",
              "      <td>175000</td>\n",
              "    </tr>\n",
              "    <tr>\n",
              "      <th>2</th>\n",
              "      <td>648336</td>\n",
              "      <td>Bashirian, Kunde and Price</td>\n",
              "      <td>62184 Schamberger Underpass Apt. 231</td>\n",
              "      <td>New Lilianland</td>\n",
              "      <td>Iowa</td>\n",
              "      <td>76517</td>\n",
              "      <td>91000</td>\n",
              "      <td>120000</td>\n",
              "      <td>35000</td>\n",
              "      <td>C</td>\n",
              "      <td>246000</td>\n",
              "    </tr>\n",
              "    <tr>\n",
              "      <th>3</th>\n",
              "      <td>109996</td>\n",
              "      <td>D'Amore, Gleichner and Bode</td>\n",
              "      <td>155 Fadel Crescent Apt. 144</td>\n",
              "      <td>Hyattburgh</td>\n",
              "      <td>Maine</td>\n",
              "      <td>46021</td>\n",
              "      <td>45000</td>\n",
              "      <td>120000</td>\n",
              "      <td>10000</td>\n",
              "      <td>A</td>\n",
              "      <td>175000</td>\n",
              "    </tr>\n",
              "    <tr>\n",
              "      <th>4</th>\n",
              "      <td>121213</td>\n",
              "      <td>Bauch-Goldner</td>\n",
              "      <td>7274 Marissa Common</td>\n",
              "      <td>Shanahanchester</td>\n",
              "      <td>California</td>\n",
              "      <td>49681</td>\n",
              "      <td>162000</td>\n",
              "      <td>120000</td>\n",
              "      <td>35000</td>\n",
              "      <td>A</td>\n",
              "      <td>317000</td>\n",
              "    </tr>\n",
              "  </tbody>\n",
              "</table>\n",
              "</div>"
            ],
            "text/plain": [
              "   account                         name                                street  \\\n",
              "0   211829   Kerluke, Koepp and Hilpert                    34456 Sean Highway   \n",
              "1   320563               Walter-Trantow                     1311 Alvis Tunnel   \n",
              "2   648336   Bashirian, Kunde and Price  62184 Schamberger Underpass Apt. 231   \n",
              "3   109996  D'Amore, Gleichner and Bode           155 Fadel Crescent Apt. 144   \n",
              "4   121213                Bauch-Goldner                   7274 Marissa Common   \n",
              "\n",
              "              city          state  postal-code     Jan     Feb    Mar  \\\n",
              "0       New Jaycob          Texas        28752   10000   62000  35000   \n",
              "1    Port Khadijah  NorthCarolina        38365   95000   45000  35000   \n",
              "2   New Lilianland           Iowa        76517   91000  120000  35000   \n",
              "3       Hyattburgh          Maine        46021   45000  120000  10000   \n",
              "4  Shanahanchester     California        49681  162000  120000  35000   \n",
              "\n",
              "  category  total_sales  \n",
              "0        A       107000  \n",
              "1        B       175000  \n",
              "2        C       246000  \n",
              "3        A       175000  \n",
              "4        A       317000  "
            ]
          },
          "execution_count": 82,
          "metadata": {},
          "output_type": "execute_result"
        }
      ],
      "source": [
        "df[\"total_sales\"] = df[\"Jan\"] + df[\"Feb\"] + df[\"Mar\"]\n",
        "df.head()"
      ]
    },
    {
      "cell_type": "code",
      "execution_count": null,
      "id": "a840e2bb",
      "metadata": {
        "id": "a840e2bb",
        "outputId": "dd87f67a-cbbb-491f-fcae-d3c839b0ef03"
      },
      "outputs": [
        {
          "name": "stdout",
          "output_type": "stream",
          "text": [
            "Total Sales of Jan is: 1462000\n"
          ]
        }
      ],
      "source": [
        "Jan_sales = df[\"Jan\"].sum()\n",
        "print(\"Total Sales of Jan is:\",Jan_sales)"
      ]
    },
    {
      "cell_type": "code",
      "execution_count": null,
      "id": "b215bf0d",
      "metadata": {
        "id": "b215bf0d",
        "outputId": "9143ff9f-0692-4302-9e0e-2c0da3f547d1"
      },
      "outputs": [
        {
          "name": "stdout",
          "output_type": "stream",
          "text": [
            "Minimum Sales of Jan is: 10000\n"
          ]
        }
      ],
      "source": [
        "min = df[\"Jan\"].min()\n",
        "print(\"Minimum Sales of Jan is:\",min)"
      ]
    },
    {
      "cell_type": "code",
      "execution_count": null,
      "id": "4f191411",
      "metadata": {
        "id": "4f191411",
        "outputId": "f14d69c2-a7e8-4815-f6af-21f65bf91e03"
      },
      "outputs": [
        {
          "name": "stdout",
          "output_type": "stream",
          "text": [
            "Minimum Sales of Jan is: 162000\n"
          ]
        }
      ],
      "source": [
        "max = df[\"Jan\"].max()\n",
        "print(\"Minimum Sales of Jan is:\",max)"
      ]
    },
    {
      "cell_type": "code",
      "execution_count": null,
      "id": "05697aaf",
      "metadata": {
        "id": "05697aaf",
        "outputId": "441edba8-d093-49f8-8fa8-313276866c3a"
      },
      "outputs": [
        {
          "name": "stdout",
          "output_type": "stream",
          "text": [
            "Minimum Sales of Jan is: $ 97466.67\n"
          ]
        }
      ],
      "source": [
        "avg_Jan = df[\"Jan\"].mean()\n",
        "print(\"Minimum Sales of Jan is: $\",round(avg_Jan,2))"
      ]
    },
    {
      "cell_type": "code",
      "execution_count": null,
      "id": "86efde6b",
      "metadata": {
        "id": "86efde6b",
        "outputId": "0dc2931b-f290-48e0-aa3a-470b0fd14b08"
      },
      "outputs": [
        {
          "data": {
            "text/html": [
              "<div>\n",
              "<style scoped>\n",
              "    .dataframe tbody tr th:only-of-type {\n",
              "        vertical-align: middle;\n",
              "    }\n",
              "\n",
              "    .dataframe tbody tr th {\n",
              "        vertical-align: top;\n",
              "    }\n",
              "\n",
              "    .dataframe thead th {\n",
              "        text-align: right;\n",
              "    }\n",
              "</style>\n",
              "<table border=\"1\" class=\"dataframe\">\n",
              "  <thead>\n",
              "    <tr style=\"text-align: right;\">\n",
              "      <th></th>\n",
              "      <th>account</th>\n",
              "      <th>name</th>\n",
              "      <th>street</th>\n",
              "      <th>city</th>\n",
              "      <th>state</th>\n",
              "      <th>postal-code</th>\n",
              "      <th>Jan</th>\n",
              "      <th>Feb</th>\n",
              "      <th>Mar</th>\n",
              "      <th>category</th>\n",
              "      <th>total_sales</th>\n",
              "    </tr>\n",
              "  </thead>\n",
              "  <tbody>\n",
              "    <tr>\n",
              "      <th>0</th>\n",
              "      <td>211829</td>\n",
              "      <td>Kerluke, Koepp and Hilpert</td>\n",
              "      <td>34456 Sean Highway</td>\n",
              "      <td>New Jaycob</td>\n",
              "      <td>Texas</td>\n",
              "      <td>28752</td>\n",
              "      <td>10000</td>\n",
              "      <td>62000</td>\n",
              "      <td>35000</td>\n",
              "      <td>A</td>\n",
              "      <td>107000</td>\n",
              "    </tr>\n",
              "    <tr>\n",
              "      <th>1</th>\n",
              "      <td>320563</td>\n",
              "      <td>Walter-Trantow</td>\n",
              "      <td>1311 Alvis Tunnel</td>\n",
              "      <td>Port Khadijah</td>\n",
              "      <td>NorthCarolina</td>\n",
              "      <td>38365</td>\n",
              "      <td>95000</td>\n",
              "      <td>45000</td>\n",
              "      <td>35000</td>\n",
              "      <td>B</td>\n",
              "      <td>175000</td>\n",
              "    </tr>\n",
              "    <tr>\n",
              "      <th>3</th>\n",
              "      <td>109996</td>\n",
              "      <td>D'Amore, Gleichner and Bode</td>\n",
              "      <td>155 Fadel Crescent Apt. 144</td>\n",
              "      <td>Hyattburgh</td>\n",
              "      <td>Maine</td>\n",
              "      <td>46021</td>\n",
              "      <td>45000</td>\n",
              "      <td>120000</td>\n",
              "      <td>10000</td>\n",
              "      <td>A</td>\n",
              "      <td>175000</td>\n",
              "    </tr>\n",
              "    <tr>\n",
              "      <th>8</th>\n",
              "      <td>209744</td>\n",
              "      <td>Champlin-Morar</td>\n",
              "      <td>26739 Grant Lock</td>\n",
              "      <td>Lake Juliannton</td>\n",
              "      <td>Pennsylvania</td>\n",
              "      <td>64415</td>\n",
              "      <td>70000</td>\n",
              "      <td>95000</td>\n",
              "      <td>35000</td>\n",
              "      <td>C</td>\n",
              "      <td>200000</td>\n",
              "    </tr>\n",
              "    <tr>\n",
              "      <th>13</th>\n",
              "      <td>268755</td>\n",
              "      <td>Walsh-Haley</td>\n",
              "      <td>2624 Beatty Parkways</td>\n",
              "      <td>Goodwinmouth</td>\n",
              "      <td>RhodeIsland</td>\n",
              "      <td>31919</td>\n",
              "      <td>55000</td>\n",
              "      <td>120000</td>\n",
              "      <td>35000</td>\n",
              "      <td>C</td>\n",
              "      <td>210000</td>\n",
              "    </tr>\n",
              "    <tr>\n",
              "      <th>10</th>\n",
              "      <td>214098</td>\n",
              "      <td>Goodwin, Homenick and Jerde</td>\n",
              "      <td>649 Cierra Forks Apt. 078</td>\n",
              "      <td>Rosaberg</td>\n",
              "      <td>Tenessee</td>\n",
              "      <td>47743</td>\n",
              "      <td>45000</td>\n",
              "      <td>120000</td>\n",
              "      <td>55000</td>\n",
              "      <td>A</td>\n",
              "      <td>220000</td>\n",
              "    </tr>\n",
              "    <tr>\n",
              "      <th>9</th>\n",
              "      <td>212303</td>\n",
              "      <td>Gerhold-Maggio</td>\n",
              "      <td>366 Maggio Grove Apt. 998</td>\n",
              "      <td>North Ras</td>\n",
              "      <td>Idaho</td>\n",
              "      <td>46308</td>\n",
              "      <td>70000</td>\n",
              "      <td>120000</td>\n",
              "      <td>35000</td>\n",
              "      <td>C</td>\n",
              "      <td>225000</td>\n",
              "    </tr>\n",
              "    <tr>\n",
              "      <th>2</th>\n",
              "      <td>648336</td>\n",
              "      <td>Bashirian, Kunde and Price</td>\n",
              "      <td>62184 Schamberger Underpass Apt. 231</td>\n",
              "      <td>New Lilianland</td>\n",
              "      <td>Iowa</td>\n",
              "      <td>76517</td>\n",
              "      <td>91000</td>\n",
              "      <td>120000</td>\n",
              "      <td>35000</td>\n",
              "      <td>C</td>\n",
              "      <td>246000</td>\n",
              "    </tr>\n",
              "    <tr>\n",
              "      <th>6</th>\n",
              "      <td>145068</td>\n",
              "      <td>Casper LLC</td>\n",
              "      <td>340 Consuela Bridge Apt. 400</td>\n",
              "      <td>Lake Gabriellaton</td>\n",
              "      <td>Mississipi</td>\n",
              "      <td>18008</td>\n",
              "      <td>62000</td>\n",
              "      <td>120000</td>\n",
              "      <td>70000</td>\n",
              "      <td>B</td>\n",
              "      <td>252000</td>\n",
              "    </tr>\n",
              "    <tr>\n",
              "      <th>7</th>\n",
              "      <td>205217</td>\n",
              "      <td>Kovacek-Johnston</td>\n",
              "      <td>91971 Cronin Vista Suite 601</td>\n",
              "      <td>Deronville</td>\n",
              "      <td>RhodeIsland</td>\n",
              "      <td>53461</td>\n",
              "      <td>145000</td>\n",
              "      <td>95000</td>\n",
              "      <td>35000</td>\n",
              "      <td>A</td>\n",
              "      <td>275000</td>\n",
              "    </tr>\n",
              "    <tr>\n",
              "      <th>5</th>\n",
              "      <td>132971</td>\n",
              "      <td>Williamson, Schumm and Hettinger</td>\n",
              "      <td>89403 Casimer Spring</td>\n",
              "      <td>Jeremieburgh</td>\n",
              "      <td>Arkansas</td>\n",
              "      <td>62785</td>\n",
              "      <td>150000</td>\n",
              "      <td>120000</td>\n",
              "      <td>35000</td>\n",
              "      <td>A</td>\n",
              "      <td>305000</td>\n",
              "    </tr>\n",
              "    <tr>\n",
              "      <th>4</th>\n",
              "      <td>121213</td>\n",
              "      <td>Bauch-Goldner</td>\n",
              "      <td>7274 Marissa Common</td>\n",
              "      <td>Shanahanchester</td>\n",
              "      <td>California</td>\n",
              "      <td>49681</td>\n",
              "      <td>162000</td>\n",
              "      <td>120000</td>\n",
              "      <td>35000</td>\n",
              "      <td>A</td>\n",
              "      <td>317000</td>\n",
              "    </tr>\n",
              "    <tr>\n",
              "      <th>12</th>\n",
              "      <td>242368</td>\n",
              "      <td>Frami, Anderson and Donnelly</td>\n",
              "      <td>182 Bertie Road</td>\n",
              "      <td>East Davian</td>\n",
              "      <td>Iowa</td>\n",
              "      <td>72686</td>\n",
              "      <td>162000</td>\n",
              "      <td>120000</td>\n",
              "      <td>35000</td>\n",
              "      <td>B</td>\n",
              "      <td>317000</td>\n",
              "    </tr>\n",
              "    <tr>\n",
              "      <th>11</th>\n",
              "      <td>231907</td>\n",
              "      <td>Hahn-Moore</td>\n",
              "      <td>18115 Olivine Throughway</td>\n",
              "      <td>Norbertomouth</td>\n",
              "      <td>NorthDakota</td>\n",
              "      <td>31415</td>\n",
              "      <td>150000</td>\n",
              "      <td>10000</td>\n",
              "      <td>162000</td>\n",
              "      <td>B</td>\n",
              "      <td>322000</td>\n",
              "    </tr>\n",
              "    <tr>\n",
              "      <th>14</th>\n",
              "      <td>273274</td>\n",
              "      <td>McDermott PLC</td>\n",
              "      <td>8917 Bergstrom Meadow</td>\n",
              "      <td>Kathryneborough</td>\n",
              "      <td>Delaware</td>\n",
              "      <td>27933</td>\n",
              "      <td>150000</td>\n",
              "      <td>120000</td>\n",
              "      <td>70000</td>\n",
              "      <td>A</td>\n",
              "      <td>340000</td>\n",
              "    </tr>\n",
              "  </tbody>\n",
              "</table>\n",
              "</div>"
            ],
            "text/plain": [
              "    account                              name  \\\n",
              "0    211829        Kerluke, Koepp and Hilpert   \n",
              "1    320563                    Walter-Trantow   \n",
              "3    109996       D'Amore, Gleichner and Bode   \n",
              "8    209744                    Champlin-Morar   \n",
              "13   268755                       Walsh-Haley   \n",
              "10   214098       Goodwin, Homenick and Jerde   \n",
              "9    212303                    Gerhold-Maggio   \n",
              "2    648336        Bashirian, Kunde and Price   \n",
              "6    145068                        Casper LLC   \n",
              "7    205217                  Kovacek-Johnston   \n",
              "5    132971  Williamson, Schumm and Hettinger   \n",
              "4    121213                     Bauch-Goldner   \n",
              "12   242368      Frami, Anderson and Donnelly   \n",
              "11   231907                        Hahn-Moore   \n",
              "14   273274                     McDermott PLC   \n",
              "\n",
              "                                  street               city          state  \\\n",
              "0                     34456 Sean Highway         New Jaycob          Texas   \n",
              "1                      1311 Alvis Tunnel      Port Khadijah  NorthCarolina   \n",
              "3            155 Fadel Crescent Apt. 144         Hyattburgh          Maine   \n",
              "8                       26739 Grant Lock    Lake Juliannton   Pennsylvania   \n",
              "13                  2624 Beatty Parkways       Goodwinmouth    RhodeIsland   \n",
              "10             649 Cierra Forks Apt. 078           Rosaberg       Tenessee   \n",
              "9              366 Maggio Grove Apt. 998          North Ras          Idaho   \n",
              "2   62184 Schamberger Underpass Apt. 231     New Lilianland           Iowa   \n",
              "6           340 Consuela Bridge Apt. 400  Lake Gabriellaton     Mississipi   \n",
              "7           91971 Cronin Vista Suite 601         Deronville    RhodeIsland   \n",
              "5                   89403 Casimer Spring       Jeremieburgh       Arkansas   \n",
              "4                    7274 Marissa Common    Shanahanchester     California   \n",
              "12                       182 Bertie Road        East Davian           Iowa   \n",
              "11              18115 Olivine Throughway      Norbertomouth    NorthDakota   \n",
              "14                 8917 Bergstrom Meadow    Kathryneborough       Delaware   \n",
              "\n",
              "    postal-code     Jan     Feb     Mar category  total_sales  \n",
              "0         28752   10000   62000   35000        A       107000  \n",
              "1         38365   95000   45000   35000        B       175000  \n",
              "3         46021   45000  120000   10000        A       175000  \n",
              "8         64415   70000   95000   35000        C       200000  \n",
              "13        31919   55000  120000   35000        C       210000  \n",
              "10        47743   45000  120000   55000        A       220000  \n",
              "9         46308   70000  120000   35000        C       225000  \n",
              "2         76517   91000  120000   35000        C       246000  \n",
              "6         18008   62000  120000   70000        B       252000  \n",
              "7         53461  145000   95000   35000        A       275000  \n",
              "5         62785  150000  120000   35000        A       305000  \n",
              "4         49681  162000  120000   35000        A       317000  \n",
              "12        72686  162000  120000   35000        B       317000  \n",
              "11        31415  150000   10000  162000        B       322000  \n",
              "14        27933  150000  120000   70000        A       340000  "
            ]
          },
          "execution_count": 87,
          "metadata": {},
          "output_type": "execute_result"
        }
      ],
      "source": [
        "sorted_ascending = df.sort_values(\"total_sales\")\n",
        "sorted_ascending"
      ]
    },
    {
      "cell_type": "code",
      "execution_count": null,
      "id": "d9087ce5",
      "metadata": {
        "id": "d9087ce5",
        "outputId": "08b02285-6597-4d6d-8ada-f125ce4be9e7"
      },
      "outputs": [
        {
          "data": {
            "text/html": [
              "<div>\n",
              "<style scoped>\n",
              "    .dataframe tbody tr th:only-of-type {\n",
              "        vertical-align: middle;\n",
              "    }\n",
              "\n",
              "    .dataframe tbody tr th {\n",
              "        vertical-align: top;\n",
              "    }\n",
              "\n",
              "    .dataframe thead th {\n",
              "        text-align: right;\n",
              "    }\n",
              "</style>\n",
              "<table border=\"1\" class=\"dataframe\">\n",
              "  <thead>\n",
              "    <tr style=\"text-align: right;\">\n",
              "      <th></th>\n",
              "      <th>account</th>\n",
              "      <th>name</th>\n",
              "      <th>street</th>\n",
              "      <th>city</th>\n",
              "      <th>state</th>\n",
              "      <th>postal-code</th>\n",
              "      <th>Jan</th>\n",
              "      <th>Feb</th>\n",
              "      <th>Mar</th>\n",
              "      <th>category</th>\n",
              "      <th>total_sales</th>\n",
              "    </tr>\n",
              "  </thead>\n",
              "  <tbody>\n",
              "    <tr>\n",
              "      <th>14</th>\n",
              "      <td>273274</td>\n",
              "      <td>McDermott PLC</td>\n",
              "      <td>8917 Bergstrom Meadow</td>\n",
              "      <td>Kathryneborough</td>\n",
              "      <td>Delaware</td>\n",
              "      <td>27933</td>\n",
              "      <td>150000</td>\n",
              "      <td>120000</td>\n",
              "      <td>70000</td>\n",
              "      <td>A</td>\n",
              "      <td>340000</td>\n",
              "    </tr>\n",
              "    <tr>\n",
              "      <th>11</th>\n",
              "      <td>231907</td>\n",
              "      <td>Hahn-Moore</td>\n",
              "      <td>18115 Olivine Throughway</td>\n",
              "      <td>Norbertomouth</td>\n",
              "      <td>NorthDakota</td>\n",
              "      <td>31415</td>\n",
              "      <td>150000</td>\n",
              "      <td>10000</td>\n",
              "      <td>162000</td>\n",
              "      <td>B</td>\n",
              "      <td>322000</td>\n",
              "    </tr>\n",
              "    <tr>\n",
              "      <th>4</th>\n",
              "      <td>121213</td>\n",
              "      <td>Bauch-Goldner</td>\n",
              "      <td>7274 Marissa Common</td>\n",
              "      <td>Shanahanchester</td>\n",
              "      <td>California</td>\n",
              "      <td>49681</td>\n",
              "      <td>162000</td>\n",
              "      <td>120000</td>\n",
              "      <td>35000</td>\n",
              "      <td>A</td>\n",
              "      <td>317000</td>\n",
              "    </tr>\n",
              "    <tr>\n",
              "      <th>12</th>\n",
              "      <td>242368</td>\n",
              "      <td>Frami, Anderson and Donnelly</td>\n",
              "      <td>182 Bertie Road</td>\n",
              "      <td>East Davian</td>\n",
              "      <td>Iowa</td>\n",
              "      <td>72686</td>\n",
              "      <td>162000</td>\n",
              "      <td>120000</td>\n",
              "      <td>35000</td>\n",
              "      <td>B</td>\n",
              "      <td>317000</td>\n",
              "    </tr>\n",
              "    <tr>\n",
              "      <th>5</th>\n",
              "      <td>132971</td>\n",
              "      <td>Williamson, Schumm and Hettinger</td>\n",
              "      <td>89403 Casimer Spring</td>\n",
              "      <td>Jeremieburgh</td>\n",
              "      <td>Arkansas</td>\n",
              "      <td>62785</td>\n",
              "      <td>150000</td>\n",
              "      <td>120000</td>\n",
              "      <td>35000</td>\n",
              "      <td>A</td>\n",
              "      <td>305000</td>\n",
              "    </tr>\n",
              "  </tbody>\n",
              "</table>\n",
              "</div>"
            ],
            "text/plain": [
              "    account                              name                    street  \\\n",
              "14   273274                     McDermott PLC     8917 Bergstrom Meadow   \n",
              "11   231907                        Hahn-Moore  18115 Olivine Throughway   \n",
              "4    121213                     Bauch-Goldner       7274 Marissa Common   \n",
              "12   242368      Frami, Anderson and Donnelly           182 Bertie Road   \n",
              "5    132971  Williamson, Schumm and Hettinger      89403 Casimer Spring   \n",
              "\n",
              "               city        state  postal-code     Jan     Feb     Mar  \\\n",
              "14  Kathryneborough     Delaware        27933  150000  120000   70000   \n",
              "11    Norbertomouth  NorthDakota        31415  150000   10000  162000   \n",
              "4   Shanahanchester   California        49681  162000  120000   35000   \n",
              "12      East Davian         Iowa        72686  162000  120000   35000   \n",
              "5      Jeremieburgh     Arkansas        62785  150000  120000   35000   \n",
              "\n",
              "   category  total_sales  \n",
              "14        A       340000  \n",
              "11        B       322000  \n",
              "4         A       317000  \n",
              "12        B       317000  \n",
              "5         A       305000  "
            ]
          },
          "execution_count": 88,
          "metadata": {},
          "output_type": "execute_result"
        }
      ],
      "source": [
        "sorted_d = df.sort_values(\"total_sales\", ascending = False)\n",
        "sorted_d.head()"
      ]
    },
    {
      "cell_type": "code",
      "execution_count": null,
      "id": "c7f7f963",
      "metadata": {
        "id": "c7f7f963",
        "outputId": "9403424d-995a-4258-c44f-6eef4bb52785"
      },
      "outputs": [
        {
          "name": "stdout",
          "output_type": "stream",
          "text": [
            "<class 'pandas.core.frame.DataFrame'>\n",
            "RangeIndex: 15 entries, 0 to 14\n",
            "Data columns (total 11 columns):\n",
            " #   Column       Non-Null Count  Dtype \n",
            "---  ------       --------------  ----- \n",
            " 0   account      15 non-null     int64 \n",
            " 1   name         15 non-null     object\n",
            " 2   street       15 non-null     object\n",
            " 3   city         15 non-null     object\n",
            " 4   state        15 non-null     object\n",
            " 5   postal-code  15 non-null     int64 \n",
            " 6   Jan          15 non-null     int64 \n",
            " 7   Feb          15 non-null     int64 \n",
            " 8   Mar          15 non-null     int64 \n",
            " 9   category     15 non-null     object\n",
            " 10  total_sales  15 non-null     int64 \n",
            "dtypes: int64(6), object(5)\n",
            "memory usage: 1.4+ KB\n"
          ]
        }
      ],
      "source": [
        "df.info()"
      ]
    },
    {
      "cell_type": "markdown",
      "id": "4b024312",
      "metadata": {
        "id": "4b024312"
      },
      "source": [
        "Let's compare the sales for each month and find which month has highest sale"
      ]
    },
    {
      "cell_type": "code",
      "execution_count": null,
      "id": "7e8ee87e",
      "metadata": {
        "id": "7e8ee87e"
      },
      "outputs": [],
      "source": [
        "def max_sales(row):\n",
        "    if row['Jan']>row['Feb'] and  row['Jan']>row['Mar']:\n",
        "        return(\"Jan sale is high\")\n",
        "    elif row['Feb']>row['Jan'] and  row['Feb']>row['Mar']:\n",
        "        return(\"Feb sale is high\")\n",
        "    else:\n",
        "        return(\"Mar sale is high\")\n",
        "\n",
        "df['max'] = df.apply(max_sales, axis = 1) #axis = 1 means that the function is applies to each row"
      ]
    },
    {
      "cell_type": "code",
      "execution_count": null,
      "id": "8bd9b9d2",
      "metadata": {
        "id": "8bd9b9d2",
        "outputId": "d529996c-818c-4565-a044-30df9bc516ac"
      },
      "outputs": [
        {
          "data": {
            "text/html": [
              "<div>\n",
              "<style scoped>\n",
              "    .dataframe tbody tr th:only-of-type {\n",
              "        vertical-align: middle;\n",
              "    }\n",
              "\n",
              "    .dataframe tbody tr th {\n",
              "        vertical-align: top;\n",
              "    }\n",
              "\n",
              "    .dataframe thead th {\n",
              "        text-align: right;\n",
              "    }\n",
              "</style>\n",
              "<table border=\"1\" class=\"dataframe\">\n",
              "  <thead>\n",
              "    <tr style=\"text-align: right;\">\n",
              "      <th></th>\n",
              "      <th>account</th>\n",
              "      <th>name</th>\n",
              "      <th>street</th>\n",
              "      <th>city</th>\n",
              "      <th>state</th>\n",
              "      <th>postal-code</th>\n",
              "      <th>Jan</th>\n",
              "      <th>Feb</th>\n",
              "      <th>Mar</th>\n",
              "      <th>category</th>\n",
              "      <th>total_sales</th>\n",
              "      <th>max</th>\n",
              "    </tr>\n",
              "  </thead>\n",
              "  <tbody>\n",
              "    <tr>\n",
              "      <th>0</th>\n",
              "      <td>211829</td>\n",
              "      <td>Kerluke, Koepp and Hilpert</td>\n",
              "      <td>34456 Sean Highway</td>\n",
              "      <td>New Jaycob</td>\n",
              "      <td>Texas</td>\n",
              "      <td>28752</td>\n",
              "      <td>10000</td>\n",
              "      <td>62000</td>\n",
              "      <td>35000</td>\n",
              "      <td>A</td>\n",
              "      <td>107000</td>\n",
              "      <td>Feb sale is high</td>\n",
              "    </tr>\n",
              "    <tr>\n",
              "      <th>1</th>\n",
              "      <td>320563</td>\n",
              "      <td>Walter-Trantow</td>\n",
              "      <td>1311 Alvis Tunnel</td>\n",
              "      <td>Port Khadijah</td>\n",
              "      <td>NorthCarolina</td>\n",
              "      <td>38365</td>\n",
              "      <td>95000</td>\n",
              "      <td>45000</td>\n",
              "      <td>35000</td>\n",
              "      <td>B</td>\n",
              "      <td>175000</td>\n",
              "      <td>Jan sale is high</td>\n",
              "    </tr>\n",
              "    <tr>\n",
              "      <th>2</th>\n",
              "      <td>648336</td>\n",
              "      <td>Bashirian, Kunde and Price</td>\n",
              "      <td>62184 Schamberger Underpass Apt. 231</td>\n",
              "      <td>New Lilianland</td>\n",
              "      <td>Iowa</td>\n",
              "      <td>76517</td>\n",
              "      <td>91000</td>\n",
              "      <td>120000</td>\n",
              "      <td>35000</td>\n",
              "      <td>C</td>\n",
              "      <td>246000</td>\n",
              "      <td>Feb sale is high</td>\n",
              "    </tr>\n",
              "    <tr>\n",
              "      <th>3</th>\n",
              "      <td>109996</td>\n",
              "      <td>D'Amore, Gleichner and Bode</td>\n",
              "      <td>155 Fadel Crescent Apt. 144</td>\n",
              "      <td>Hyattburgh</td>\n",
              "      <td>Maine</td>\n",
              "      <td>46021</td>\n",
              "      <td>45000</td>\n",
              "      <td>120000</td>\n",
              "      <td>10000</td>\n",
              "      <td>A</td>\n",
              "      <td>175000</td>\n",
              "      <td>Feb sale is high</td>\n",
              "    </tr>\n",
              "    <tr>\n",
              "      <th>4</th>\n",
              "      <td>121213</td>\n",
              "      <td>Bauch-Goldner</td>\n",
              "      <td>7274 Marissa Common</td>\n",
              "      <td>Shanahanchester</td>\n",
              "      <td>California</td>\n",
              "      <td>49681</td>\n",
              "      <td>162000</td>\n",
              "      <td>120000</td>\n",
              "      <td>35000</td>\n",
              "      <td>A</td>\n",
              "      <td>317000</td>\n",
              "      <td>Jan sale is high</td>\n",
              "    </tr>\n",
              "  </tbody>\n",
              "</table>\n",
              "</div>"
            ],
            "text/plain": [
              "   account                         name                                street  \\\n",
              "0   211829   Kerluke, Koepp and Hilpert                    34456 Sean Highway   \n",
              "1   320563               Walter-Trantow                     1311 Alvis Tunnel   \n",
              "2   648336   Bashirian, Kunde and Price  62184 Schamberger Underpass Apt. 231   \n",
              "3   109996  D'Amore, Gleichner and Bode           155 Fadel Crescent Apt. 144   \n",
              "4   121213                Bauch-Goldner                   7274 Marissa Common   \n",
              "\n",
              "              city          state  postal-code     Jan     Feb    Mar  \\\n",
              "0       New Jaycob          Texas        28752   10000   62000  35000   \n",
              "1    Port Khadijah  NorthCarolina        38365   95000   45000  35000   \n",
              "2   New Lilianland           Iowa        76517   91000  120000  35000   \n",
              "3       Hyattburgh          Maine        46021   45000  120000  10000   \n",
              "4  Shanahanchester     California        49681  162000  120000  35000   \n",
              "\n",
              "  category  total_sales               max  \n",
              "0        A       107000  Feb sale is high  \n",
              "1        B       175000  Jan sale is high  \n",
              "2        C       246000  Feb sale is high  \n",
              "3        A       175000  Feb sale is high  \n",
              "4        A       317000  Jan sale is high  "
            ]
          },
          "execution_count": 91,
          "metadata": {},
          "output_type": "execute_result"
        }
      ],
      "source": [
        "df.head()"
      ]
    },
    {
      "cell_type": "code",
      "execution_count": null,
      "id": "34ed44db",
      "metadata": {
        "id": "34ed44db",
        "outputId": "ecdf72c5-ec90-46b7-de76-dc0013c4e564"
      },
      "outputs": [
        {
          "name": "stdout",
          "output_type": "stream",
          "text": [
            "account\n",
            "name\n",
            "street\n",
            "city\n",
            "state\n",
            "postal-code\n",
            "Jan\n",
            "Feb\n",
            "Mar\n",
            "category\n",
            "total_sales\n",
            "max\n"
          ]
        }
      ],
      "source": [
        "for x in df:\n",
        "    print(x)"
      ]
    },
    {
      "cell_type": "code",
      "execution_count": null,
      "id": "e1711e18",
      "metadata": {
        "id": "e1711e18",
        "outputId": "4cdae8f1-fec5-4780-e105-b1b308b3aeb8"
      },
      "outputs": [
        {
          "name": "stdout",
          "output_type": "stream",
          "text": [
            "New Jaycob, Texas, 28752\n",
            "Port Khadijah, NorthCarolina, 38365\n",
            "New Lilianland, Iowa, 76517\n",
            "Hyattburgh, Maine, 46021\n",
            "Shanahanchester, California, 49681\n",
            "Jeremieburgh, Arkansas, 62785\n",
            "Lake Gabriellaton, Mississipi, 18008\n",
            "Deronville, RhodeIsland, 53461\n",
            "Lake Juliannton, Pennsylvania, 64415\n",
            "North Ras, Idaho, 46308\n",
            "Rosaberg, Tenessee, 47743\n",
            "Norbertomouth, NorthDakota, 31415\n",
            "East Davian, Iowa, 72686\n",
            "Goodwinmouth, RhodeIsland, 31919\n",
            "Kathryneborough, Delaware, 27933\n"
          ]
        }
      ],
      "source": [
        "#for loop to get the address which consist of city, state and postal code \n",
        "for x in df.index: \n",
        "     print(df['city'][x] +\", \"+ df['state'][x]+\", \"+str(df['postal-code'][x]))"
      ]
    },
    {
      "cell_type": "code",
      "execution_count": null,
      "id": "91bc9d5e",
      "metadata": {
        "id": "91bc9d5e",
        "outputId": "ae9efdd9-07cb-4421-9db5-527c106b7df3"
      },
      "outputs": [
        {
          "data": {
            "text/plain": [
              "category\n",
              "A    1739000\n",
              "B    1066000\n",
              "C     881000\n",
              "Name: total_sales, dtype: int64"
            ]
          },
          "execution_count": 94,
          "metadata": {},
          "output_type": "execute_result"
        }
      ],
      "source": [
        "# We display the total sales for each category using group-by\n",
        "df.groupby(['category'])['total_sales'].sum()"
      ]
    },
    {
      "cell_type": "markdown",
      "id": "964fb9ba",
      "metadata": {
        "id": "964fb9ba"
      },
      "source": [
        "# CASE STUDY: ANALYSING GOOGLE PLAY STORE DATASET"
      ]
    },
    {
      "cell_type": "markdown",
      "id": "a47957ce",
      "metadata": {
        "id": "a47957ce"
      },
      "source": [
        "# To predict the rating for a mobile app given features like size, number of downloads, etc."
      ]
    },
    {
      "cell_type": "markdown",
      "id": "6649a48e",
      "metadata": {
        "id": "6649a48e"
      },
      "source": [
        "# Data Description\n",
        "\n",
        "## Attributes\n",
        "\n",
        "● **App**: Application name\n",
        "\n",
        "● **Category**: Category the app belongs to\n",
        "\n",
        "● **Rating**: Overall user rating of the app\n",
        "\n",
        "● **Reviews**: Number of user reviews for the app\n",
        "\n",
        "● **Size**: Size of the app\n",
        "\n",
        "● **Installs**: Number of user downloads/installs for the app\n",
        "\n",
        "● **Type**: Paid or Free\n",
        "\n",
        "● **Price**: Price of the app\n",
        "\n",
        "● **Content Rating**: Age group the app is targeted at - Children / Mature 21+ / Adult\n",
        "\n",
        "● **Genres**: An app can belong to multiple genres (apart from its main category). For\n",
        "eg, a musical family game will belong to Music, Game, Family genres.\n",
        "\n",
        "● **Last Updated**: Date when the app was last updated on Play Store\n",
        "\n",
        "● **Current** Ver: Current version of the app available on Play Store\n",
        "\n",
        "● **Android Ver**: Min required Android version\n"
      ]
    },
    {
      "cell_type": "markdown",
      "id": "b5abc325",
      "metadata": {
        "id": "b5abc325"
      },
      "source": [
        "##  Install all the necessary libraries and read the provided dataset."
      ]
    },
    {
      "cell_type": "code",
      "execution_count": null,
      "id": "7c7fcf75",
      "metadata": {
        "id": "7c7fcf75"
      },
      "outputs": [],
      "source": [
        "import numpy as np\n",
        "import pandas as pd"
      ]
    },
    {
      "cell_type": "code",
      "execution_count": null,
      "id": "82f1127b",
      "metadata": {
        "id": "82f1127b",
        "outputId": "c4b611f8-6598-4f81-f375-a169164ddebb",
        "colab": {
          "base_uri": "https://localhost:8080/",
          "height": 617
        }
      },
      "outputs": [
        {
          "output_type": "execute_result",
          "data": {
            "text/plain": [
              "                                                 App        Category  Rating  \\\n",
              "0     Photo Editor & Candy Camera & Grid & ScrapBook  ART_AND_DESIGN     4.1   \n",
              "1                                Coloring book moana  ART_AND_DESIGN     3.9   \n",
              "2  U Launcher Lite – FREE Live Cool Themes, Hide ...  ART_AND_DESIGN     4.7   \n",
              "3                              Sketch - Draw & Paint  ART_AND_DESIGN     4.5   \n",
              "4              Pixel Draw - Number Art Coloring Book  ART_AND_DESIGN     4.3   \n",
              "\n",
              "  Rating_cat Reviews  Size     Installs  Type Price Content Rating  \\\n",
              "0       High     159   19M      10,000+  Free     0       Everyone   \n",
              "1       High     967   14M     500,000+  Free     0       Everyone   \n",
              "2       High   87510  8.7M   5,000,000+  Free     0       Everyone   \n",
              "3       High  215644   25M  50,000,000+  Free     0           Teen   \n",
              "4       High     967  2.8M     100,000+  Free     0       Everyone   \n",
              "\n",
              "                      Genres      Last Updated         Current Ver  \\\n",
              "0               Art & Design   January 7, 2018               1.0.0   \n",
              "1  Art & Design;Pretend Play  January 15, 2018               2.0.0   \n",
              "2               Art & Design    August 1, 2018               1.2.4   \n",
              "3               Art & Design      June 8, 2018  Varies with device   \n",
              "4    Art & Design;Creativity     June 20, 2018                 1.1   \n",
              "\n",
              "    Android Ver  \n",
              "0  4.0.3 and up  \n",
              "1  4.0.3 and up  \n",
              "2  4.0.3 and up  \n",
              "3    4.2 and up  \n",
              "4    4.4 and up  "
            ],
            "text/html": [
              "\n",
              "  <div id=\"df-ded06383-b9e0-4889-9aa6-0021651138d7\">\n",
              "    <div class=\"colab-df-container\">\n",
              "      <div>\n",
              "<style scoped>\n",
              "    .dataframe tbody tr th:only-of-type {\n",
              "        vertical-align: middle;\n",
              "    }\n",
              "\n",
              "    .dataframe tbody tr th {\n",
              "        vertical-align: top;\n",
              "    }\n",
              "\n",
              "    .dataframe thead th {\n",
              "        text-align: right;\n",
              "    }\n",
              "</style>\n",
              "<table border=\"1\" class=\"dataframe\">\n",
              "  <thead>\n",
              "    <tr style=\"text-align: right;\">\n",
              "      <th></th>\n",
              "      <th>App</th>\n",
              "      <th>Category</th>\n",
              "      <th>Rating</th>\n",
              "      <th>Rating_cat</th>\n",
              "      <th>Reviews</th>\n",
              "      <th>Size</th>\n",
              "      <th>Installs</th>\n",
              "      <th>Type</th>\n",
              "      <th>Price</th>\n",
              "      <th>Content Rating</th>\n",
              "      <th>Genres</th>\n",
              "      <th>Last Updated</th>\n",
              "      <th>Current Ver</th>\n",
              "      <th>Android Ver</th>\n",
              "    </tr>\n",
              "  </thead>\n",
              "  <tbody>\n",
              "    <tr>\n",
              "      <th>0</th>\n",
              "      <td>Photo Editor &amp; Candy Camera &amp; Grid &amp; ScrapBook</td>\n",
              "      <td>ART_AND_DESIGN</td>\n",
              "      <td>4.1</td>\n",
              "      <td>High</td>\n",
              "      <td>159</td>\n",
              "      <td>19M</td>\n",
              "      <td>10,000+</td>\n",
              "      <td>Free</td>\n",
              "      <td>0</td>\n",
              "      <td>Everyone</td>\n",
              "      <td>Art &amp; Design</td>\n",
              "      <td>January 7, 2018</td>\n",
              "      <td>1.0.0</td>\n",
              "      <td>4.0.3 and up</td>\n",
              "    </tr>\n",
              "    <tr>\n",
              "      <th>1</th>\n",
              "      <td>Coloring book moana</td>\n",
              "      <td>ART_AND_DESIGN</td>\n",
              "      <td>3.9</td>\n",
              "      <td>High</td>\n",
              "      <td>967</td>\n",
              "      <td>14M</td>\n",
              "      <td>500,000+</td>\n",
              "      <td>Free</td>\n",
              "      <td>0</td>\n",
              "      <td>Everyone</td>\n",
              "      <td>Art &amp; Design;Pretend Play</td>\n",
              "      <td>January 15, 2018</td>\n",
              "      <td>2.0.0</td>\n",
              "      <td>4.0.3 and up</td>\n",
              "    </tr>\n",
              "    <tr>\n",
              "      <th>2</th>\n",
              "      <td>U Launcher Lite – FREE Live Cool Themes, Hide ...</td>\n",
              "      <td>ART_AND_DESIGN</td>\n",
              "      <td>4.7</td>\n",
              "      <td>High</td>\n",
              "      <td>87510</td>\n",
              "      <td>8.7M</td>\n",
              "      <td>5,000,000+</td>\n",
              "      <td>Free</td>\n",
              "      <td>0</td>\n",
              "      <td>Everyone</td>\n",
              "      <td>Art &amp; Design</td>\n",
              "      <td>August 1, 2018</td>\n",
              "      <td>1.2.4</td>\n",
              "      <td>4.0.3 and up</td>\n",
              "    </tr>\n",
              "    <tr>\n",
              "      <th>3</th>\n",
              "      <td>Sketch - Draw &amp; Paint</td>\n",
              "      <td>ART_AND_DESIGN</td>\n",
              "      <td>4.5</td>\n",
              "      <td>High</td>\n",
              "      <td>215644</td>\n",
              "      <td>25M</td>\n",
              "      <td>50,000,000+</td>\n",
              "      <td>Free</td>\n",
              "      <td>0</td>\n",
              "      <td>Teen</td>\n",
              "      <td>Art &amp; Design</td>\n",
              "      <td>June 8, 2018</td>\n",
              "      <td>Varies with device</td>\n",
              "      <td>4.2 and up</td>\n",
              "    </tr>\n",
              "    <tr>\n",
              "      <th>4</th>\n",
              "      <td>Pixel Draw - Number Art Coloring Book</td>\n",
              "      <td>ART_AND_DESIGN</td>\n",
              "      <td>4.3</td>\n",
              "      <td>High</td>\n",
              "      <td>967</td>\n",
              "      <td>2.8M</td>\n",
              "      <td>100,000+</td>\n",
              "      <td>Free</td>\n",
              "      <td>0</td>\n",
              "      <td>Everyone</td>\n",
              "      <td>Art &amp; Design;Creativity</td>\n",
              "      <td>June 20, 2018</td>\n",
              "      <td>1.1</td>\n",
              "      <td>4.4 and up</td>\n",
              "    </tr>\n",
              "  </tbody>\n",
              "</table>\n",
              "</div>\n",
              "      <button class=\"colab-df-convert\" onclick=\"convertToInteractive('df-ded06383-b9e0-4889-9aa6-0021651138d7')\"\n",
              "              title=\"Convert this dataframe to an interactive table.\"\n",
              "              style=\"display:none;\">\n",
              "        \n",
              "  <svg xmlns=\"http://www.w3.org/2000/svg\" height=\"24px\"viewBox=\"0 0 24 24\"\n",
              "       width=\"24px\">\n",
              "    <path d=\"M0 0h24v24H0V0z\" fill=\"none\"/>\n",
              "    <path d=\"M18.56 5.44l.94 2.06.94-2.06 2.06-.94-2.06-.94-.94-2.06-.94 2.06-2.06.94zm-11 1L8.5 8.5l.94-2.06 2.06-.94-2.06-.94L8.5 2.5l-.94 2.06-2.06.94zm10 10l.94 2.06.94-2.06 2.06-.94-2.06-.94-.94-2.06-.94 2.06-2.06.94z\"/><path d=\"M17.41 7.96l-1.37-1.37c-.4-.4-.92-.59-1.43-.59-.52 0-1.04.2-1.43.59L10.3 9.45l-7.72 7.72c-.78.78-.78 2.05 0 2.83L4 21.41c.39.39.9.59 1.41.59.51 0 1.02-.2 1.41-.59l7.78-7.78 2.81-2.81c.8-.78.8-2.07 0-2.86zM5.41 20L4 18.59l7.72-7.72 1.47 1.35L5.41 20z\"/>\n",
              "  </svg>\n",
              "      </button>\n",
              "      \n",
              "  <style>\n",
              "    .colab-df-container {\n",
              "      display:flex;\n",
              "      flex-wrap:wrap;\n",
              "      gap: 12px;\n",
              "    }\n",
              "\n",
              "    .colab-df-convert {\n",
              "      background-color: #E8F0FE;\n",
              "      border: none;\n",
              "      border-radius: 50%;\n",
              "      cursor: pointer;\n",
              "      display: none;\n",
              "      fill: #1967D2;\n",
              "      height: 32px;\n",
              "      padding: 0 0 0 0;\n",
              "      width: 32px;\n",
              "    }\n",
              "\n",
              "    .colab-df-convert:hover {\n",
              "      background-color: #E2EBFA;\n",
              "      box-shadow: 0px 1px 2px rgba(60, 64, 67, 0.3), 0px 1px 3px 1px rgba(60, 64, 67, 0.15);\n",
              "      fill: #174EA6;\n",
              "    }\n",
              "\n",
              "    [theme=dark] .colab-df-convert {\n",
              "      background-color: #3B4455;\n",
              "      fill: #D2E3FC;\n",
              "    }\n",
              "\n",
              "    [theme=dark] .colab-df-convert:hover {\n",
              "      background-color: #434B5C;\n",
              "      box-shadow: 0px 1px 3px 1px rgba(0, 0, 0, 0.15);\n",
              "      filter: drop-shadow(0px 1px 2px rgba(0, 0, 0, 0.3));\n",
              "      fill: #FFFFFF;\n",
              "    }\n",
              "  </style>\n",
              "\n",
              "      <script>\n",
              "        const buttonEl =\n",
              "          document.querySelector('#df-ded06383-b9e0-4889-9aa6-0021651138d7 button.colab-df-convert');\n",
              "        buttonEl.style.display =\n",
              "          google.colab.kernel.accessAllowed ? 'block' : 'none';\n",
              "\n",
              "        async function convertToInteractive(key) {\n",
              "          const element = document.querySelector('#df-ded06383-b9e0-4889-9aa6-0021651138d7');\n",
              "          const dataTable =\n",
              "            await google.colab.kernel.invokeFunction('convertToInteractive',\n",
              "                                                     [key], {});\n",
              "          if (!dataTable) return;\n",
              "\n",
              "          const docLinkHtml = 'Like what you see? Visit the ' +\n",
              "            '<a target=\"_blank\" href=https://colab.research.google.com/notebooks/data_table.ipynb>data table notebook</a>'\n",
              "            + ' to learn more about interactive tables.';\n",
              "          element.innerHTML = '';\n",
              "          dataTable['output_type'] = 'display_data';\n",
              "          await google.colab.output.renderOutput(dataTable, element);\n",
              "          const docLink = document.createElement('div');\n",
              "          docLink.innerHTML = docLinkHtml;\n",
              "          element.appendChild(docLink);\n",
              "        }\n",
              "      </script>\n",
              "    </div>\n",
              "  </div>\n",
              "  "
            ]
          },
          "metadata": {},
          "execution_count": 2
        }
      ],
      "source": [
        "df = pd.read_csv(\"Apps_data.csv\")\n",
        "df.head()"
      ]
    },
    {
      "cell_type": "markdown",
      "id": "69c89302",
      "metadata": {
        "id": "69c89302"
      },
      "source": [
        "##  Check the info and summary statistics of the dataset."
      ]
    },
    {
      "cell_type": "code",
      "execution_count": null,
      "id": "d96a3791",
      "metadata": {
        "id": "d96a3791",
        "colab": {
          "base_uri": "https://localhost:8080/",
          "height": 166
        },
        "outputId": "4e68c701-2104-49a1-a2d2-61c6e4e1a282"
      },
      "outputs": [
        {
          "output_type": "error",
          "ename": "NameError",
          "evalue": "ignored",
          "traceback": [
            "\u001b[0;31m---------------------------------------------------------------------------\u001b[0m",
            "\u001b[0;31mNameError\u001b[0m                                 Traceback (most recent call last)",
            "\u001b[0;32m<ipython-input-1-a74c58233b9e>\u001b[0m in \u001b[0;36m<module>\u001b[0;34m()\u001b[0m\n\u001b[0;32m----> 1\u001b[0;31m \u001b[0mdf\u001b[0m\u001b[0;34m.\u001b[0m\u001b[0minfo\u001b[0m\u001b[0;34m(\u001b[0m\u001b[0;34m)\u001b[0m\u001b[0;34m\u001b[0m\u001b[0;34m\u001b[0m\u001b[0m\n\u001b[0m",
            "\u001b[0;31mNameError\u001b[0m: name 'df' is not defined"
          ]
        }
      ],
      "source": [
        "df.info()"
      ]
    },
    {
      "cell_type": "code",
      "execution_count": null,
      "id": "f589b1fe",
      "metadata": {
        "id": "f589b1fe"
      },
      "outputs": [],
      "source": [
        "df.isna().sum()"
      ]
    },
    {
      "cell_type": "markdown",
      "id": "7756cfb2",
      "metadata": {
        "id": "7756cfb2"
      },
      "source": [
        "There are some missing values in Rating, Type, Content Rating, Current ver, Android Ver.\n",
        "\n",
        "Next, Check if there are any duplicate entries for the apps. "
      ]
    },
    {
      "cell_type": "markdown",
      "id": "44483d40",
      "metadata": {
        "id": "44483d40"
      },
      "source": [
        "## Check for duplicates"
      ]
    },
    {
      "cell_type": "code",
      "execution_count": null,
      "id": "22fc2fe5",
      "metadata": {
        "id": "22fc2fe5",
        "colab": {
          "base_uri": "https://localhost:8080/"
        },
        "outputId": "4a4fb449-5ff6-422f-d583-41e19ce4e02e"
      },
      "outputs": [
        {
          "output_type": "stream",
          "name": "stdout",
          "text": [
            "ROBLOX                                                9\n",
            "CBS Sports App - Scores, News, Stats & Watch Live     8\n",
            "ESPN                                                  7\n",
            "Duolingo: Learn Languages Free                        7\n",
            "Candy Crush Saga                                      7\n",
            "                                                     ..\n",
            "Meet U - Get Friends for Snapchat, Kik & Instagram    1\n",
            "U-Report                                              1\n",
            "U of I Community Credit Union                         1\n",
            "Waiting For U Launcher Theme                          1\n",
            "iHoroscope - 2018 Daily Horoscope & Astrology         1\n",
            "Name: App, Length: 9660, dtype: int64\n"
          ]
        }
      ],
      "source": [
        "print(df.App.value_counts())"
      ]
    },
    {
      "cell_type": "code",
      "execution_count": null,
      "id": "f3125987",
      "metadata": {
        "id": "f3125987",
        "colab": {
          "base_uri": "https://localhost:8080/"
        },
        "outputId": "3b269318-9a39-4545-bc12-48183ae22f0b"
      },
      "outputs": [
        {
          "output_type": "execute_result",
          "data": {
            "text/plain": [
              "0"
            ]
          },
          "metadata": {},
          "execution_count": 7
        }
      ],
      "source": [
        "df = df.drop_duplicates(subset=['App'])\n",
        "df.duplicated(subset=['App']).sum()"
      ]
    },
    {
      "cell_type": "code",
      "execution_count": null,
      "id": "565ebcd2",
      "metadata": {
        "id": "565ebcd2",
        "colab": {
          "base_uri": "https://localhost:8080/"
        },
        "outputId": "e2c3dbeb-144e-49ab-dd32-98f609c52476"
      },
      "outputs": [
        {
          "output_type": "stream",
          "name": "stdout",
          "text": [
            "Photo Editor & Candy Camera & Grid & ScrapBook    1\n",
            "CK Pharmacies                                     1\n",
            "CK Call NEW                                       1\n",
            "Ck Coif                                           1\n",
            "CONTRACT KILLER: ZOMBIES                          1\n",
            "                                                 ..\n",
            "Bike Race Free - Top Motorcycle Racing Games      1\n",
            "Dance School Stories - Dance Dreams Come True     1\n",
            "3D Bowling                                        1\n",
            "Mind Games Pro                                    1\n",
            "iHoroscope - 2018 Daily Horoscope & Astrology     1\n",
            "Name: App, Length: 9660, dtype: int64\n"
          ]
        }
      ],
      "source": [
        "#re-check duplicate apps\n",
        "print(df.App.value_counts())"
      ]
    },
    {
      "cell_type": "markdown",
      "id": "cb036b70",
      "metadata": {
        "id": "cb036b70"
      },
      "source": [
        "##  Check if there are any wrong values in the ‘Category’ column"
      ]
    },
    {
      "cell_type": "code",
      "execution_count": null,
      "id": "58693e65",
      "metadata": {
        "id": "58693e65",
        "colab": {
          "base_uri": "https://localhost:8080/"
        },
        "outputId": "387f6a49-51f5-44c6-c8a2-239cf23683cb"
      },
      "outputs": [
        {
          "output_type": "stream",
          "name": "stdout",
          "text": [
            "FAMILY                 1832\n",
            "GAME                    959\n",
            "TOOLS                   827\n",
            "BUSINESS                420\n",
            "MEDICAL                 395\n",
            "PERSONALIZATION         376\n",
            "PRODUCTIVITY            374\n",
            "LIFESTYLE               369\n",
            "FINANCE                 345\n",
            "SPORTS                  325\n",
            "COMMUNICATION           315\n",
            "HEALTH_AND_FITNESS      288\n",
            "PHOTOGRAPHY             281\n",
            "NEWS_AND_MAGAZINES      254\n",
            "SOCIAL                  239\n",
            "BOOKS_AND_REFERENCE     222\n",
            "TRAVEL_AND_LOCAL        219\n",
            "SHOPPING                202\n",
            "DATING                  171\n",
            "VIDEO_PLAYERS           163\n",
            "MAPS_AND_NAVIGATION     131\n",
            "EDUCATION               119\n",
            "FOOD_AND_DRINK          112\n",
            "ENTERTAINMENT           102\n",
            "AUTO_AND_VEHICLES        85\n",
            "LIBRARIES_AND_DEMO       84\n",
            "WEATHER                  79\n",
            "HOUSE_AND_HOME           74\n",
            "ART_AND_DESIGN           64\n",
            "EVENTS                   64\n",
            "PARENTING                60\n",
            "COMICS                   56\n",
            "BEAUTY                   53\n",
            "1.9                       1\n",
            "Name: Category, dtype: int64\n"
          ]
        }
      ],
      "source": [
        "print(df.Category.value_counts())"
      ]
    },
    {
      "cell_type": "markdown",
      "id": "3625f207",
      "metadata": {
        "id": "3625f207"
      },
      "source": [
        "**‘Category’** has an invalid entry which is **1.9**. Category **FAMILY** has the highest number of apps.\n",
        "We shall replace entry **1.9** and impute that with most occuring entry which is **Family**"
      ]
    },
    {
      "cell_type": "code",
      "execution_count": null,
      "id": "d6ebb552",
      "metadata": {
        "id": "d6ebb552",
        "colab": {
          "base_uri": "https://localhost:8080/"
        },
        "outputId": "b6c15a62-8e3b-4df8-cd25-f2e36b073423"
      },
      "outputs": [
        {
          "output_type": "execute_result",
          "data": {
            "text/plain": [
              "FAMILY                 1833\n",
              "GAME                    959\n",
              "TOOLS                   827\n",
              "BUSINESS                420\n",
              "MEDICAL                 395\n",
              "PERSONALIZATION         376\n",
              "PRODUCTIVITY            374\n",
              "LIFESTYLE               369\n",
              "FINANCE                 345\n",
              "SPORTS                  325\n",
              "COMMUNICATION           315\n",
              "HEALTH_AND_FITNESS      288\n",
              "PHOTOGRAPHY             281\n",
              "NEWS_AND_MAGAZINES      254\n",
              "SOCIAL                  239\n",
              "BOOKS_AND_REFERENCE     222\n",
              "TRAVEL_AND_LOCAL        219\n",
              "SHOPPING                202\n",
              "DATING                  171\n",
              "VIDEO_PLAYERS           163\n",
              "MAPS_AND_NAVIGATION     131\n",
              "EDUCATION               119\n",
              "FOOD_AND_DRINK          112\n",
              "ENTERTAINMENT           102\n",
              "AUTO_AND_VEHICLES        85\n",
              "LIBRARIES_AND_DEMO       84\n",
              "WEATHER                  79\n",
              "HOUSE_AND_HOME           74\n",
              "EVENTS                   64\n",
              "ART_AND_DESIGN           64\n",
              "PARENTING                60\n",
              "COMICS                   56\n",
              "BEAUTY                   53\n",
              "Name: Category, dtype: int64"
            ]
          },
          "metadata": {},
          "execution_count": 10
        }
      ],
      "source": [
        "df['Category'].replace(\"1.9\", \"FAMILY\", inplace=True)\n",
        "df['Category'].value_counts()"
      ]
    },
    {
      "cell_type": "markdown",
      "id": "eeef1663",
      "metadata": {
        "id": "eeef1663"
      },
      "source": [
        "##  Work on **Ratings** column"
      ]
    },
    {
      "cell_type": "code",
      "execution_count": null,
      "id": "232cf53f",
      "metadata": {
        "id": "232cf53f",
        "colab": {
          "base_uri": "https://localhost:8080/"
        },
        "outputId": "ed174d40-5eda-481f-d9c5-34851195f82c"
      },
      "outputs": [
        {
          "output_type": "execute_result",
          "data": {
            "text/plain": [
              "1474"
            ]
          },
          "metadata": {},
          "execution_count": 3
        }
      ],
      "source": [
        "df['Rating'].isna().sum()  #check for missing values"
      ]
    },
    {
      "cell_type": "markdown",
      "id": "7f4598ef",
      "metadata": {
        "id": "7f4598ef"
      },
      "source": [
        "Rating column has 1463 missing values. We shall fill with mean"
      ]
    },
    {
      "cell_type": "code",
      "execution_count": null,
      "id": "859190dc",
      "metadata": {
        "id": "859190dc",
        "colab": {
          "base_uri": "https://localhost:8080/"
        },
        "outputId": "60d72a0f-1b8d-4422-bab1-7fd91ced20d5"
      },
      "outputs": [
        {
          "output_type": "execute_result",
          "data": {
            "text/plain": [
              "0"
            ]
          },
          "metadata": {},
          "execution_count": 4
        }
      ],
      "source": [
        "df['Rating'].fillna(df['Rating'].mean(), inplace=True)\n",
        "df['Rating'].isna().sum()"
      ]
    },
    {
      "cell_type": "code",
      "execution_count": null,
      "id": "357f6ea5",
      "metadata": {
        "id": "357f6ea5",
        "colab": {
          "base_uri": "https://localhost:8080/"
        },
        "outputId": "5f20c93d-8afc-43c5-f6b3-c4ab928739dd"
      },
      "outputs": [
        {
          "output_type": "stream",
          "name": "stdout",
          "text": [
            "<class 'pandas.core.frame.DataFrame'>\n",
            "RangeIndex: 10841 entries, 0 to 10840\n",
            "Data columns (total 14 columns):\n",
            " #   Column          Non-Null Count  Dtype  \n",
            "---  ------          --------------  -----  \n",
            " 0   App             10841 non-null  object \n",
            " 1   Category        10841 non-null  object \n",
            " 2   Rating          10841 non-null  float64\n",
            " 3   Rating_cat      10841 non-null  object \n",
            " 4   Reviews         10841 non-null  object \n",
            " 5   Size            10841 non-null  object \n",
            " 6   Installs        10841 non-null  object \n",
            " 7   Type            10840 non-null  object \n",
            " 8   Price           10841 non-null  object \n",
            " 9   Content Rating  10840 non-null  object \n",
            " 10  Genres          10841 non-null  object \n",
            " 11  Last Updated    10841 non-null  object \n",
            " 12  Current Ver     10833 non-null  object \n",
            " 13  Android Ver     10838 non-null  object \n",
            "dtypes: float64(1), object(13)\n",
            "memory usage: 1.2+ MB\n"
          ]
        }
      ],
      "source": [
        "df.info()"
      ]
    },
    {
      "cell_type": "markdown",
      "id": "31fbb2fd",
      "metadata": {
        "id": "31fbb2fd"
      },
      "source": [
        "##  Make the values of **‘Size’** as integers by replacing **M** and **K** with correct values. Replace **“Varies with device”** with **200000** and convert all the values to numeric."
      ]
    },
    {
      "cell_type": "code",
      "execution_count": null,
      "id": "f85e1af8",
      "metadata": {
        "id": "f85e1af8"
      },
      "outputs": [],
      "source": [
        "df[\"Size\"] = df[\"Size\"].str.replace('Varies with device', '200000')\n",
        "df[\"Size\"] = df[\"Size\"].str.replace('M', '000000')\n",
        "df[\"Size\"] = df[\"Size\"].str.replace('K', '000')\n",
        "df[\"Size\"] = pd.to_numeric(df[\"Size\"], errors = 'coerce')    #It will replace all non-numeric values with NaN.\n",
        "df[\"Size\"] = df[\"Size\"].fillna(df[\"Size\"].mean())"
      ]
    },
    {
      "cell_type": "code",
      "execution_count": null,
      "id": "34192bfc",
      "metadata": {
        "id": "34192bfc"
      },
      "outputs": [],
      "source": [
        "df.info()"
      ]
    },
    {
      "cell_type": "markdown",
      "id": "dcdf1d18",
      "metadata": {
        "id": "dcdf1d18"
      },
      "source": [
        "##  Remove “,” and “+” from the values of the “Installs” column and change the datatype."
      ]
    },
    {
      "cell_type": "code",
      "execution_count": null,
      "id": "c5347d21",
      "metadata": {
        "id": "c5347d21"
      },
      "outputs": [],
      "source": [
        "df[\"Installs\"] = df[\"Installs\"].str.replace(',', '')\n",
        "df[\"Installs\"] = df[\"Installs\"].str.replace('+', '')\n",
        "df[\"Installs\"] = pd.to_numeric(df[\"Installs\"], errors = 'coerce')"
      ]
    },
    {
      "cell_type": "code",
      "execution_count": null,
      "id": "cf388808",
      "metadata": {
        "id": "cf388808"
      },
      "outputs": [],
      "source": [
        "df.info()"
      ]
    },
    {
      "cell_type": "markdown",
      "id": "cb09d1d0",
      "metadata": {
        "id": "cb09d1d0"
      },
      "source": [
        "##  What is the percentage of paid apps in the data?"
      ]
    },
    {
      "cell_type": "code",
      "execution_count": null,
      "id": "db48c0d7",
      "metadata": {
        "id": "db48c0d7"
      },
      "outputs": [],
      "source": [
        "df[\"Type\"].value_counts()"
      ]
    },
    {
      "cell_type": "code",
      "execution_count": null,
      "id": "b6f421ab",
      "metadata": {
        "id": "b6f421ab"
      },
      "outputs": [],
      "source": [
        "#Since there is a type of 0 , we shall replace it with Free\n",
        "df[\"Type\"].replace('0', 'Free', inplace=True)"
      ]
    },
    {
      "cell_type": "code",
      "execution_count": null,
      "id": "77120d03",
      "metadata": {
        "id": "77120d03"
      },
      "outputs": [],
      "source": [
        "df[\"Type\"].value_counts()"
      ]
    },
    {
      "cell_type": "code",
      "execution_count": null,
      "id": "9a2a9965",
      "metadata": {
        "id": "9a2a9965"
      },
      "outputs": [],
      "source": [
        "Paid_apps = df[df.Type == 'Paid'].shape[0]\n",
        "Free_apps = df[df.Type == 'Free'].shape[0]\n",
        "print(\"Paid App Percentage=\",round((Paid_apps * 100)/(Paid_apps + Free_apps),2),\"%\")"
      ]
    },
    {
      "cell_type": "markdown",
      "id": "3de4148a",
      "metadata": {
        "id": "3de4148a"
      },
      "source": [
        "##  Remove the $ sign the “Price” column values and make it a numerical column."
      ]
    },
    {
      "cell_type": "code",
      "execution_count": null,
      "id": "0f6bf31b",
      "metadata": {
        "id": "0f6bf31b"
      },
      "outputs": [],
      "source": [
        "df[\"Price\"] = df[\"Price\"].str.replace('$', '')\n",
        "df[\"Price\"] = pd.to_numeric(df[\"Price\"], errors = 'coerce')"
      ]
    },
    {
      "cell_type": "code",
      "execution_count": null,
      "id": "e3b913f4",
      "metadata": {
        "id": "e3b913f4"
      },
      "outputs": [],
      "source": [
        "df.info()"
      ]
    },
    {
      "cell_type": "markdown",
      "id": "ef1c6ef6",
      "metadata": {
        "id": "ef1c6ef6"
      },
      "source": [
        "##  The most expensive app and how much does it cost"
      ]
    },
    {
      "cell_type": "code",
      "execution_count": null,
      "id": "45bd2699",
      "metadata": {
        "id": "45bd2699"
      },
      "outputs": [],
      "source": [
        "expensive_ap = df.sort_values(by ='Price', ascending=False )\n",
        "expensive_ap.head(1)"
      ]
    },
    {
      "cell_type": "markdown",
      "id": "c0659d44",
      "metadata": {
        "id": "c0659d44"
      },
      "source": [
        "Most expensive app is **I'm Rich - Trump Edition** and it costs **400$**"
      ]
    },
    {
      "cell_type": "markdown",
      "id": "7836f47b",
      "metadata": {
        "id": "7836f47b"
      },
      "source": [
        "##  Drop columns that you feel cannot be used for model building. Example-App, Content\n",
        "Rating, Genre, Last updated etc. from the final data frame"
      ]
    },
    {
      "cell_type": "code",
      "execution_count": null,
      "id": "ffb6208d",
      "metadata": {
        "id": "ffb6208d",
        "outputId": "c772830a-ee07-4331-a15a-b038b9802eb3",
        "colab": {
          "base_uri": "https://localhost:8080/",
          "height": 201
        }
      },
      "outputs": [
        {
          "output_type": "error",
          "ename": "NameError",
          "evalue": "ignored",
          "traceback": [
            "\u001b[0;31m---------------------------------------------------------------------------\u001b[0m",
            "\u001b[0;31mNameError\u001b[0m                                 Traceback (most recent call last)",
            "\u001b[0;32m<ipython-input-1-651bd8a22449>\u001b[0m in \u001b[0;36m<module>\u001b[0;34m()\u001b[0m\n\u001b[0;32m----> 1\u001b[0;31m \u001b[0mdf\u001b[0m\u001b[0;34m.\u001b[0m\u001b[0mdrop\u001b[0m\u001b[0;34m(\u001b[0m\u001b[0;34m[\u001b[0m\u001b[0;34m'App'\u001b[0m\u001b[0;34m,\u001b[0m \u001b[0;34m'Content Rating'\u001b[0m\u001b[0;34m,\u001b[0m \u001b[0;34m'Genres'\u001b[0m\u001b[0;34m,\u001b[0m \u001b[0;34m\"Last Updated\"\u001b[0m\u001b[0;34m,\u001b[0m \u001b[0;34m\"Current Ver\"\u001b[0m\u001b[0;34m,\u001b[0m \u001b[0;34m\"Android Ver\"\u001b[0m\u001b[0;34m]\u001b[0m\u001b[0;34m,\u001b[0m \u001b[0maxis\u001b[0m \u001b[0;34m=\u001b[0m \u001b[0;36m1\u001b[0m\u001b[0;34m,\u001b[0m \u001b[0minplace\u001b[0m\u001b[0;34m=\u001b[0m\u001b[0;32mTrue\u001b[0m\u001b[0;34m)\u001b[0m\u001b[0;34m\u001b[0m\u001b[0;34m\u001b[0m\u001b[0m\n\u001b[0m\u001b[1;32m      2\u001b[0m \u001b[0mdf\u001b[0m\u001b[0;34m.\u001b[0m\u001b[0mhead\u001b[0m\u001b[0;34m(\u001b[0m\u001b[0;34m)\u001b[0m\u001b[0;34m\u001b[0m\u001b[0;34m\u001b[0m\u001b[0m\n",
            "\u001b[0;31mNameError\u001b[0m: name 'df' is not defined"
          ]
        }
      ],
      "source": [
        "df.drop(['App', 'Content Rating', 'Genres', \"Last Updated\", \"Current Ver\", \"Android Ver\"], axis = 1, inplace=True)\n",
        "df.head()"
      ]
    },
    {
      "cell_type": "code",
      "execution_count": null,
      "id": "7d57f22f",
      "metadata": {
        "id": "7d57f22f"
      },
      "outputs": [],
      "source": []
    },
    {
      "cell_type": "code",
      "execution_count": null,
      "id": "a92d5d6b",
      "metadata": {
        "id": "a92d5d6b"
      },
      "outputs": [],
      "source": []
    },
    {
      "cell_type": "code",
      "execution_count": null,
      "id": "61d9997b",
      "metadata": {
        "id": "61d9997b"
      },
      "outputs": [],
      "source": []
    },
    {
      "cell_type": "code",
      "execution_count": null,
      "id": "f33793f6",
      "metadata": {
        "id": "f33793f6"
      },
      "outputs": [],
      "source": []
    }
  ],
  "metadata": {
    "kernelspec": {
      "display_name": "Python 3.6 (tensorflow)",
      "language": "python",
      "name": "tensorflow"
    },
    "language_info": {
      "codemirror_mode": {
        "name": "ipython",
        "version": 3
      },
      "file_extension": ".py",
      "mimetype": "text/x-python",
      "name": "python",
      "nbconvert_exporter": "python",
      "pygments_lexer": "ipython3",
      "version": "3.7.10"
    },
    "colab": {
      "provenance": [],
      "collapsed_sections": [
        "2b1f7fc2",
        "149e49e9",
        "94648653",
        "7e8cebae",
        "fd329d95",
        "b5abc325",
        "69c89302",
        "44483d40",
        "cb036b70",
        "eeef1663",
        "31fbb2fd",
        "dcdf1d18",
        "cb09d1d0",
        "3de4148a",
        "ef1c6ef6"
      ]
    },
    "accelerator": "GPU",
    "gpuClass": "standard"
  },
  "nbformat": 4,
  "nbformat_minor": 5
}